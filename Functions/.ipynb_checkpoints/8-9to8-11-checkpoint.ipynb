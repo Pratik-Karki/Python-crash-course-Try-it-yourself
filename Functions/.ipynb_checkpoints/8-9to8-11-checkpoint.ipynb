{
 "cells": [
  {
   "cell_type": "markdown",
   "id": "7a38a191",
   "metadata": {},
   "source": [
    "<h3>8-9. Messages</h3>"
   ]
  },
  {
   "cell_type": "code",
   "execution_count": null,
   "id": "71e51c05",
   "metadata": {},
   "outputs": [],
   "source": []
  },
  {
   "cell_type": "markdown",
   "id": "e978fd68",
   "metadata": {},
   "source": [
    "<h3>8-10. Sending Messages</h3>"
   ]
  },
  {
   "cell_type": "code",
   "execution_count": null,
   "id": "365821f7",
   "metadata": {},
   "outputs": [],
   "source": []
  },
  {
   "cell_type": "markdown",
   "id": "a3bc5a75",
   "metadata": {},
   "source": [
    "<h3>8-11. Archived Messages</h3>"
   ]
  },
  {
   "cell_type": "code",
   "execution_count": null,
   "id": "4cbfdc2a",
   "metadata": {},
   "outputs": [],
   "source": []
  }
 ],
 "metadata": {
  "kernelspec": {
   "display_name": "Python 3 (ipykernel)",
   "language": "python",
   "name": "python3"
  },
  "language_info": {
   "codemirror_mode": {
    "name": "ipython",
    "version": 3
   },
   "file_extension": ".py",
   "mimetype": "text/x-python",
   "name": "python",
   "nbconvert_exporter": "python",
   "pygments_lexer": "ipython3",
   "version": "3.11.4"
  }
 },
 "nbformat": 4,
 "nbformat_minor": 5
}
