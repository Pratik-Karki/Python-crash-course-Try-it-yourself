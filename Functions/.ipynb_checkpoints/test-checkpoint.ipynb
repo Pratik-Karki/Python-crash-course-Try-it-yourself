{
 "cells": [
  {
   "cell_type": "code",
   "execution_count": 1,
   "id": "2ce4ecce",
   "metadata": {},
   "outputs": [
    {
     "name": "stdout",
     "output_type": "stream",
     "text": [
      "Hello world this is function helo\n"
     ]
    }
   ],
   "source": [
    "def helo():\n",
    "    print(\"Hello world this is function helo\")\n",
    "helo()\n",
    "    "
   ]
  },
  {
   "cell_type": "code",
   "execution_count": 21,
   "id": "c3084eea",
   "metadata": {},
   "outputs": [
    {
     "name": "stdout",
     "output_type": "stream",
     "text": [
      "[1, 2, 3, 4, 5, 6, 7, 8, 9]\n",
      "Hello world this is function helo\n",
      "Hello world this is function helo\n",
      "Hello world this is function helo\n",
      "Hello world this is function helo\n",
      "Hello world this is function helo\n"
     ]
    }
   ],
   "source": [
    "lis = list(range(1,10))\n",
    "print(lis)\n",
    "active = True\n",
    "while active:\n",
    "    for number in lis:\n",
    "        if number <= 5:\n",
    "            helo()\n",
    "        else:\n",
    "            active = False"
   ]
  },
  {
   "cell_type": "code",
   "execution_count": 6,
   "id": "53906468",
   "metadata": {},
   "outputs": [],
   "source": [
    "def formatted_name(first_name, last_name):\n",
    "    full_name = f\"{first_name.title()} {last_name.title()}\"\n",
    "    return full_name\n",
    "\n",
    "    "
   ]
  },
  {
   "cell_type": "code",
   "execution_count": 11,
   "id": "5bb832e1",
   "metadata": {},
   "outputs": [
    {
     "name": "stdout",
     "output_type": "stream",
     "text": [
      "Pratik Karki\n"
     ]
    }
   ],
   "source": [
    "full = formatted_name('pratik','karki')\n",
    "print(full)"
   ]
  },
  {
   "cell_type": "code",
   "execution_count": 18,
   "id": "5055f443",
   "metadata": {},
   "outputs": [],
   "source": [
    "def full_name(first_name,last_name,middle_name = ''):\n",
    "    full_name = {'first_name':first_name,'last_name':last_name,}\n",
    "    if middle_name:\n",
    "        full_name['middle_name'] = middle_name\n",
    "    return full_name"
   ]
  },
  {
   "cell_type": "code",
   "execution_count": 25,
   "id": "7c08d143",
   "metadata": {},
   "outputs": [
    {
     "data": {
      "text/plain": [
       "{'first_name': 'pratik', 'last_name': 'karki', 'middle_name': 'bahadur'}"
      ]
     },
     "execution_count": 25,
     "metadata": {},
     "output_type": "execute_result"
    }
   ],
   "source": [
    "full_name('pratik','karki','bahadur')"
   ]
  },
  {
   "cell_type": "code",
   "execution_count": 26,
   "id": "8ef688a6",
   "metadata": {},
   "outputs": [],
   "source": [
    "def formatted_name(first_name, last_name):\n",
    "    full_name = f\"{first_name.title()} {last_name.title()}\"\n",
    "    return full_name"
   ]
  },
  {
   "cell_type": "code",
   "execution_count": 28,
   "id": "134397f4",
   "metadata": {},
   "outputs": [
    {
     "name": "stdout",
     "output_type": "stream",
     "text": [
      "what is your first name?pratik\n",
      "what is your last name?karki\n",
      "Pratik Karki\n",
      "what is your first name?q\n"
     ]
    }
   ],
   "source": [
    "while True:\n",
    "    f_input = input(\"what is your first name?\")\n",
    "    if f_input == 'q':\n",
    "        break\n",
    "    l_input = input(\"what is your last name?\")\n",
    "    if l_input == 'q':\n",
    "        break\n",
    "    format_name = formatted_name(f_input,l_input)\n",
    "    print(format_name)"
   ]
  },
  {
   "cell_type": "code",
   "execution_count": 31,
   "id": "6a441a11",
   "metadata": {},
   "outputs": [
    {
     "name": "stdout",
     "output_type": "stream",
     "text": [
      "key = name\n",
      "value = python crash course\n",
      "key = title\n",
      "value = what to write\n"
     ]
    }
   ],
   "source": [
    "def dic(book):\n",
    "    for key,value in book.items():\n",
    "        print(f\"key = {key}\")\n",
    "        print(f\"value = {value}\")\n",
    "book = {'name':'python crash course','title':'what to write'}\n",
    "dic(book)"
   ]
  },
  {
   "cell_type": "code",
   "execution_count": 41,
   "id": "1299b86c",
   "metadata": {},
   "outputs": [
    {
     "name": "stdout",
     "output_type": "stream",
     "text": [
      "I have read think and grow rich.\n",
      "I have read python crash course.\n",
      "I have read atomic habbit.\n"
     ]
    }
   ],
   "source": [
    "def dic(book):\n",
    "    for name in book:\n",
    "        print(f\"I have read {name}.\")\n",
    "booknames = ['think and grow rich','python crash course','atomic habbit']\n",
    "dic(booknames)"
   ]
  },
  {
   "cell_type": "code",
   "execution_count": 42,
   "id": "28d88009",
   "metadata": {},
   "outputs": [],
   "source": [
    "def toppings(*topping):\n",
    "    print(\"Making pizza with following toppings.\")\n",
    "    for items in topping:\n",
    "        print(f\"-{items.title()}\")"
   ]
  },
  {
   "cell_type": "code",
   "execution_count": 43,
   "id": "52783058",
   "metadata": {},
   "outputs": [
    {
     "name": "stdout",
     "output_type": "stream",
     "text": [
      "Making pizza with following toppings.\n",
      "-Mushroom\n",
      "-Chicken\n"
     ]
    }
   ],
   "source": [
    "toppings('mushroom','chicken')"
   ]
  },
  {
   "cell_type": "code",
   "execution_count": 44,
   "id": "3b12dc04",
   "metadata": {},
   "outputs": [
    {
     "name": "stdout",
     "output_type": "stream",
     "text": [
      "Making pizza with following toppings.\n",
      "-Mushroom\n"
     ]
    }
   ],
   "source": [
    "toppings('mushroom')"
   ]
  },
  {
   "cell_type": "code",
   "execution_count": null,
   "id": "bad1ebcb",
   "metadata": {},
   "outputs": [],
   "source": []
  }
 ],
 "metadata": {
  "kernelspec": {
   "display_name": "Python 3 (ipykernel)",
   "language": "python",
   "name": "python3"
  },
  "language_info": {
   "codemirror_mode": {
    "name": "ipython",
    "version": 3
   },
   "file_extension": ".py",
   "mimetype": "text/x-python",
   "name": "python",
   "nbconvert_exporter": "python",
   "pygments_lexer": "ipython3",
   "version": "3.11.4"
  }
 },
 "nbformat": 4,
 "nbformat_minor": 5
}
