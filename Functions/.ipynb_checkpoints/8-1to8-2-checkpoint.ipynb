{
 "cells": [
  {
   "cell_type": "markdown",
   "id": "b002d6c2",
   "metadata": {},
   "source": [
    "<h3>8-1. Message</h3>"
   ]
  },
  {
   "cell_type": "code",
   "execution_count": 1,
   "id": "d0128f88",
   "metadata": {},
   "outputs": [
    {
     "name": "stdout",
     "output_type": "stream",
     "text": [
      "we are learning about function in this chapter.\n"
     ]
    }
   ],
   "source": [
    "def display_message():\n",
    "    print(\"we are learning about function in this chapter.\")\n",
    "display_message()"
   ]
  },
  {
   "cell_type": "markdown",
   "id": "2694d723",
   "metadata": {},
   "source": [
    "<h3>8-2. Favorite Book</h3>"
   ]
  },
  {
   "cell_type": "code",
   "execution_count": 1,
   "id": "7372f958",
   "metadata": {},
   "outputs": [
    {
     "name": "stdout",
     "output_type": "stream",
     "text": [
      "My favorite book is Atomic Habit.\n"
     ]
    }
   ],
   "source": [
    "def favorite_book(title):\n",
    "    print(f\"My favorite book is {title.title()}.\")\n",
    "favorite_book(\"atomic habit\")\n",
    "    "
   ]
  }
 ],
 "metadata": {
  "kernelspec": {
   "display_name": "Python 3 (ipykernel)",
   "language": "python",
   "name": "python3"
  },
  "language_info": {
   "codemirror_mode": {
    "name": "ipython",
    "version": 3
   },
   "file_extension": ".py",
   "mimetype": "text/x-python",
   "name": "python",
   "nbconvert_exporter": "python",
   "pygments_lexer": "ipython3",
   "version": "3.11.4"
  }
 },
 "nbformat": 4,
 "nbformat_minor": 5
}
