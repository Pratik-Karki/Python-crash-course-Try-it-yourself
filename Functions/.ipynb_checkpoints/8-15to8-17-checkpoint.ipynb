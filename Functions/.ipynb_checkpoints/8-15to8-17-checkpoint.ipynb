{
 "cells": [
  {
   "cell_type": "markdown",
   "id": "f339c554",
   "metadata": {},
   "source": [
    "<h3>8-15. Printing Models</h3>"
   ]
  },
  {
   "cell_type": "code",
   "execution_count": 6,
   "id": "f970e2a9",
   "metadata": {},
   "outputs": [],
   "source": [
    "import hey"
   ]
  },
  {
   "cell_type": "markdown",
   "id": "6d51c491",
   "metadata": {},
   "source": [
    "<h3>8-16. Imports</h3>"
   ]
  },
  {
   "cell_type": "code",
   "execution_count": 2,
   "id": "8fccb335",
   "metadata": {},
   "outputs": [
    {
     "name": "stdout",
     "output_type": "stream",
     "text": [
      "Making pizza with following toppings.\n",
      "-Chicken\n",
      "-Mushroom\n"
     ]
    }
   ],
   "source": [
    "import hey\n",
    "hey.toppings('chicken','mushroom')"
   ]
  },
  {
   "cell_type": "code",
   "execution_count": 1,
   "id": "da116cca",
   "metadata": {},
   "outputs": [
    {
     "name": "stdout",
     "output_type": "stream",
     "text": [
      "Making pizza with following toppings.\n",
      "-Chicken\n",
      "-Paratha\n"
     ]
    }
   ],
   "source": [
    "from hey import toppings\n",
    "toppings('chicken','paratha')"
   ]
  },
  {
   "cell_type": "code",
   "execution_count": 3,
   "id": "fa37b946",
   "metadata": {},
   "outputs": [
    {
     "name": "stdout",
     "output_type": "stream",
     "text": [
      "Making pizza with following toppings.\n",
      "-Chicken\n",
      "-Paratha\n"
     ]
    }
   ],
   "source": [
    "from hey import toppings\n",
    "toppings('chicken','paratha')"
   ]
  },
  {
   "cell_type": "code",
   "execution_count": 4,
   "id": "92211769",
   "metadata": {},
   "outputs": [
    {
     "name": "stdout",
     "output_type": "stream",
     "text": [
      "Making pizza with following toppings.\n",
      "-Chilly\n",
      "-Flakes\n"
     ]
    }
   ],
   "source": [
    "from hey import toppings as tp\n",
    "tp('chilly','flakes')"
   ]
  },
  {
   "cell_type": "code",
   "execution_count": 5,
   "id": "79bf3418",
   "metadata": {},
   "outputs": [
    {
     "name": "stdout",
     "output_type": "stream",
     "text": [
      "Making pizza with following toppings.\n",
      "-Fish\n"
     ]
    }
   ],
   "source": [
    "import hey as h\n",
    "h.toppings('fish')"
   ]
  },
  {
   "cell_type": "code",
   "execution_count": null,
   "id": "d03a45e4",
   "metadata": {},
   "outputs": [],
   "source": [
    "from hey import *\n",
    "hey.toppings('cow')"
   ]
  },
  {
   "cell_type": "markdown",
   "id": "fd90b9bf",
   "metadata": {},
   "source": [
    "<h3>8-17. Styling Functions</h3>"
   ]
  },
  {
   "cell_type": "markdown",
   "id": "d71d245e",
   "metadata": {},
   "source": [
    "done"
   ]
  },
  {
   "cell_type": "code",
   "execution_count": null,
   "id": "1ac68a39",
   "metadata": {},
   "outputs": [],
   "source": []
  }
 ],
 "metadata": {
  "kernelspec": {
   "display_name": "Python 3 (ipykernel)",
   "language": "python",
   "name": "python3"
  },
  "language_info": {
   "codemirror_mode": {
    "name": "ipython",
    "version": 3
   },
   "file_extension": ".py",
   "mimetype": "text/x-python",
   "name": "python",
   "nbconvert_exporter": "python",
   "pygments_lexer": "ipython3",
   "version": "3.11.4"
  }
 },
 "nbformat": 4,
 "nbformat_minor": 5
}
