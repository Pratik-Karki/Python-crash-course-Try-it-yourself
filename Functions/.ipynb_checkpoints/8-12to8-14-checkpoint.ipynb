{
 "cells": [
  {
   "cell_type": "markdown",
   "id": "a0b3e317",
   "metadata": {},
   "source": [
    "<h3>8-12. Sandwiches</h3>"
   ]
  },
  {
   "cell_type": "code",
   "execution_count": null,
   "id": "9268913c",
   "metadata": {},
   "outputs": [],
   "source": []
  },
  {
   "cell_type": "markdown",
   "id": "cf4d6886",
   "metadata": {},
   "source": [
    "<h3>8-13. User Profile</h3>"
   ]
  },
  {
   "cell_type": "code",
   "execution_count": null,
   "id": "e2e1fade",
   "metadata": {},
   "outputs": [],
   "source": []
  },
  {
   "cell_type": "markdown",
   "id": "bc5f3fc3",
   "metadata": {},
   "source": [
    "<h3>8-14. Cars</h3>"
   ]
  },
  {
   "cell_type": "code",
   "execution_count": null,
   "id": "7a1a30a2",
   "metadata": {},
   "outputs": [],
   "source": []
  }
 ],
 "metadata": {
  "kernelspec": {
   "display_name": "Python 3 (ipykernel)",
   "language": "python",
   "name": "python3"
  },
  "language_info": {
   "codemirror_mode": {
    "name": "ipython",
    "version": 3
   },
   "file_extension": ".py",
   "mimetype": "text/x-python",
   "name": "python",
   "nbconvert_exporter": "python",
   "pygments_lexer": "ipython3",
   "version": "3.11.4"
  }
 },
 "nbformat": 4,
 "nbformat_minor": 5
}
