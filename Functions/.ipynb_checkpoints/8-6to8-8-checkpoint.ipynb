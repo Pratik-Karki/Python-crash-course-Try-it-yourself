{
 "cells": [
  {
   "cell_type": "markdown",
   "id": "336f3d56",
   "metadata": {},
   "source": [
    "<h3>8-6. City Names</h3>"
   ]
  },
  {
   "cell_type": "code",
   "execution_count": 6,
   "id": "acb79e84",
   "metadata": {},
   "outputs": [],
   "source": [
    "def city_country(name_of_city,country):\n",
    "    full_details = f\"{name_of_city.title()},{country.title()}\"\n",
    "    return full_details"
   ]
  },
  {
   "cell_type": "code",
   "execution_count": 7,
   "id": "071cd662",
   "metadata": {},
   "outputs": [
    {
     "data": {
      "text/plain": [
       "'Kathmandu,Nepal'"
      ]
     },
     "execution_count": 7,
     "metadata": {},
     "output_type": "execute_result"
    }
   ],
   "source": [
    "city_country('kathmandu','nepal')"
   ]
  },
  {
   "cell_type": "code",
   "execution_count": 8,
   "id": "005d8e16",
   "metadata": {},
   "outputs": [
    {
     "data": {
      "text/plain": [
       "'Haryana,India'"
      ]
     },
     "execution_count": 8,
     "metadata": {},
     "output_type": "execute_result"
    }
   ],
   "source": [
    "city_country('haryana','india')"
   ]
  },
  {
   "cell_type": "code",
   "execution_count": 9,
   "id": "61856c98",
   "metadata": {},
   "outputs": [
    {
     "data": {
      "text/plain": [
       "'Wuhan,China'"
      ]
     },
     "execution_count": 9,
     "metadata": {},
     "output_type": "execute_result"
    }
   ],
   "source": [
    "city_country('wuhan','china')"
   ]
  },
  {
   "cell_type": "markdown",
   "id": "f5b0cb10",
   "metadata": {},
   "source": [
    "<h3>8-7. Album</h3>"
   ]
  },
  {
   "cell_type": "code",
   "execution_count": 18,
   "id": "e2a97ed0",
   "metadata": {},
   "outputs": [],
   "source": [
    "def make_album(artist_name,album_title,no_of_songs = ''):\n",
    "    details = {'name_artist':artist_name,'title':album_title}\n",
    "    if no_of_songs:\n",
    "        details['no_of_songs'] = no_of_songs\n",
    "    return details"
   ]
  },
  {
   "cell_type": "code",
   "execution_count": 19,
   "id": "99f320fc",
   "metadata": {},
   "outputs": [
    {
     "data": {
      "text/plain": [
       "{'name_artist': ' Miles Davis',\n",
       " 'title': 'Miles Ahead/Milestones (1957/1958)',\n",
       " 'no_of_songs': 12}"
      ]
     },
     "execution_count": 19,
     "metadata": {},
     "output_type": "execute_result"
    }
   ],
   "source": [
    "make_album(' Miles Davis','Miles Ahead/Milestones (1957/1958)',12)"
   ]
  },
  {
   "cell_type": "code",
   "execution_count": 20,
   "id": "eb98e3ce",
   "metadata": {},
   "outputs": [
    {
     "data": {
      "text/plain": [
       "{'name_artist': 'Jimi Hendrix',\n",
       " 'title': 'Are You Experienced? (1967)',\n",
       " 'no_of_songs': 34}"
      ]
     },
     "execution_count": 20,
     "metadata": {},
     "output_type": "execute_result"
    }
   ],
   "source": [
    "make_album('Jimi Hendrix','Are You Experienced? (1967)',34)"
   ]
  },
  {
   "cell_type": "code",
   "execution_count": 21,
   "id": "9f58685c",
   "metadata": {},
   "outputs": [
    {
     "data": {
      "text/plain": [
       "{'name_artist': 'Black Sabbath', 'title': 'Sabbath Bloody Sabbath (1973)'}"
      ]
     },
     "execution_count": 21,
     "metadata": {},
     "output_type": "execute_result"
    }
   ],
   "source": [
    "make_album('Black Sabbath','Sabbath Bloody Sabbath (1973)')"
   ]
  },
  {
   "cell_type": "markdown",
   "id": "a68213f2",
   "metadata": {},
   "source": [
    "<h3>8-8. User Albums</h3>"
   ]
  },
  {
   "cell_type": "code",
   "execution_count": 23,
   "id": "1cf2fbcf",
   "metadata": {},
   "outputs": [
    {
     "name": "stdout",
     "output_type": "stream",
     "text": [
      "what is the name of artist?pratik\n",
      "what is the title of the album?samadhi\n",
      "{'name_artist': 'pratik', 'title': 'samadhi'}\n",
      "what is the name of artist?pratima\n",
      "what is the title of the album?dami dami\n",
      "{'name_artist': 'pratima', 'title': 'dami dami'}\n",
      "what is the name of artist?q\n"
     ]
    }
   ],
   "source": [
    "while True:\n",
    "    artist_name = input(\"what is the name of artist?\")\n",
    "    if artist_name == 'q':\n",
    "        break\n",
    "    title = input(\"what is the title of the album?\")\n",
    "    if title == 'q':\n",
    "        break\n",
    "    fulldetails = make_album(artist_name,title)\n",
    "    print(fulldetails)"
   ]
  },
  {
   "cell_type": "code",
   "execution_count": null,
   "id": "153ca38d",
   "metadata": {},
   "outputs": [],
   "source": []
  }
 ],
 "metadata": {
  "kernelspec": {
   "display_name": "Python 3 (ipykernel)",
   "language": "python",
   "name": "python3"
  },
  "language_info": {
   "codemirror_mode": {
    "name": "ipython",
    "version": 3
   },
   "file_extension": ".py",
   "mimetype": "text/x-python",
   "name": "python",
   "nbconvert_exporter": "python",
   "pygments_lexer": "ipython3",
   "version": "3.11.4"
  }
 },
 "nbformat": 4,
 "nbformat_minor": 5
}
