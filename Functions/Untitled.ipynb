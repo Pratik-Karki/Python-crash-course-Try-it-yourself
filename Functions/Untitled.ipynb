{
 "cells": [
  {
   "cell_type": "code",
   "execution_count": 2,
   "id": "362be28a",
   "metadata": {},
   "outputs": [],
   "source": [
    "def display_message():\n",
    "    print(\"I am learning functions.\")"
   ]
  },
  {
   "cell_type": "code",
   "execution_count": 3,
   "id": "8e946b16",
   "metadata": {},
   "outputs": [
    {
     "name": "stdout",
     "output_type": "stream",
     "text": [
      "I am learning functions.\n"
     ]
    }
   ],
   "source": [
    "display_message()"
   ]
  },
  {
   "cell_type": "code",
   "execution_count": 7,
   "id": "8fbd96d3",
   "metadata": {},
   "outputs": [],
   "source": [
    "def favorite_book(title):\n",
    "    print(f\"One of my favorite book is {title.title()}.\")\n",
    "    "
   ]
  },
  {
   "cell_type": "code",
   "execution_count": 8,
   "id": "6ef5a72a",
   "metadata": {},
   "outputs": [
    {
     "name": "stdout",
     "output_type": "stream",
     "text": [
      "One of my favorite book is Python Crash Course.\n"
     ]
    }
   ],
   "source": [
    "favorite_book('python crash course')"
   ]
  },
  {
   "cell_type": "code",
   "execution_count": 14,
   "id": "dbebd2f0",
   "metadata": {},
   "outputs": [],
   "source": [
    "def pet(name,ty = 'dog'):\n",
    "    print(f\"I have a {ty.title()}.\")\n",
    "    print(f\"My {ty.title()}'s name is {name.title()}.\")"
   ]
  },
  {
   "cell_type": "code",
   "execution_count": 16,
   "id": "359031e3",
   "metadata": {},
   "outputs": [
    {
     "name": "stdout",
     "output_type": "stream",
     "text": [
      "I have a Cat.\n",
      "My Cat's name is Seru.\n"
     ]
    }
   ],
   "source": [
    "pet('seru','cat')"
   ]
  },
  {
   "cell_type": "code",
   "execution_count": 25,
   "id": "02400967",
   "metadata": {},
   "outputs": [],
   "source": [
    "def make_shirs(text,size = 'large'):\n",
    "    print(f\"Your shirt size is {size}.\")\n",
    "    print(f'Your shirt text is \"{text}\".')"
   ]
  },
  {
   "cell_type": "code",
   "execution_count": 29,
   "id": "7433b973",
   "metadata": {},
   "outputs": [
    {
     "name": "stdout",
     "output_type": "stream",
     "text": [
      "Your shirt size is small.\n",
      "Your shirt text is \"who is who\".\n"
     ]
    }
   ],
   "source": [
    "make_shirs('who is who','small')#Positional argument"
   ]
  },
  {
   "cell_type": "code",
   "execution_count": 30,
   "id": "6779aa27",
   "metadata": {},
   "outputs": [
    {
     "name": "stdout",
     "output_type": "stream",
     "text": [
      "Your shirt size is medium.\n",
      "Your shirt text is \"who is me\".\n"
     ]
    }
   ],
   "source": [
    "make_shirs(text = 'who is me',size = 'medium')"
   ]
  },
  {
   "cell_type": "code",
   "execution_count": 31,
   "id": "42f4a8da",
   "metadata": {},
   "outputs": [
    {
     "name": "stdout",
     "output_type": "stream",
     "text": [
      "Your shirt size is large.\n",
      "Your shirt text is \"I love python\".\n"
     ]
    }
   ],
   "source": [
    "make_shirs('I love python')"
   ]
  },
  {
   "cell_type": "code",
   "execution_count": 40,
   "id": "f399f466",
   "metadata": {},
   "outputs": [],
   "source": [
    "def describe_city(name,country = 'nepal'):\n",
    "    print(f'{name.title()} is in {country.title()}.')"
   ]
  },
  {
   "cell_type": "code",
   "execution_count": 41,
   "id": "a2977142",
   "metadata": {},
   "outputs": [
    {
     "name": "stdout",
     "output_type": "stream",
     "text": [
      "Kathmandu is in Nepal.\n"
     ]
    }
   ],
   "source": [
    "describe_city('kathmandu')"
   ]
  },
  {
   "cell_type": "code",
   "execution_count": 42,
   "id": "f30c0b3f",
   "metadata": {},
   "outputs": [
    {
     "name": "stdout",
     "output_type": "stream",
     "text": [
      "Bihar is in India.\n"
     ]
    }
   ],
   "source": [
    "describe_city('bihar','india')"
   ]
  },
  {
   "cell_type": "code",
   "execution_count": 43,
   "id": "475f7dc0",
   "metadata": {},
   "outputs": [
    {
     "name": "stdout",
     "output_type": "stream",
     "text": [
      "Pokhara is in Nepal.\n"
     ]
    }
   ],
   "source": [
    "describe_city('pokhara')"
   ]
  },
  {
   "cell_type": "code",
   "execution_count": 44,
   "id": "4ad729fc",
   "metadata": {},
   "outputs": [],
   "source": [
    "def hisab(x,y):\n",
    "    c = x+y\n",
    "    return c"
   ]
  },
  {
   "cell_type": "code",
   "execution_count": 46,
   "id": "551c7c59",
   "metadata": {},
   "outputs": [
    {
     "name": "stdout",
     "output_type": "stream",
     "text": [
      "90\n"
     ]
    }
   ],
   "source": [
    "total = hisab(34,56)\n",
    "print(total)"
   ]
  },
  {
   "cell_type": "code",
   "execution_count": null,
   "id": "97cb615b",
   "metadata": {},
   "outputs": [],
   "source": []
  }
 ],
 "metadata": {
  "kernelspec": {
   "display_name": "Python 3 (ipykernel)",
   "language": "python",
   "name": "python3"
  },
  "language_info": {
   "codemirror_mode": {
    "name": "ipython",
    "version": 3
   },
   "file_extension": ".py",
   "mimetype": "text/x-python",
   "name": "python",
   "nbconvert_exporter": "python",
   "pygments_lexer": "ipython3",
   "version": "3.11.4"
  }
 },
 "nbformat": 4,
 "nbformat_minor": 5
}
