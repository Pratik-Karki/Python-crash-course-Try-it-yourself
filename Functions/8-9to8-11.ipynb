{
 "cells": [
  {
   "cell_type": "markdown",
   "id": "7a38a191",
   "metadata": {},
   "source": [
    "<h3>8-9. Messages</h3>"
   ]
  },
  {
   "cell_type": "code",
   "execution_count": 1,
   "id": "71e51c05",
   "metadata": {},
   "outputs": [
    {
     "name": "stdout",
     "output_type": "stream",
     "text": [
      "how are you\n",
      "what is your name\n",
      "i love you\n"
     ]
    }
   ],
   "source": [
    "def show_messages(text):\n",
    "    for message in text:\n",
    "        print(message)\n",
    "message = ['how are you','what is your name','i love you']\n",
    "show_messages(message)"
   ]
  },
  {
   "cell_type": "markdown",
   "id": "e978fd68",
   "metadata": {},
   "source": [
    "<h3>8-10. Sending Messages</h3>"
   ]
  },
  {
   "cell_type": "code",
   "execution_count": 19,
   "id": "365821f7",
   "metadata": {},
   "outputs": [],
   "source": [
    "def show_messages(text):\n",
    "    for message in text:\n",
    "        print(message)\n",
    "def send_message(text,sent):\n",
    "    while text:\n",
    "        ready_to_send = text.pop()\n",
    "        print(f\"Sending message: {ready_to_send}\")\n",
    "        sent.append(ready_to_send)\n",
    "    for message in sent:\n",
    "        print(f\"{message} is sent.\")"
   ]
  },
  {
   "cell_type": "code",
   "execution_count": 24,
   "id": "1a381f3c",
   "metadata": {},
   "outputs": [
    {
     "name": "stdout",
     "output_type": "stream",
     "text": [
      "how are you\n",
      "what is your name\n",
      "i love you\n",
      "where are you\n",
      "Sending message: where are you\n",
      "Sending message: i love you\n",
      "Sending message: what is your name\n",
      "Sending message: how are you\n",
      "where are you is sent.\n",
      "i love you is sent.\n",
      "what is your name is sent.\n",
      "how are you is sent.\n",
      "[]\n"
     ]
    }
   ],
   "source": [
    "message = ['how are you','what is your name','i love you','where are you']\n",
    "sent_messages = []\n",
    "show_messages(message)\n",
    "send_message(message,sent_messages)\n",
    "print(message)"
   ]
  },
  {
   "cell_type": "markdown",
   "id": "a3bc5a75",
   "metadata": {},
   "source": [
    "<h3>8-11. Archived Messages</h3>"
   ]
  },
  {
   "cell_type": "code",
   "execution_count": 23,
   "id": "4cbfdc2a",
   "metadata": {},
   "outputs": [
    {
     "name": "stdout",
     "output_type": "stream",
     "text": [
      "Sending message: where are you\n",
      "Sending message: i love you\n",
      "Sending message: what is your name\n",
      "Sending message: how are you\n",
      "where are you is sent.\n",
      "i love you is sent.\n",
      "what is your name is sent.\n",
      "how are you is sent.\n",
      "['how are you', 'what is your name', 'i love you', 'where are you']\n"
     ]
    }
   ],
   "source": [
    "message = ['how are you','what is your name','i love you','where are you']\n",
    "sent_messages = []\n",
    "send_message(message[:],sent_messages)\n",
    "print(message)"
   ]
  },
  {
   "cell_type": "code",
   "execution_count": null,
   "id": "3d54ba56",
   "metadata": {},
   "outputs": [],
   "source": []
  }
 ],
 "metadata": {
  "kernelspec": {
   "display_name": "Python 3 (ipykernel)",
   "language": "python",
   "name": "python3"
  },
  "language_info": {
   "codemirror_mode": {
    "name": "ipython",
    "version": 3
   },
   "file_extension": ".py",
   "mimetype": "text/x-python",
   "name": "python",
   "nbconvert_exporter": "python",
   "pygments_lexer": "ipython3",
   "version": "3.11.4"
  }
 },
 "nbformat": 4,
 "nbformat_minor": 5
}
