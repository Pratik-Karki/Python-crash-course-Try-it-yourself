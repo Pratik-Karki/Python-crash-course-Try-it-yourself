{
 "cells": [
  {
   "cell_type": "markdown",
   "id": "a0b3e317",
   "metadata": {},
   "source": [
    "<h3>8-12. Sandwiches</h3>"
   ]
  },
  {
   "cell_type": "code",
   "execution_count": 3,
   "id": "9268913c",
   "metadata": {},
   "outputs": [],
   "source": [
    "def sandwich(*items):\n",
    "    print(\"You have ordered sandwich with following items.\")\n",
    "    for item in items:\n",
    "        print(f\"-{item}\")"
   ]
  },
  {
   "cell_type": "code",
   "execution_count": 4,
   "id": "fe487093",
   "metadata": {},
   "outputs": [
    {
     "name": "stdout",
     "output_type": "stream",
     "text": [
      "You have ordered sandwich with following items.\n",
      "-chichen\n",
      "-cola\n"
     ]
    }
   ],
   "source": [
    "sandwich('chichen','cola')"
   ]
  },
  {
   "cell_type": "code",
   "execution_count": 5,
   "id": "547f3dc4",
   "metadata": {},
   "outputs": [
    {
     "name": "stdout",
     "output_type": "stream",
     "text": [
      "You have ordered sandwich with following items.\n",
      "-chicken\n"
     ]
    }
   ],
   "source": [
    "sandwich('chicken')"
   ]
  },
  {
   "cell_type": "code",
   "execution_count": 6,
   "id": "261ed970",
   "metadata": {},
   "outputs": [
    {
     "name": "stdout",
     "output_type": "stream",
     "text": [
      "You have ordered sandwich with following items.\n",
      "-chicken\n",
      "-mushroom\n",
      "-peproni\n",
      "-vegitables\n"
     ]
    }
   ],
   "source": [
    "sandwich('chicken','mushroom','peproni','vegitables')"
   ]
  },
  {
   "cell_type": "markdown",
   "id": "cf4d6886",
   "metadata": {},
   "source": [
    "<h3>8-13. User Profile</h3>"
   ]
  },
  {
   "cell_type": "code",
   "execution_count": 2,
   "id": "e2e1fade",
   "metadata": {},
   "outputs": [],
   "source": [
    "def build_profile(first, last, **user_info):\n",
    "    \"\"\"Build a dictionary containing everything we know about a user.\"\"\"\n",
    "    profile = {}\n",
    "    profile['first_name'] = first\n",
    "    profile['last_name'] = last\n",
    "    for key, value in user_info.items():\n",
    "        profile[key] = value\n",
    "    return profile\n"
   ]
  },
  {
   "cell_type": "code",
   "execution_count": 3,
   "id": "e6f5b5ad",
   "metadata": {},
   "outputs": [
    {
     "data": {
      "text/plain": [
       "{'first_name': 'pratik',\n",
       " 'last_name': 'karki',\n",
       " 'location': 'karkigaun',\n",
       " 'phone_no': 98937858683,\n",
       " 'study': 'masters'}"
      ]
     },
     "execution_count": 3,
     "metadata": {},
     "output_type": "execute_result"
    }
   ],
   "source": [
    "build_profile('pratik','karki',location = 'karkigaun',phone_no=98937858683, study='masters')"
   ]
  },
  {
   "cell_type": "markdown",
   "id": "bc5f3fc3",
   "metadata": {},
   "source": [
    "<h3>8-14. Cars</h3>"
   ]
  },
  {
   "cell_type": "code",
   "execution_count": 24,
   "id": "7a1a30a2",
   "metadata": {},
   "outputs": [
    {
     "name": "stdout",
     "output_type": "stream",
     "text": [
      "{'color': 'blue', 'tow_package': True, 'manufactuurer': 'subaru', 'model_name': 'outback'}\n"
     ]
    }
   ],
   "source": [
    "def make_car(manufacturer,model_name,**details):\n",
    "    details['manufactuurer'] = manufacturer\n",
    "    details['model_name'] = model_name\n",
    "    return details\n",
    "car = make_car('subaru', 'outback', color='blue', tow_package=True)\n",
    "print(car)\n"
   ]
  },
  {
   "cell_type": "code",
   "execution_count": null,
   "id": "f14838be",
   "metadata": {},
   "outputs": [],
   "source": []
  }
 ],
 "metadata": {
  "kernelspec": {
   "display_name": "Python 3 (ipykernel)",
   "language": "python",
   "name": "python3"
  },
  "language_info": {
   "codemirror_mode": {
    "name": "ipython",
    "version": 3
   },
   "file_extension": ".py",
   "mimetype": "text/x-python",
   "name": "python",
   "nbconvert_exporter": "python",
   "pygments_lexer": "ipython3",
   "version": "3.11.4"
  }
 },
 "nbformat": 4,
 "nbformat_minor": 5
}
