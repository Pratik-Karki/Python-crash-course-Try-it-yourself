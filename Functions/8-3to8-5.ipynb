{
 "cells": [
  {
   "cell_type": "markdown",
   "id": "c234ce82",
   "metadata": {},
   "source": [
    "<h3>8-3. T-Shirt</h3>"
   ]
  },
  {
   "cell_type": "code",
   "execution_count": 3,
   "id": "3005fb04",
   "metadata": {},
   "outputs": [],
   "source": [
    "def make_shirt(size, text):\n",
    "    print(f\"Your tshirt size is {size} and text to be printed is '{text}'.\")"
   ]
  },
  {
   "cell_type": "markdown",
   "id": "a06e58ae",
   "metadata": {},
   "source": [
    "<h4>Positional Arguments</h4>"
   ]
  },
  {
   "cell_type": "code",
   "execution_count": 5,
   "id": "af1f7d62",
   "metadata": {},
   "outputs": [
    {
     "name": "stdout",
     "output_type": "stream",
     "text": [
      "Your tshirt size is 15 and text to be printed is 'Nasa rocks'.\n"
     ]
    }
   ],
   "source": [
    "make_shirt(15,'Nasa rocks')"
   ]
  },
  {
   "cell_type": "markdown",
   "id": "4416a785",
   "metadata": {},
   "source": [
    "<h4>Keyword Arguments</h4>"
   ]
  },
  {
   "cell_type": "code",
   "execution_count": 7,
   "id": "d2b66f7c",
   "metadata": {},
   "outputs": [
    {
     "name": "stdout",
     "output_type": "stream",
     "text": [
      "Your tshirt size is large and text to be printed is 'python is my language'.\n"
     ]
    }
   ],
   "source": [
    "make_shirt(text = 'python is my language', size = 'large')"
   ]
  },
  {
   "cell_type": "markdown",
   "id": "fdf49380",
   "metadata": {},
   "source": [
    "<h3>8-4. Large Shirts</h3>"
   ]
  },
  {
   "cell_type": "code",
   "execution_count": 9,
   "id": "981b17ed",
   "metadata": {},
   "outputs": [],
   "source": [
    "def make_shirt(size = 'large', text = 'I love python' ):\n",
    "    print(f\"Your tshirt size is {size} and text to be printed is '{text}'.\")"
   ]
  },
  {
   "cell_type": "code",
   "execution_count": 10,
   "id": "ac5a97a7",
   "metadata": {},
   "outputs": [
    {
     "name": "stdout",
     "output_type": "stream",
     "text": [
      "Your tshirt size is large and text to be printed is 'I love python'.\n"
     ]
    }
   ],
   "source": [
    "make_shirt()"
   ]
  },
  {
   "cell_type": "markdown",
   "id": "016b4baa",
   "metadata": {},
   "source": [
    "<h3>8-5. Cities</h3>"
   ]
  },
  {
   "cell_type": "code",
   "execution_count": 2,
   "id": "287e86dc",
   "metadata": {},
   "outputs": [],
   "source": [
    "def describe_city(city, country = 'Nepal'):\n",
    "    print(f\"{city.title()} is in {country.title()}.\")"
   ]
  },
  {
   "cell_type": "code",
   "execution_count": 3,
   "id": "ca7ba96e",
   "metadata": {},
   "outputs": [
    {
     "name": "stdout",
     "output_type": "stream",
     "text": [
      "Kathmandu is in Nepal.\n"
     ]
    }
   ],
   "source": [
    "describe_city('kathmandu')"
   ]
  },
  {
   "cell_type": "code",
   "execution_count": 4,
   "id": "d83f864b",
   "metadata": {},
   "outputs": [
    {
     "name": "stdout",
     "output_type": "stream",
     "text": [
      "Pokhara is in Nepal.\n"
     ]
    }
   ],
   "source": [
    "describe_city('pokhara')"
   ]
  },
  {
   "cell_type": "code",
   "execution_count": 5,
   "id": "fd62784b",
   "metadata": {},
   "outputs": [
    {
     "name": "stdout",
     "output_type": "stream",
     "text": [
      "Utarakhand is in India.\n"
     ]
    }
   ],
   "source": [
    "describe_city(country = 'India', city = 'utarakhand')"
   ]
  },
  {
   "cell_type": "code",
   "execution_count": 6,
   "id": "600f69d7",
   "metadata": {},
   "outputs": [
    {
     "name": "stdout",
     "output_type": "stream",
     "text": [
      "Dubai is in United Arab.\n"
     ]
    }
   ],
   "source": [
    "describe_city('dubai','united arab')"
   ]
  }
 ],
 "metadata": {
  "kernelspec": {
   "display_name": "Python 3 (ipykernel)",
   "language": "python",
   "name": "python3"
  },
  "language_info": {
   "codemirror_mode": {
    "name": "ipython",
    "version": 3
   },
   "file_extension": ".py",
   "mimetype": "text/x-python",
   "name": "python",
   "nbconvert_exporter": "python",
   "pygments_lexer": "ipython3",
   "version": "3.11.4"
  }
 },
 "nbformat": 4,
 "nbformat_minor": 5
}
