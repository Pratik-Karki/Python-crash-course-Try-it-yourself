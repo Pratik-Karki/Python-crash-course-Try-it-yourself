{
 "cells": [
  {
   "cell_type": "markdown",
   "id": "f8365d94-1a9d-47a5-91dc-f0ad96e32c7e",
   "metadata": {},
   "source": [
    "<h3>4-13. Buffet</h3>"
   ]
  },
  {
   "cell_type": "code",
   "execution_count": 1,
   "id": "6db233f0-0b4e-4355-b90c-091a98cf452e",
   "metadata": {},
   "outputs": [],
   "source": [
    "buffet_items = ('rice','mutton','curry','brocouli','salad')"
   ]
  },
  {
   "cell_type": "code",
   "execution_count": 13,
   "id": "63588275-6e62-44d7-bc06-042162b2a718",
   "metadata": {},
   "outputs": [
    {
     "name": "stdout",
     "output_type": "stream",
     "text": [
      "Foods we offer are.\n",
      "daal\n",
      "rice\n",
      "mutton\n",
      "curry\n",
      "veggies\n"
     ]
    }
   ],
   "source": [
    "print(\"Foods we offer are.\")\n",
    "\n",
    "for food in buffet_items:\n",
    "    print(food)"
   ]
  },
  {
   "cell_type": "code",
   "execution_count": 14,
   "id": "e9d5cbc0-a876-4db2-9dd9-834dd3caca53",
   "metadata": {},
   "outputs": [
    {
     "ename": "TypeError",
     "evalue": "'tuple' object doesn't support item deletion",
     "output_type": "error",
     "traceback": [
      "\u001b[0;31m---------------------------------------------------------------------------\u001b[0m",
      "\u001b[0;31mTypeError\u001b[0m                                 Traceback (most recent call last)",
      "Cell \u001b[0;32mIn[14], line 1\u001b[0m\n\u001b[0;32m----> 1\u001b[0m \u001b[38;5;28;01mdel\u001b[39;00m buffet_items[\u001b[38;5;241m0\u001b[39m]\n",
      "\u001b[0;31mTypeError\u001b[0m: 'tuple' object doesn't support item deletion"
     ]
    }
   ],
   "source": [
    "del buffet_items[0]"
   ]
  },
  {
   "cell_type": "code",
   "execution_count": 15,
   "id": "c3dfc711-1623-4b61-9ec6-a3bb2a29b310",
   "metadata": {},
   "outputs": [],
   "source": [
    "buffet_items = ('daal','rice','mutton','curry','veggies')"
   ]
  },
  {
   "cell_type": "code",
   "execution_count": 16,
   "id": "01d64eaa-c9c1-474c-b987-7ebae074d524",
   "metadata": {},
   "outputs": [
    {
     "data": {
      "text/plain": [
       "('daal', 'rice', 'mutton', 'curry', 'veggies')"
      ]
     },
     "execution_count": 16,
     "metadata": {},
     "output_type": "execute_result"
    }
   ],
   "source": [
    "buffet_items"
   ]
  }
 ],
 "metadata": {
  "kernelspec": {
   "display_name": "Python 3 (ipykernel)",
   "language": "python",
   "name": "python3"
  },
  "language_info": {
   "codemirror_mode": {
    "name": "ipython",
    "version": 3
   },
   "file_extension": ".py",
   "mimetype": "text/x-python",
   "name": "python",
   "nbconvert_exporter": "python",
   "pygments_lexer": "ipython3",
   "version": "3.10.12"
  }
 },
 "nbformat": 4,
 "nbformat_minor": 5
}
