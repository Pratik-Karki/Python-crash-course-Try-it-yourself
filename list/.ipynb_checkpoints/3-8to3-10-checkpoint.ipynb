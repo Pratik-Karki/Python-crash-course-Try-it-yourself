{
 "cells": [
  {
   "cell_type": "markdown",
   "metadata": {},
   "source": [
    "3-8 Seeing th world"
   ]
  },
  {
   "cell_type": "code",
   "execution_count": 52,
   "metadata": {},
   "outputs": [
    {
     "name": "stdout",
     "output_type": "stream",
     "text": [
      "['paris', 'badrinath', 'mustang', 'kedarnath', 'canada', 'norway']\n",
      "['badrinath', 'canada', 'kedarnath', 'mustang', 'norway', 'paris']\n",
      "['paris', 'badrinath', 'mustang', 'kedarnath', 'canada', 'norway']\n",
      "['paris', 'norway', 'mustang', 'kedarnath', 'canada', 'badrinath']\n",
      "['paris', 'badrinath', 'mustang', 'kedarnath', 'canada', 'norway']\n"
     ]
    }
   ],
   "source": [
    "bucketlist = ['paris','badrinath','mustang','kedarnath','canada','norway']\n",
    "print(bucketlist)\n",
    "print(sorted(bucketlist))\n",
    "print(bucketlist)\n",
    "print(sorted(bucketlist,reverse=True))\n",
    "print(bucketlist)"
   ]
  },
  {
   "cell_type": "code",
   "execution_count": 53,
   "metadata": {},
   "outputs": [
    {
     "name": "stdout",
     "output_type": "stream",
     "text": [
      "['norway', 'canada', 'kedarnath', 'mustang', 'badrinath', 'paris']\n",
      "['paris', 'badrinath', 'mustang', 'kedarnath', 'canada', 'norway']\n"
     ]
    }
   ],
   "source": [
    "bucketlist.reverse()\n",
    "print(bucketlist)\n",
    "bucketlist.reverse()\n",
    "print(bucketlist)"
   ]
  },
  {
   "cell_type": "code",
   "execution_count": 54,
   "metadata": {},
   "outputs": [
    {
     "name": "stdout",
     "output_type": "stream",
     "text": [
      "['badrinath', 'canada', 'kedarnath', 'mustang', 'norway', 'paris']\n"
     ]
    }
   ],
   "source": [
    "bucketlist.sort()\n",
    "print(bucketlist)"
   ]
  },
  {
   "cell_type": "code",
   "execution_count": 55,
   "metadata": {},
   "outputs": [
    {
     "name": "stdout",
     "output_type": "stream",
     "text": [
      "['paris', 'norway', 'mustang', 'kedarnath', 'canada', 'badrinath']\n"
     ]
    }
   ],
   "source": [
    "bucketlist.sort(reverse=True)\n",
    "print(bucketlist)"
   ]
  },
  {
   "cell_type": "markdown",
   "metadata": {},
   "source": [
    "3-9 Dinner guest"
   ]
  },
  {
   "cell_type": "markdown",
   "metadata": {},
   "source": [
    "Done in 3-4 to 3-7"
   ]
  },
  {
   "cell_type": "markdown",
   "metadata": {},
   "source": [
    "3-10 Every Function\n"
   ]
  },
  {
   "cell_type": "code",
   "execution_count": 66,
   "metadata": {},
   "outputs": [],
   "source": [
    "everylist = ['ganga','jamuna','bagmati','bishnumati','ghatekhola']\n"
   ]
  },
  {
   "cell_type": "code",
   "execution_count": 67,
   "metadata": {},
   "outputs": [],
   "source": [
    "everylist.append('sesmati')"
   ]
  },
  {
   "cell_type": "code",
   "execution_count": 68,
   "metadata": {},
   "outputs": [
    {
     "name": "stdout",
     "output_type": "stream",
     "text": [
      "['paveri', 'ganga', 'jamuna', 'bagmati', 'bishnumati', 'ghatekhola', 'sesmati']\n"
     ]
    }
   ],
   "source": [
    "everylist.insert(0,'paveri')\n",
    "print(everylist)"
   ]
  },
  {
   "cell_type": "code",
   "execution_count": 69,
   "metadata": {},
   "outputs": [
    {
     "name": "stdout",
     "output_type": "stream",
     "text": [
      "['ganga', 'jamuna', 'bagmati', 'bishnumati', 'ghatekhola', 'sesmati']\n"
     ]
    }
   ],
   "source": [
    "everylist.pop(0)\n",
    "print(everylist)"
   ]
  },
  {
   "cell_type": "code",
   "execution_count": 70,
   "metadata": {},
   "outputs": [
    {
     "name": "stdout",
     "output_type": "stream",
     "text": [
      "['bagmati', 'bishnumati', 'ganga', 'ghatekhola', 'jamuna', 'sesmati']\n"
     ]
    }
   ],
   "source": [
    "print(sorted(everylist))"
   ]
  },
  {
   "cell_type": "code",
   "execution_count": 71,
   "metadata": {},
   "outputs": [
    {
     "name": "stdout",
     "output_type": "stream",
     "text": [
      "['sesmati', 'jamuna', 'ghatekhola', 'ganga', 'bishnumati', 'bagmati']\n"
     ]
    }
   ],
   "source": [
    "print(sorted(everylist, reverse=True))"
   ]
  },
  {
   "cell_type": "code",
   "execution_count": 72,
   "metadata": {},
   "outputs": [
    {
     "name": "stdout",
     "output_type": "stream",
     "text": [
      "6\n"
     ]
    }
   ],
   "source": [
    "print(len(everylist))"
   ]
  },
  {
   "cell_type": "code",
   "execution_count": 73,
   "metadata": {},
   "outputs": [
    {
     "name": "stdout",
     "output_type": "stream",
     "text": [
      "['sesmati', 'ghatekhola', 'bishnumati', 'bagmati', 'jamuna', 'ganga']\n"
     ]
    }
   ],
   "source": [
    "everylist.reverse()\n",
    "print(everylist)"
   ]
  },
  {
   "cell_type": "code",
   "execution_count": 75,
   "metadata": {},
   "outputs": [
    {
     "name": "stdout",
     "output_type": "stream",
     "text": [
      "ganga\n"
     ]
    }
   ],
   "source": [
    "print(everylist[-1])"
   ]
  }
 ],
 "metadata": {
  "kernelspec": {
   "display_name": "Python 3",
   "language": "python",
   "name": "python3"
  },
  "language_info": {
   "codemirror_mode": {
    "name": "ipython",
    "version": 3
   },
   "file_extension": ".py",
   "mimetype": "text/x-python",
   "name": "python",
   "nbconvert_exporter": "python",
   "pygments_lexer": "ipython3",
   "version": "3.10.12"
  },
  "orig_nbformat": 4
 },
 "nbformat": 4,
 "nbformat_minor": 2
}
