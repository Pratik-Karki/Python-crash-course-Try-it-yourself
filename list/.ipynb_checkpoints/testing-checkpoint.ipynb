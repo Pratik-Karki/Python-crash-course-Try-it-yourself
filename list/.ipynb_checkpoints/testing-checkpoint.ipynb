{
 "cells": [
  {
   "cell_type": "code",
   "execution_count": 2,
   "id": "01f939c5-618b-4aeb-9cfd-20354443b554",
   "metadata": {},
   "outputs": [],
   "source": [
    "dimension = ('pratik', 'dipal', 'how')"
   ]
  },
  {
   "cell_type": "code",
   "execution_count": 5,
   "id": "dc0031dc-25a3-4db6-8935-d2ee8efb4785",
   "metadata": {},
   "outputs": [
    {
     "name": "stdout",
     "output_type": "stream",
     "text": [
      "('pratik', 'dipal', 'how')\n"
     ]
    }
   ],
   "source": [
    "print(dimension[0:3])"
   ]
  },
  {
   "cell_type": "code",
   "execution_count": 6,
   "id": "31c30dd6-5740-422c-bf30-f0c9eb8d2547",
   "metadata": {},
   "outputs": [
    {
     "name": "stdout",
     "output_type": "stream",
     "text": [
      "('pratik', 'dipal', 'how')\n"
     ]
    }
   ],
   "source": [
    "print(dimension)\n"
   ]
  },
  {
   "cell_type": "code",
   "execution_count": 10,
   "id": "296725fb-a94e-429a-b8d2-cdf57b677353",
   "metadata": {},
   "outputs": [],
   "source": [
    "dim = (2,)"
   ]
  },
  {
   "cell_type": "code",
   "execution_count": 12,
   "id": "a06a6383-dcfb-40ba-9408-31368a6db3d1",
   "metadata": {},
   "outputs": [
    {
     "name": "stdout",
     "output_type": "stream",
     "text": [
      "pratik\n",
      "dipal\n",
      "how\n"
     ]
    }
   ],
   "source": [
    "for dim in dimension:\n",
    "    print(dim)\n"
   ]
  },
  {
   "cell_type": "code",
   "execution_count": 16,
   "id": "e9141f02-513a-4c79-bfa8-1b705fdf1263",
   "metadata": {},
   "outputs": [],
   "source": [
    "dimension = ('pratik', 'dipal', 'how','changed')"
   ]
  },
  {
   "cell_type": "code",
   "execution_count": 17,
   "id": "803a9e62-fa2b-471e-a089-d89706799de0",
   "metadata": {},
   "outputs": [
    {
     "name": "stdout",
     "output_type": "stream",
     "text": [
      "('pratik', 'dipal', 'how', 'changed')\n"
     ]
    }
   ],
   "source": [
    "print(dimension)\n"
   ]
  },
  {
   "cell_type": "code",
   "execution_count": 22,
   "id": "eea9b32f-985b-4bed-8838-b11aed685bfb",
   "metadata": {},
   "outputs": [
    {
     "name": "stdout",
     "output_type": "stream",
     "text": [
      "11111111111111111111111111111111111111111111111111111111111111111111111111111111111111"
     ]
    }
   ],
   "source": [
    "for _ in range(86):\n",
    "    print(1,end = '')"
   ]
  },
  {
   "cell_type": "code",
   "execution_count": 27,
   "id": "e61d1a72-2132-43cc-af3e-4830ff7bb453",
   "metadata": {},
   "outputs": [
    {
     "name": "stdout",
     "output_type": "stream",
     "text": [
      "pratik\n",
      "dipal\n",
      "this is how\n",
      "changed\n"
     ]
    }
   ],
   "source": [
    "for dim in dimension:\n",
    "    if dim == 'how':\n",
    "        print(\"this is how\")\n",
    "    else :\n",
    "        print(dim)"
   ]
  },
  {
   "cell_type": "code",
   "execution_count": 67,
   "id": "560ba102-ea1e-4191-833e-9c0894e654d4",
   "metadata": {},
   "outputs": [],
   "source": [
    "dimension2 = ['pratik', 'dipal', 'how','changed']"
   ]
  },
  {
   "cell_type": "code",
   "execution_count": 70,
   "id": "643b855f-ae27-4c15-a4ab-6480b8ce9f77",
   "metadata": {},
   "outputs": [
    {
     "name": "stdout",
     "output_type": "stream",
     "text": [
      "l\n",
      "l\n",
      "l\n",
      "l\n",
      "Username is approved\n",
      "['pratik', 'dipal', 'how', 'changed', 'shyam']\n"
     ]
    }
   ],
   "source": [
    "username = 'shyam'\n",
    "for name in dimension2:\n",
    "    print(\"l\")\n",
    "    if name == username:\n",
    "        print(\"This username is taken\")\n",
    "        break\n",
    "else:\n",
    "    print(\"Username is approved\")\n",
    "    dimension2.append(username)\n",
    "    print(dimension2)\n",
    "\n"
   ]
  },
  {
   "cell_type": "code",
   "execution_count": null,
   "id": "6d1de28c-0953-403d-81b1-3e058723c80e",
   "metadata": {},
   "outputs": [],
   "source": []
  }
 ],
 "metadata": {
  "kernelspec": {
   "display_name": "Python 3 (ipykernel)",
   "language": "python",
   "name": "python3"
  },
  "language_info": {
   "codemirror_mode": {
    "name": "ipython",
    "version": 3
   },
   "file_extension": ".py",
   "mimetype": "text/x-python",
   "name": "python",
   "nbconvert_exporter": "python",
   "pygments_lexer": "ipython3",
   "version": "3.10.12"
  }
 },
 "nbformat": 4,
 "nbformat_minor": 5
}
