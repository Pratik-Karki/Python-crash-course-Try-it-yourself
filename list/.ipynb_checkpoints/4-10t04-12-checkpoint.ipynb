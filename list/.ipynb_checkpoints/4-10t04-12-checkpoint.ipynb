{
 "cells": [
  {
   "cell_type": "markdown",
   "id": "abb99a11-d7e5-424a-93d2-68845c2eebef",
   "metadata": {},
   "source": [
    "<h3> 4-10 Slices</h3>"
   ]
  },
  {
   "cell_type": "code",
   "execution_count": 1,
   "id": "f64896e5-6195-4090-b2c5-c4a665e15f08",
   "metadata": {},
   "outputs": [
    {
     "name": "stdout",
     "output_type": "stream",
     "text": [
      "[1, 2, 3, 4, 5, 6, 7, 8, 9, 10, 11, 12, 13, 14, 15, 16, 17, 18, 19, 20]\n"
     ]
    }
   ],
   "source": [
    "count = [i+1 for i in range(0,20)]\n",
    "print(count)"
   ]
  },
  {
   "cell_type": "code",
   "execution_count": 7,
   "id": "d6b2b24a-a11c-4429-868b-12936f651766",
   "metadata": {},
   "outputs": [
    {
     "name": "stdout",
     "output_type": "stream",
     "text": [
      "The first three items in the list are: [1, 2, 3].\n"
     ]
    }
   ],
   "source": [
    "print(f\"The first three items in the list are: {count[:3]}.\")"
   ]
  },
  {
   "cell_type": "code",
   "execution_count": 4,
   "id": "c3870c51-a657-4d28-83ec-73fdfe3744ca",
   "metadata": {},
   "outputs": [
    {
     "name": "stdout",
     "output_type": "stream",
     "text": [
      "Three items form the middle of the list are: [11, 12, 13].\n"
     ]
    }
   ],
   "source": [
    "print(f\"Three items form the middle of the list are: {count[10:13]}.\")"
   ]
  },
  {
   "cell_type": "code",
   "execution_count": 6,
   "id": "e0b27110-4bee-44f5-9dc2-7124563cdcd8",
   "metadata": {},
   "outputs": [
    {
     "name": "stdout",
     "output_type": "stream",
     "text": [
      "Last three items are: [18, 19, 20].\n"
     ]
    }
   ],
   "source": [
    "print(f\"Last three items are: {count[-3:]}.\")"
   ]
  },
  {
   "cell_type": "markdown",
   "id": "8d178aa6-688e-4649-9f88-6c5e2f496809",
   "metadata": {},
   "source": [
    "<h3>4-12 My Pizzas, Your Pizzas</h3>"
   ]
  },
  {
   "cell_type": "code",
   "execution_count": 20,
   "id": "ebd69ff0-ba69-4b96-aaaa-d2b64fdb04fa",
   "metadata": {},
   "outputs": [],
   "source": [
    "pizzas = ['cheese pizza','chicken pizza','tandoori pizza']"
   ]
  },
  {
   "cell_type": "code",
   "execution_count": 21,
   "id": "68b25ea1-c72d-484e-b414-b033c262c5fb",
   "metadata": {},
   "outputs": [],
   "source": [
    "friend_pizzas = pizzas[0:]"
   ]
  },
  {
   "cell_type": "code",
   "execution_count": 22,
   "id": "77f4a83f-a26b-49fc-8116-dac17f46fe02",
   "metadata": {},
   "outputs": [],
   "source": [
    "pizzas.append('ramen pizza')"
   ]
  },
  {
   "cell_type": "code",
   "execution_count": 23,
   "id": "701b23e4-ace7-4a3b-bd68-77c010496beb",
   "metadata": {},
   "outputs": [],
   "source": [
    "friend_pizzas.append('smoked pizza')"
   ]
  },
  {
   "cell_type": "code",
   "execution_count": 29,
   "id": "ec1b323c-75ab-4bd0-84e1-9472fd1c6130",
   "metadata": {},
   "outputs": [
    {
     "name": "stdout",
     "output_type": "stream",
     "text": [
      "My favorite Pizza are: \n",
      "\n",
      "cheese pizza\n",
      "chicken pizza\n",
      "tandoori pizza\n",
      "ramen pizza\n"
     ]
    }
   ],
   "source": [
    "print(\"My favorite Pizza are: \\n\")\n",
    "for pizza in pizzas:\n",
    "    print(pizza)"
   ]
  },
  {
   "cell_type": "code",
   "execution_count": 30,
   "id": "48700967-ea91-47df-bdab-19a8241c7037",
   "metadata": {},
   "outputs": [
    {
     "name": "stdout",
     "output_type": "stream",
     "text": [
      "My friend's favorite Pizza are: \n",
      "\n",
      "cheese pizza\n",
      "chicken pizza\n",
      "tandoori pizza\n",
      "smoked pizza\n"
     ]
    }
   ],
   "source": [
    "print(\"My friend's favorite Pizza are: \\n\")\n",
    "for pizza in friend_pizzas:\n",
    "    print(pizza)"
   ]
  },
  {
   "cell_type": "markdown",
   "id": "56167034-0182-4ac1-8991-61c1f075ee5a",
   "metadata": {},
   "source": [
    "<h3>4-12 More Loops</h3>"
   ]
  },
  {
   "cell_type": "code",
   "execution_count": 32,
   "id": "d037c4b2-b1cc-473c-b6b2-1a59227264e1",
   "metadata": {},
   "outputs": [
    {
     "name": "stdout",
     "output_type": "stream",
     "text": [
      "My favorite foods are:\n",
      "pizza\n",
      "falafel\n",
      "carrot cake\n",
      "cannoli\n",
      "\n",
      "My friend's favorite foods are:\n",
      "pizza\n",
      "falafel\n",
      "carrot cake\n",
      "ice cream\n"
     ]
    }
   ],
   "source": [
    "my_foods = ['pizza', 'falafel', 'carrot cake']\n",
    "friend_foods = my_foods[:]\n",
    "my_foods.append('cannoli')\n",
    "friend_foods.append('ice cream')\n",
    "print(\"My favorite foods are:\")\n",
    "for food in my_foods:\n",
    "    print(food)\n",
    "print(\"\\nMy friend's favorite foods are:\")\n",
    "for food in friend_foods:\n",
    "    print(food)\n"
   ]
  },
  {
   "cell_type": "code",
   "execution_count": null,
   "id": "df85d5c6-167e-42e6-bf27-52c5cb10b557",
   "metadata": {},
   "outputs": [],
   "source": []
  }
 ],
 "metadata": {
  "kernelspec": {
   "display_name": "Python 3 (ipykernel)",
   "language": "python",
   "name": "python3"
  },
  "language_info": {
   "codemirror_mode": {
    "name": "ipython",
    "version": 3
   },
   "file_extension": ".py",
   "mimetype": "text/x-python",
   "name": "python",
   "nbconvert_exporter": "python",
   "pygments_lexer": "ipython3",
   "version": "3.10.12"
  }
 },
 "nbformat": 4,
 "nbformat_minor": 5
}
