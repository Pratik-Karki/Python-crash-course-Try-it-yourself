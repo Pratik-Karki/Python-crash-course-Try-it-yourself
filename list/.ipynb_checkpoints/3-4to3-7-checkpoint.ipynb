{
 "cells": [
  {
   "cell_type": "markdown",
   "metadata": {},
   "source": [
    "3-4 Guest list\n"
   ]
  },
  {
   "cell_type": "code",
   "execution_count": 82,
   "metadata": {},
   "outputs": [
    {
     "name": "stdout",
     "output_type": "stream",
     "text": [
      "Hi, Santosh you are invited to dinner.\n",
      "Hi, Pratik you are invited to dinner.\n",
      "Hi, Pratima you are invited to dinner.\n",
      "Hi, Hrithik you are invited to dinner.\n",
      "Hi, Summit you are invited to dinner.\n"
     ]
    }
   ],
   "source": [
    "guest = ['santosh','pratik','pratima','hrithik','summit']\n",
    "message1 = f\"Hi, {guest[0].title()} you are invited to dinner.\"\n",
    "message2 = f\"Hi, {guest[1].title()} you are invited to dinner.\"\n",
    "message3 = f\"Hi, {guest[2].title()} you are invited to dinner.\"\n",
    "message4 = f\"Hi, {guest[3].title()} you are invited to dinner.\"\n",
    "message5 = f\"Hi, {guest[4].title()} you are invited to dinner.\"\n",
    "print(message1)\n",
    "print(message2)\n",
    "print(message3)\n",
    "print(message4)\n",
    "print(message5)"
   ]
  },
  {
   "cell_type": "markdown",
   "metadata": {},
   "source": [
    "3-5 Changing Guest list"
   ]
  },
  {
   "cell_type": "code",
   "execution_count": 83,
   "metadata": {},
   "outputs": [
    {
     "name": "stdout",
     "output_type": "stream",
     "text": [
      "santosh\n"
     ]
    }
   ],
   "source": [
    "cantmake = guest.pop(0)\n",
    "print(cantmake)"
   ]
  },
  {
   "cell_type": "code",
   "execution_count": 84,
   "metadata": {},
   "outputs": [],
   "source": [
    "guest.insert(0,'niraj')"
   ]
  },
  {
   "cell_type": "code",
   "execution_count": 85,
   "metadata": {},
   "outputs": [
    {
     "name": "stdout",
     "output_type": "stream",
     "text": [
      "Hi, Niraj you are invited to dinner.\n",
      "Hi, Pratik you are invited to dinner.\n",
      "Hi, Pratima you are invited to dinner.\n",
      "Hi, Hrithik you are invited to dinner.\n",
      "Hi, Summit you are invited to dinner.\n"
     ]
    }
   ],
   "source": [
    "message1 = f\"Hi, {guest[0].title()} you are invited to dinner.\"\n",
    "message2 = f\"Hi, {guest[1].title()} you are invited to dinner.\"\n",
    "message3 = f\"Hi, {guest[2].title()} you are invited to dinner.\"\n",
    "message4 = f\"Hi, {guest[3].title()} you are invited to dinner.\"\n",
    "message5 = f\"Hi, {guest[4].title()} you are invited to dinner.\"\n",
    "print(message1)\n",
    "print(message2)\n",
    "print(message3)\n",
    "print(message4)\n",
    "print(message5)"
   ]
  },
  {
   "cell_type": "markdown",
   "metadata": {},
   "source": [
    "3-6 More Guests\n"
   ]
  },
  {
   "cell_type": "code",
   "execution_count": 86,
   "metadata": {},
   "outputs": [
    {
     "name": "stdout",
     "output_type": "stream",
     "text": [
      "I found a bigger table.\n"
     ]
    }
   ],
   "source": [
    "print(\"I found a bigger table.\")"
   ]
  },
  {
   "cell_type": "code",
   "execution_count": 87,
   "metadata": {},
   "outputs": [
    {
     "name": "stdout",
     "output_type": "stream",
     "text": [
      "['prabin', 'niraj', 'pratik', 'pratikshya', 'pratima', 'hrithik', 'summit', 'hemraj']\n"
     ]
    }
   ],
   "source": [
    "guest.insert(0,'prabin')\n",
    "guest.insert(3,'pratikshya')\n",
    "guest.append('hemraj')\n",
    "print(guest)"
   ]
  },
  {
   "cell_type": "code",
   "execution_count": 88,
   "metadata": {},
   "outputs": [
    {
     "name": "stdout",
     "output_type": "stream",
     "text": [
      "Hi, Prabin you are invited to dinner.\n",
      "Hi, Niraj you are invited to dinner.\n",
      "Hi, Pratik you are invited to dinner.\n",
      "Hi, Pratikshya you are invited to dinner.\n",
      "Hi, Pratima you are invited to dinner.\n",
      "Hi, Hrithik you are invited to dinner.\n",
      "Hi, Summit you are invited to dinner.\n",
      "Hi, Hemraj you are invited to dinner.\n"
     ]
    }
   ],
   "source": [
    "message1 = f\"Hi, {guest[0].title()} you are invited to dinner.\"\n",
    "message2 = f\"Hi, {guest[1].title()} you are invited to dinner.\"\n",
    "message3 = f\"Hi, {guest[2].title()} you are invited to dinner.\"\n",
    "message4 = f\"Hi, {guest[3].title()} you are invited to dinner.\"\n",
    "message5 = f\"Hi, {guest[4].title()} you are invited to dinner.\"\n",
    "message6 = f\"Hi, {guest[5].title()} you are invited to dinner.\"\n",
    "message7 = f\"Hi, {guest[6].title()} you are invited to dinner.\"\n",
    "message8 = f\"Hi, {guest[7].title()} you are invited to dinner.\"\n",
    "print(message1)\n",
    "print(message2)\n",
    "print(message3)\n",
    "print(message4)\n",
    "print(message5)\n",
    "print(message6)\n",
    "print(message7)\n",
    "print(message8)"
   ]
  },
  {
   "cell_type": "markdown",
   "metadata": {},
   "source": [
    "3-7 Shrinking Guest List"
   ]
  },
  {
   "cell_type": "code",
   "execution_count": 89,
   "metadata": {},
   "outputs": [
    {
     "name": "stdout",
     "output_type": "stream",
     "text": [
      "I am so sorry new table will not arrive in time i have to limit for 2 people only.\n"
     ]
    }
   ],
   "source": [
    "print(\"I am so sorry new table will not arrive in time i have to limit for 2 people only.\")"
   ]
  },
  {
   "cell_type": "code",
   "execution_count": 90,
   "metadata": {},
   "outputs": [
    {
     "name": "stdout",
     "output_type": "stream",
     "text": [
      "['prabin', 'niraj', 'pratik', 'pratikshya', 'pratima', 'hrithik', 'summit', 'hemraj']\n"
     ]
    }
   ],
   "source": [
    "print(guest)"
   ]
  },
  {
   "cell_type": "code",
   "execution_count": 91,
   "metadata": {},
   "outputs": [
    {
     "name": "stdout",
     "output_type": "stream",
     "text": [
      "I am sorry Prabin due to limited seat i have to cancle you.\n",
      "I am sorry Niraj due to limited seat i have to cancle you.\n",
      "I am sorry Pratik due to limited seat i have to cancle you.\n",
      "I am sorry Pratikshya due to limited seat i have to cancle you.\n",
      "I am sorry Pratima due to limited seat i have to cancle you.\n",
      "I am sorry Hrithik due to limited seat i have to cancle you.\n"
     ]
    }
   ],
   "source": [
    "out1 = f\"I am sorry {guest.pop(0).title()} due to limited seat i have to cancle you.\"\n",
    "print(out1)\n",
    "out2 = f\"I am sorry {guest.pop(0).title()} due to limited seat i have to cancle you.\"\n",
    "print(out2)\n",
    "out3 = f\"I am sorry {guest.pop(0).title()} due to limited seat i have to cancle you.\"\n",
    "print(out3)\n",
    "out4 = f\"I am sorry {guest.pop(0).title()} due to limited seat i have to cancle you.\"\n",
    "print(out4)\n",
    "out5 = f\"I am sorry {guest.pop(0).title()} due to limited seat i have to cancle you.\"\n",
    "print(out5)\n",
    "out6 = f\"I am sorry {guest.pop(0).title()} due to limited seat i have to cancle you.\"\n",
    "print(out6)"
   ]
  },
  {
   "cell_type": "code",
   "execution_count": 92,
   "metadata": {},
   "outputs": [
    {
     "name": "stdout",
     "output_type": "stream",
     "text": [
      "Hi, Summit you are still invited to dinner.\n",
      "Hi, Hemraj you are still invited to dinner.\n"
     ]
    }
   ],
   "source": [
    "message1 = f\"Hi, {guest[0].title()} you are still invited to dinner.\"\n",
    "message2 = f\"Hi, {guest[1].title()} you are still invited to dinner.\"\n",
    "print(message1)\n",
    "print(message2)"
   ]
  },
  {
   "cell_type": "code",
   "execution_count": 93,
   "metadata": {},
   "outputs": [],
   "source": [
    "del guest[0]\n",
    "del guest[0]"
   ]
  },
  {
   "cell_type": "code",
   "execution_count": 94,
   "metadata": {},
   "outputs": [
    {
     "name": "stdout",
     "output_type": "stream",
     "text": [
      "[]\n"
     ]
    }
   ],
   "source": [
    "print(guest)"
   ]
  },
  {
   "cell_type": "code",
   "execution_count": 95,
   "metadata": {},
   "outputs": [
    {
     "data": {
      "text/plain": [
       "0"
      ]
     },
     "execution_count": 95,
     "metadata": {},
     "output_type": "execute_result"
    }
   ],
   "source": [
    "len(guest)"
   ]
  }
 ],
 "metadata": {
  "kernelspec": {
   "display_name": "Python 3",
   "language": "python",
   "name": "python3"
  },
  "language_info": {
   "codemirror_mode": {
    "name": "ipython",
    "version": 3
   },
   "file_extension": ".py",
   "mimetype": "text/x-python",
   "name": "python",
   "nbconvert_exporter": "python",
   "pygments_lexer": "ipython3",
   "version": "3.10.12"
  },
  "orig_nbformat": 4
 },
 "nbformat": 4,
 "nbformat_minor": 2
}
