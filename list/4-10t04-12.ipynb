{
 "cells": [
  {
   "cell_type": "markdown",
   "id": "abb99a11-d7e5-424a-93d2-68845c2eebef",
   "metadata": {},
   "source": [
    "<h3> 4-10 Slices</h3>"
   ]
  },
  {
   "cell_type": "code",
   "execution_count": 1,
   "id": "f64896e5-6195-4090-b2c5-c4a665e15f08",
   "metadata": {},
   "outputs": [
    {
     "name": "stdout",
     "output_type": "stream",
     "text": [
      "[1, 2, 3, 4, 5, 6, 7, 8, 9, 10, 11, 12, 13, 14, 15, 16, 17, 18, 19, 20]\n"
     ]
    }
   ],
   "source": [
    "count = [i+1 for i in range(0,20)]\n",
    "print(count)"
   ]
  },
  {
   "cell_type": "code",
   "execution_count": 7,
   "id": "d6b2b24a-a11c-4429-868b-12936f651766",
   "metadata": {},
   "outputs": [
    {
     "name": "stdout",
     "output_type": "stream",
     "text": [
      "The first three items in the list are: [1, 2, 3].\n"
     ]
    }
   ],
   "source": [
    "print(f\"The first three items in the list are: {count[:3]}.\")"
   ]
  },
  {
   "cell_type": "code",
   "execution_count": 4,
   "id": "c3870c51-a657-4d28-83ec-73fdfe3744ca",
   "metadata": {},
   "outputs": [
    {
     "name": "stdout",
     "output_type": "stream",
     "text": [
      "Three items form the middle of the list are: [11, 12, 13].\n"
     ]
    }
   ],
   "source": [
    "print(f\"Three items form the middle of the list are: {count[10:13]}.\")"
   ]
  },
  {
   "cell_type": "code",
   "execution_count": 6,
   "id": "e0b27110-4bee-44f5-9dc2-7124563cdcd8",
   "metadata": {},
   "outputs": [
    {
     "name": "stdout",
     "output_type": "stream",
     "text": [
      "Last three items are: [18, 19, 20].\n"
     ]
    }
   ],
   "source": [
    "print(f\"Last three items are: {count[-3:]}.\")"
   ]
  },
  {
   "cell_type": "markdown",
   "id": "8d178aa6-688e-4649-9f88-6c5e2f496809",
   "metadata": {},
   "source": [
    "<h3>4-12 My Pizzas, Your Pizzas</h3>"
   ]
  },
  {
   "cell_type": "code",
   "execution_count": 20,
   "id": "ebd69ff0-ba69-4b96-aaaa-d2b64fdb04fa",
   "metadata": {},
   "outputs": [],
   "source": [
    "pizzas = ['cheese pizza','chicken pizza','tandoori pizza']"
   ]
  },
  {
   "cell_type": "code",
   "execution_count": 21,
   "id": "68b25ea1-c72d-484e-b414-b033c262c5fb",
   "metadata": {},
   "outputs": [],
   "source": [
    "friend_pizzas = pizzas[0:]"
   ]
  },
  {
   "cell_type": "code",
   "execution_count": 22,
   "id": "77f4a83f-a26b-49fc-8116-dac17f46fe02",
   "metadata": {},
   "outputs": [],
   "source": [
    "pizzas.append('ramen pizza')"
   ]
  },
  {
   "cell_type": "code",
   "execution_count": 23,
   "id": "701b23e4-ace7-4a3b-bd68-77c010496beb",
   "metadata": {},
   "outputs": [],
   "source": [
    "friend_pizzas.append('smoked pizza')"
   ]
  },
  {
   "cell_type": "code",
   "execution_count": 29,
   "id": "ec1b323c-75ab-4bd0-84e1-9472fd1c6130",
   "metadata": {},
   "outputs": [
    {
     "name": "stdout",
     "output_type": "stream",
     "text": [
      "My favorite Pizza are: \n",
      "\n",
      "cheese pizza\n",
      "chicken pizza\n",
      "tandoori pizza\n",
      "ramen pizza\n"
     ]
    }
   ],
   "source": [
    "print(\"My favorite Pizza are: \\n\")\n",
    "for pizza in pizzas:\n",
    "    print(pizza)"
   ]
  },
  {
   "cell_type": "code",
   "execution_count": 30,
   "id": "48700967-ea91-47df-bdab-19a8241c7037",
   "metadata": {},
   "outputs": [
    {
     "name": "stdout",
     "output_type": "stream",
     "text": [
      "My friend's favorite Pizza are: \n",
      "\n",
      "cheese pizza\n",
      "chicken pizza\n",
      "tandoori pizza\n",
      "smoked pizza\n"
     ]
    }
   ],
   "source": [
    "print(\"My friend's favorite Pizza are: \\n\")\n",
    "for pizza in friend_pizzas:\n",
    "    print(pizza)"
   ]
  },
  {
   "cell_type": "markdown",
   "id": "56167034-0182-4ac1-8991-61c1f075ee5a",
   "metadata": {},
   "source": [
    "<h3>4-12 More Loops</h3>"
   ]
  },
  {
   "cell_type": "code",
   "execution_count": 32,
   "id": "d037c4b2-b1cc-473c-b6b2-1a59227264e1",
   "metadata": {},
   "outputs": [
    {
     "name": "stdout",
     "output_type": "stream",
     "text": [
      "My favorite foods are:\n",
      "pizza\n",
      "falafel\n",
      "carrot cake\n",
      "cannoli\n",
      "\n",
      "My friend's favorite foods are:\n",
      "pizza\n",
      "falafel\n",
      "carrot cake\n",
      "ice cream\n"
     ]
    }
   ],
   "source": [
    "my_foods = ['pizza', 'falafel', 'carrot cake']\n",
    "friend_foods = my_foods[:]\n",
    "my_foods.append('cannoli')\n",
    "friend_foods.append('ice cream')\n",
    "print(\"My favorite foods are:\")\n",
    "for food in my_foods:\n",
    "    print(food)\n",
    "print(\"\\nMy friend's favorite foods are:\")\n",
    "for food in friend_foods:\n",
    "    print(food)\n"
   ]
  },
  {
   "cell_type": "code",
   "execution_count": null,
   "id": "df85d5c6-167e-42e6-bf27-52c5cb10b557",
   "metadata": {},
   "outputs": [
    {
     "name": "stdout",
     "output_type": "stream",
     "text": [
      "\n",
      "Welcome to Python 3.11's help utility!\n",
      "\n",
      "If this is your first time using Python, you should definitely check out\n",
      "the tutorial on the internet at https://docs.python.org/3.11/tutorial/.\n",
      "\n",
      "Enter the name of any module, keyword, or topic to get help on writing\n",
      "Python programs and using Python modules.  To quit this help utility and\n",
      "return to the interpreter, just type \"quit\".\n",
      "\n",
      "To get a list of available modules, keywords, symbols, or topics, type\n",
      "\"modules\", \"keywords\", \"symbols\", or \"topics\".  Each module also comes\n",
      "with a one-line summary of what it does; to list the modules whose name\n",
      "or summary contain a given string such as \"spam\", type \"modules spam\".\n",
      "\n"
     ]
    },
    {
     "name": "stdin",
     "output_type": "stream",
     "text": [
      "help>  list\n"
     ]
    },
    {
     "name": "stdout",
     "output_type": "stream",
     "text": [
      "Help on class list in module builtins:\n",
      "\n",
      "class list(object)\n",
      " |  list(iterable=(), /)\n",
      " |  \n",
      " |  Built-in mutable sequence.\n",
      " |  \n",
      " |  If no argument is given, the constructor creates a new empty list.\n",
      " |  The argument must be an iterable if specified.\n",
      " |  \n",
      " |  Methods defined here:\n",
      " |  \n",
      " |  __add__(self, value, /)\n",
      " |      Return self+value.\n",
      " |  \n",
      " |  __contains__(self, key, /)\n",
      " |      Return key in self.\n",
      " |  \n",
      " |  __delitem__(self, key, /)\n",
      " |      Delete self[key].\n",
      " |  \n",
      " |  __eq__(self, value, /)\n",
      " |      Return self==value.\n",
      " |  \n",
      " |  __ge__(self, value, /)\n",
      " |      Return self>=value.\n",
      " |  \n",
      " |  __getattribute__(self, name, /)\n",
      " |      Return getattr(self, name).\n",
      " |  \n",
      " |  __getitem__(...)\n",
      " |      x.__getitem__(y) <==> x[y]\n",
      " |  \n",
      " |  __gt__(self, value, /)\n",
      " |      Return self>value.\n",
      " |  \n",
      " |  __iadd__(self, value, /)\n",
      " |      Implement self+=value.\n",
      " |  \n",
      " |  __imul__(self, value, /)\n",
      " |      Implement self*=value.\n",
      " |  \n",
      " |  __init__(self, /, *args, **kwargs)\n",
      " |      Initialize self.  See help(type(self)) for accurate signature.\n",
      " |  \n",
      " |  __iter__(self, /)\n",
      " |      Implement iter(self).\n",
      " |  \n",
      " |  __le__(self, value, /)\n",
      " |      Return self<=value.\n",
      " |  \n",
      " |  __len__(self, /)\n",
      " |      Return len(self).\n",
      " |  \n",
      " |  __lt__(self, value, /)\n",
      " |      Return self<value.\n",
      " |  \n",
      " |  __mul__(self, value, /)\n",
      " |      Return self*value.\n",
      " |  \n",
      " |  __ne__(self, value, /)\n",
      " |      Return self!=value.\n",
      " |  \n",
      " |  __repr__(self, /)\n",
      " |      Return repr(self).\n",
      " |  \n",
      " |  __reversed__(self, /)\n",
      " |      Return a reverse iterator over the list.\n",
      " |  \n",
      " |  __rmul__(self, value, /)\n",
      " |      Return value*self.\n",
      " |  \n",
      " |  __setitem__(self, key, value, /)\n",
      " |      Set self[key] to value.\n",
      " |  \n",
      " |  __sizeof__(self, /)\n",
      " |      Return the size of the list in memory, in bytes.\n",
      " |  \n",
      " |  append(self, object, /)\n",
      " |      Append object to the end of the list.\n",
      " |  \n",
      " |  clear(self, /)\n",
      " |      Remove all items from list.\n",
      " |  \n",
      " |  copy(self, /)\n",
      " |      Return a shallow copy of the list.\n",
      " |  \n",
      " |  count(self, value, /)\n",
      " |      Return number of occurrences of value.\n",
      " |  \n",
      " |  extend(self, iterable, /)\n",
      " |      Extend list by appending elements from the iterable.\n",
      " |  \n",
      " |  index(self, value, start=0, stop=9223372036854775807, /)\n",
      " |      Return first index of value.\n",
      " |      \n",
      " |      Raises ValueError if the value is not present.\n",
      " |  \n",
      " |  insert(self, index, object, /)\n",
      " |      Insert object before index.\n",
      " |  \n",
      " |  pop(self, index=-1, /)\n",
      " |      Remove and return item at index (default last).\n",
      " |      \n",
      " |      Raises IndexError if list is empty or index is out of range.\n",
      " |  \n",
      " |  remove(self, value, /)\n",
      " |      Remove first occurrence of value.\n",
      " |      \n",
      " |      Raises ValueError if the value is not present.\n",
      " |  \n",
      " |  reverse(self, /)\n",
      " |      Reverse *IN PLACE*.\n",
      " |  \n",
      " |  sort(self, /, *, key=None, reverse=False)\n",
      " |      Sort the list in ascending order and return None.\n",
      " |      \n",
      " |      The sort is in-place (i.e. the list itself is modified) and stable (i.e. the\n",
      " |      order of two equal elements is maintained).\n",
      " |      \n",
      " |      If a key function is given, apply it once to each list item and sort them,\n",
      " |      ascending or descending, according to their function values.\n",
      " |      \n",
      " |      The reverse flag can be set to sort in descending order.\n",
      " |  \n",
      " |  ----------------------------------------------------------------------\n",
      " |  Class methods defined here:\n",
      " |  \n",
      " |  __class_getitem__(...) from builtins.type\n",
      " |      See PEP 585\n",
      " |  \n",
      " |  ----------------------------------------------------------------------\n",
      " |  Static methods defined here:\n",
      " |  \n",
      " |  __new__(*args, **kwargs) from builtins.type\n",
      " |      Create and return a new object.  See help(type) for accurate signature.\n",
      " |  \n",
      " |  ----------------------------------------------------------------------\n",
      " |  Data and other attributes defined here:\n",
      " |  \n",
      " |  __hash__ = None\n",
      "\n"
     ]
    },
    {
     "name": "stdin",
     "output_type": "stream",
     "text": [
      "help>  if\n"
     ]
    },
    {
     "name": "stdout",
     "output_type": "stream",
     "text": [
      "The \"if\" statement\n",
      "******************\n",
      "\n",
      "The \"if\" statement is used for conditional execution:\n",
      "\n",
      "   if_stmt ::= \"if\" assignment_expression \":\" suite\n",
      "               (\"elif\" assignment_expression \":\" suite)*\n",
      "               [\"else\" \":\" suite]\n",
      "\n",
      "It selects exactly one of the suites by evaluating the expressions one\n",
      "by one until one is found to be true (see section Boolean operations\n",
      "for the definition of true and false); then that suite is executed\n",
      "(and no other part of the \"if\" statement is executed or evaluated).\n",
      "If all expressions are false, the suite of the \"else\" clause, if\n",
      "present, is executed.\n",
      "\n",
      "Related help topics: TRUTHVALUE\n",
      "\n"
     ]
    }
   ],
   "source": [
    "help()"
   ]
  },
  {
   "cell_type": "code",
   "execution_count": null,
   "id": "e83ca0b0-6d99-4b76-8139-65641f1cedb0",
   "metadata": {},
   "outputs": [],
   "source": [
    "km = 10\n",
    "time = 43.30\n"
   ]
  }
 ],
 "metadata": {
  "kernelspec": {
   "display_name": "Python 3 (ipykernel)",
   "language": "python",
   "name": "python3"
  },
  "language_info": {
   "codemirror_mode": {
    "name": "ipython",
    "version": 3
   },
   "file_extension": ".py",
   "mimetype": "text/x-python",
   "name": "python",
   "nbconvert_exporter": "python",
   "pygments_lexer": "ipython3",
   "version": "3.11.4"
  }
 },
 "nbformat": 4,
 "nbformat_minor": 5
}
