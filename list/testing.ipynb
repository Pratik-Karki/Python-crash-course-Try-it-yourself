{
 "cells": [
  {
   "cell_type": "code",
   "execution_count": 2,
   "id": "01f939c5-618b-4aeb-9cfd-20354443b554",
   "metadata": {},
   "outputs": [],
   "source": [
    "dimension = ('pratik', 'dipal', 'how')"
   ]
  },
  {
   "cell_type": "code",
   "execution_count": 5,
   "id": "dc0031dc-25a3-4db6-8935-d2ee8efb4785",
   "metadata": {},
   "outputs": [
    {
     "name": "stdout",
     "output_type": "stream",
     "text": [
      "('pratik', 'dipal', 'how')\n"
     ]
    }
   ],
   "source": [
    "print(dimension[0:3])"
   ]
  },
  {
   "cell_type": "code",
   "execution_count": 6,
   "id": "31c30dd6-5740-422c-bf30-f0c9eb8d2547",
   "metadata": {},
   "outputs": [
    {
     "name": "stdout",
     "output_type": "stream",
     "text": [
      "('pratik', 'dipal', 'how')\n"
     ]
    }
   ],
   "source": [
    "print(dimension)\n"
   ]
  },
  {
   "cell_type": "code",
   "execution_count": 10,
   "id": "296725fb-a94e-429a-b8d2-cdf57b677353",
   "metadata": {},
   "outputs": [],
   "source": [
    "dim = (2,)"
   ]
  },
  {
   "cell_type": "code",
   "execution_count": 12,
   "id": "a06a6383-dcfb-40ba-9408-31368a6db3d1",
   "metadata": {},
   "outputs": [
    {
     "name": "stdout",
     "output_type": "stream",
     "text": [
      "pratik\n",
      "dipal\n",
      "how\n"
     ]
    }
   ],
   "source": [
    "for dim in dimension:\n",
    "    print(dim)\n"
   ]
  },
  {
   "cell_type": "code",
   "execution_count": 16,
   "id": "e9141f02-513a-4c79-bfa8-1b705fdf1263",
   "metadata": {},
   "outputs": [],
   "source": [
    "dimension = ('pratik', 'dipal', 'how','changed')"
   ]
  },
  {
   "cell_type": "code",
   "execution_count": 17,
   "id": "803a9e62-fa2b-471e-a089-d89706799de0",
   "metadata": {},
   "outputs": [
    {
     "name": "stdout",
     "output_type": "stream",
     "text": [
      "('pratik', 'dipal', 'how', 'changed')\n"
     ]
    }
   ],
   "source": [
    "print(dimension)\n"
   ]
  },
  {
   "cell_type": "code",
   "execution_count": 22,
   "id": "eea9b32f-985b-4bed-8838-b11aed685bfb",
   "metadata": {},
   "outputs": [
    {
     "name": "stdout",
     "output_type": "stream",
     "text": [
      "11111111111111111111111111111111111111111111111111111111111111111111111111111111111111"
     ]
    }
   ],
   "source": [
    "for _ in range(86):\n",
    "    print(1,end = '')"
   ]
  },
  {
   "cell_type": "code",
   "execution_count": 27,
   "id": "e61d1a72-2132-43cc-af3e-4830ff7bb453",
   "metadata": {},
   "outputs": [
    {
     "name": "stdout",
     "output_type": "stream",
     "text": [
      "pratik\n",
      "dipal\n",
      "this is how\n",
      "changed\n"
     ]
    }
   ],
   "source": [
    "for dim in dimension:\n",
    "    if dim == 'how':\n",
    "        print(\"this is how\")\n",
    "    else :\n",
    "        print(dim)"
   ]
  },
  {
   "cell_type": "code",
   "execution_count": 19,
   "id": "560ba102-ea1e-4191-833e-9c0894e654d4",
   "metadata": {},
   "outputs": [],
   "source": [
    "dimension2 = ['pratik', 'dipal', 'how','changed']"
   ]
  },
  {
   "cell_type": "code",
   "execution_count": 20,
   "id": "643b855f-ae27-4c15-a4ab-6480b8ce9f77",
   "metadata": {},
   "outputs": [
    {
     "name": "stdout",
     "output_type": "stream",
     "text": [
      "l\n",
      "l\n",
      "l\n",
      "l\n",
      "Username is approved\n",
      "['pratik', 'dipal', 'how', 'changed', 'shyam']\n"
     ]
    }
   ],
   "source": [
    "username = 'shyam'\n",
    "for name in dimension2:\n",
    "    print(\"l\")\n",
    "    if name == username:\n",
    "        print(\"This username is taken\")\n",
    "        break\n",
    "else:\n",
    "    print(\"Username is approved\")\n",
    "    dimension2.append(username)\n",
    "    print(dimension2)\n",
    "\n"
   ]
  },
  {
   "cell_type": "code",
   "execution_count": 21,
   "id": "6d1de28c-0953-403d-81b1-3e058723c80e",
   "metadata": {},
   "outputs": [],
   "source": [
    "x = 121"
   ]
  },
  {
   "cell_type": "code",
   "execution_count": 22,
   "id": "64131436-725a-4336-b87b-f8f48d3d52be",
   "metadata": {},
   "outputs": [
    {
     "name": "stdout",
     "output_type": "stream",
     "text": [
      "username approved\n",
      "['pratik', 'dipal', 'how', 'changed', 'shyam', 'pratima']\n"
     ]
    }
   ],
   "source": [
    "username = 'pratima'\n",
    "if username in dimension2:\n",
    "    print(\"user already exist\")\n",
    "else:\n",
    "    dimension2.append(username)\n",
    "    print(\"username approved\")\n",
    "print(dimension2)"
   ]
  },
  {
   "cell_type": "code",
   "execution_count": 5,
   "id": "aaaa1802-4245-49a4-bfe4-654caca29090",
   "metadata": {
    "tags": []
   },
   "outputs": [
    {
     "name": "stdout",
     "output_type": "stream",
     "text": [
      "6.211180124223602\n",
      "6.9713\n"
     ]
    }
   ],
   "source": [
    "km = 10\n",
    "time = 43.30\n",
    "#If you run a 10 kilometer race in 43 minutes 30 seconds, what is your average time per mile? What\n",
    "#is your average speed in miles per hour? (Hint: there are 1.61 kilometers in a mile)\n",
    "mile = km/1.61\n",
    "print(mile)\n",
    "onemile = time/mile\n",
    "print(onemile)"
   ]
  },
  {
   "cell_type": "code",
   "execution_count": 5,
   "id": "9462f31e-91d1-4368-9720-66e9e0c0d6dd",
   "metadata": {},
   "outputs": [
    {
     "name": "stdout",
     "output_type": "stream",
     "text": [
      "Frenchfries is not available.\n",
      "Mushroom is available.\n",
      "Chicken is available.\n"
     ]
    }
   ],
   "source": [
    "available = [\"mushroom\",\"pineapple\",\"chicken\"]\n",
    "ordered = [\"frenchfries\",\"mushroom\",\"Chicken\"]\n",
    "for toppings in ordered:\n",
    "    if toppings.lower() in available:\n",
    "        print(f\"{toppings.title()} is available.\")\n",
    "    else:\n",
    "        print(f\"{toppings.title()} is not available.\")"
   ]
  },
  {
   "cell_type": "code",
   "execution_count": 3,
   "id": "8670b3b5",
   "metadata": {},
   "outputs": [],
   "source": [
    "ownlist = ['honda','yamaha','suzuki','royal enfield']\n"
   ]
  },
  {
   "cell_type": "code",
   "execution_count": 9,
   "id": "ace5fab0",
   "metadata": {},
   "outputs": [
    {
     "name": "stdout",
     "output_type": "stream",
     "text": [
      "I would like to own Honda motorcycle.\n",
      "I would like to own Yamaha motorcycle.\n",
      "I would like to own Suzuki motorcycle.\n",
      "I would like to own Royal Enfield motorcycle.\n"
     ]
    }
   ],
   "source": [
    "for bikes in ownlist[0:]:\n",
    "    print(f\"I would like to own {bikes.title()} motorcycle.\")"
   ]
  },
  {
   "cell_type": "code",
   "execution_count": 3,
   "id": "59ed782b",
   "metadata": {},
   "outputs": [
    {
     "name": "stdout",
     "output_type": "stream",
     "text": [
      "Hello! Ram. \n",
      "Hello! Shyam. \n",
      "Hello! Hari. \n",
      "Hello! Gopal. \n"
     ]
    }
   ],
   "source": [
    "li = ['ram','shyam','hari','gopal']\n",
    "for names in li:\n",
    "    print(f\"Hello! {names.title()}. \")"
   ]
  },
  {
   "cell_type": "code",
   "execution_count": null,
   "id": "94c39c73",
   "metadata": {},
   "outputs": [],
   "source": []
  }
 ],
 "metadata": {
  "kernelspec": {
   "display_name": "Python 3 (ipykernel)",
   "language": "python",
   "name": "python3"
  },
  "language_info": {
   "codemirror_mode": {
    "name": "ipython",
    "version": 3
   },
   "file_extension": ".py",
   "mimetype": "text/x-python",
   "name": "python",
   "nbconvert_exporter": "python",
   "pygments_lexer": "ipython3",
   "version": "3.11.4"
  }
 },
 "nbformat": 4,
 "nbformat_minor": 5
}
