{
 "cells": [
  {
   "cell_type": "markdown",
   "metadata": {},
   "source": [
    "Accessing elements in the list."
   ]
  },
  {
   "cell_type": "markdown",
   "metadata": {},
   "source": [
    "3-1 Names"
   ]
  },
  {
   "cell_type": "code",
   "execution_count": 1,
   "metadata": {},
   "outputs": [],
   "source": [
    "names = ['pratik','hrithik','summit']"
   ]
  },
  {
   "cell_type": "code",
   "execution_count": 2,
   "metadata": {},
   "outputs": [
    {
     "name": "stdout",
     "output_type": "stream",
     "text": [
      "Pratik\n",
      "Hrithik\n",
      "Summit\n"
     ]
    }
   ],
   "source": [
    "print(names[0].title())\n",
    "print(names[1].title())\n",
    "print(names[2].title())"
   ]
  },
  {
   "cell_type": "markdown",
   "metadata": {},
   "source": [
    "3-2 Greetings"
   ]
  },
  {
   "cell_type": "code",
   "execution_count": 6,
   "metadata": {},
   "outputs": [],
   "source": [
    "message1 = f\"His name is {names[0].title()}.\"\n",
    "message2 = f\"His name is {names[1].title()}.\"\n",
    "message3 = f\"His name is {names[2].title()}.\""
   ]
  },
  {
   "cell_type": "code",
   "execution_count": 7,
   "metadata": {},
   "outputs": [
    {
     "name": "stdout",
     "output_type": "stream",
     "text": [
      "His name is Pratik.\n",
      "His name is Hrithik.\n",
      "His name is Summit.\n"
     ]
    }
   ],
   "source": [
    "print(message1)\n",
    "print(message2)\n",
    "print(message3)"
   ]
  },
  {
   "cell_type": "markdown",
   "metadata": {},
   "source": [
    "3-3 Your own list"
   ]
  },
  {
   "cell_type": "code",
   "execution_count": 11,
   "metadata": {},
   "outputs": [
    {
     "name": "stdout",
     "output_type": "stream",
     "text": [
      "I would like to own Honda motorcycle.\n",
      "I would like to own Yamaha motorcycle.\n",
      "I would like to own Suzuki motorcycle.\n",
      "I would like to own Royal Enfield motorcycle.\n"
     ]
    }
   ],
   "source": [
    "ownlist = ['honda','yamaha','suzuki','royal enfield']\n",
    "mess = f\"I would like to own {ownlist[0].title()} motorcycle.\"\n",
    "mess1 = f\"I would like to own {ownlist[1].title()} motorcycle.\"\n",
    "mess2 = f\"I would like to own {ownlist[2].title()} motorcycle.\"\n",
    "mess3 = f\"I would like to own {ownlist[3].title()} motorcycle.\"\n",
    "\n",
    "print(mess)\n",
    "print(mess1)\n",
    "print(mess2)\n",
    "print(mess3)\n"
   ]
  }
 ],
 "metadata": {
  "kernelspec": {
   "display_name": "Python 3 (ipykernel)",
   "language": "python",
   "name": "python3"
  },
  "language_info": {
   "codemirror_mode": {
    "name": "ipython",
    "version": 3
   },
   "file_extension": ".py",
   "mimetype": "text/x-python",
   "name": "python",
   "nbconvert_exporter": "python",
   "pygments_lexer": "ipython3",
   "version": "3.11.4"
  }
 },
 "nbformat": 4,
 "nbformat_minor": 4
}
