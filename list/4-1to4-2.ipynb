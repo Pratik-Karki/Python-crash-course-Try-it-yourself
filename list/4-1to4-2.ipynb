{
 "cells": [
  {
   "cell_type": "markdown",
   "id": "04a18926-2e76-4be7-aad3-8938787e46fb",
   "metadata": {},
   "source": [
    "<h3>4-1 Pizzas</h3>"
   ]
  },
  {
   "cell_type": "code",
   "execution_count": 4,
   "id": "220923df-debf-48f2-b9b4-2341e159c4a6",
   "metadata": {},
   "outputs": [
    {
     "name": "stdout",
     "output_type": "stream",
     "text": [
      "I like big pizza.\n",
      "I like small pizza.\n",
      "I like medium pizza.\n",
      "\n",
      "I really love all these pizzas.\n"
     ]
    }
   ],
   "source": [
    "pizzas = ['big pizza','small pizza','medium pizza']\n",
    "for pizza in pizzas:\n",
    "    print(f\"I like {pizza}.\")\n",
    "print(\"\\nI really love all these pizzas.\")"
   ]
  },
  {
   "cell_type": "markdown",
   "id": "e4106217-d044-460f-906a-11e732a9f770",
   "metadata": {},
   "source": [
    "<h3>4-2 Animals</h3>"
   ]
  },
  {
   "cell_type": "code",
   "execution_count": 9,
   "id": "accbbe44-7a1e-4d03-8834-9ef713a0c4e3",
   "metadata": {
    "tags": []
   },
   "outputs": [
    {
     "name": "stdout",
     "output_type": "stream",
     "text": [
      "Cow would make great pet for milk.\n",
      "Buffalo would make great pet for milk.\n",
      "Goat would make great pet for milk.\n",
      "\n",
      "All of these animals gives milk.\n"
     ]
    }
   ],
   "source": [
    "animals = ['cow','buffalo','goat']\n",
    "for animal in animals:\n",
    "    print(f\"{animal.title()} would make great pet for milk.\")\n",
    "print(\"\\nAll of these animals gives milk.\")"
   ]
  }
 ],
 "metadata": {
  "kernelspec": {
   "display_name": "Python 3 (ipykernel)",
   "language": "python",
   "name": "python3"
  },
  "language_info": {
   "codemirror_mode": {
    "name": "ipython",
    "version": 3
   },
   "file_extension": ".py",
   "mimetype": "text/x-python",
   "name": "python",
   "nbconvert_exporter": "python",
   "pygments_lexer": "ipython3",
   "version": "3.11.4"
  }
 },
 "nbformat": 4,
 "nbformat_minor": 5
}
