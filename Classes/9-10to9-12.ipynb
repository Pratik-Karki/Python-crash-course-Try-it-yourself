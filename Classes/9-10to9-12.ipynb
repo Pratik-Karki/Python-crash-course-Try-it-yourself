{
 "cells": [
  {
   "cell_type": "markdown",
   "id": "da4ce59a",
   "metadata": {},
   "source": [
    "<h3>9-10. Imported Restaurant</h3>"
   ]
  },
  {
   "cell_type": "code",
   "execution_count": 12,
   "id": "0da2b49d",
   "metadata": {},
   "outputs": [],
   "source": [
    "from restaurant import Restaurant"
   ]
  },
  {
   "cell_type": "code",
   "execution_count": 16,
   "id": "129f161f",
   "metadata": {},
   "outputs": [],
   "source": [
    "new_resta = Restaurant('lahana','newari')"
   ]
  },
  {
   "cell_type": "code",
   "execution_count": 18,
   "id": "59f71248",
   "metadata": {},
   "outputs": [
    {
     "name": "stdout",
     "output_type": "stream",
     "text": [
      "The restaurant name is lahana.\n",
      "This restaurant offers newari type of cuisine.\n",
      "The restaurant is open.\n"
     ]
    }
   ],
   "source": [
    "new_resta.describe_restaurant()\n",
    "new_resta.open_restaurant()\n"
   ]
  },
  {
   "cell_type": "markdown",
   "id": "07d6b296",
   "metadata": {},
   "source": [
    "<h3>9-11. Imported Admin</h3>"
   ]
  },
  {
   "cell_type": "code",
   "execution_count": 30,
   "id": "0334cb0c",
   "metadata": {},
   "outputs": [
    {
     "data": {
      "text/plain": [
       "<Signature (first_name, last_name, address)>"
      ]
     },
     "execution_count": 30,
     "metadata": {},
     "output_type": "execute_result"
    }
   ],
   "source": [
    "import make_User\n",
    "import inspect\n",
    "inspect.signature(Users)"
   ]
  },
  {
   "cell_type": "code",
   "execution_count": 32,
   "id": "c00c829d",
   "metadata": {},
   "outputs": [],
   "source": [
    "admin_user1 = Admin('pratik','karki','sankhu')"
   ]
  },
  {
   "cell_type": "code",
   "execution_count": 33,
   "id": "eebe647d",
   "metadata": {},
   "outputs": [
    {
     "name": "stdout",
     "output_type": "stream",
     "text": [
      "Privilages for Pratik Karki are:\n",
      "Can Add Post\n",
      "Can Delete Post\n",
      "Can Ban User\n"
     ]
    }
   ],
   "source": [
    "admin_user1.show_privilage()"
   ]
  },
  {
   "cell_type": "markdown",
   "id": "e080a786",
   "metadata": {},
   "source": [
    "<h3>9-12. Multiple Modules</h3>"
   ]
  },
  {
   "cell_type": "code",
   "execution_count": 39,
   "id": "c44d302c",
   "metadata": {},
   "outputs": [],
   "source": [
    "import admin"
   ]
  },
  {
   "cell_type": "code",
   "execution_count": 43,
   "id": "c91456ff",
   "metadata": {},
   "outputs": [],
   "source": [
    "new_admin = admin.Admin('prabin','karki','nepaltar')"
   ]
  },
  {
   "cell_type": "code",
   "execution_count": 44,
   "id": "655a7362",
   "metadata": {},
   "outputs": [
    {
     "name": "stdout",
     "output_type": "stream",
     "text": [
      "Privilages for Prabin Karki are:\n",
      "Can Add Post\n",
      "Can Delete Post\n",
      "Can Ban User\n"
     ]
    }
   ],
   "source": [
    "new_admin.show_privilage()"
   ]
  },
  {
   "cell_type": "code",
   "execution_count": null,
   "id": "a983203e",
   "metadata": {},
   "outputs": [],
   "source": []
  }
 ],
 "metadata": {
  "kernelspec": {
   "display_name": "Python 3 (ipykernel)",
   "language": "python",
   "name": "python3"
  },
  "language_info": {
   "codemirror_mode": {
    "name": "ipython",
    "version": 3
   },
   "file_extension": ".py",
   "mimetype": "text/x-python",
   "name": "python",
   "nbconvert_exporter": "python",
   "pygments_lexer": "ipython3",
   "version": "3.11.4"
  }
 },
 "nbformat": 4,
 "nbformat_minor": 5
}
