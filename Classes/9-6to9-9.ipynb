{
 "cells": [
  {
   "cell_type": "markdown",
   "id": "25a40497",
   "metadata": {},
   "source": [
    "<h3>9-6. Ice Cream Stand</h3>"
   ]
  },
  {
   "cell_type": "code",
   "execution_count": 4,
   "id": "714f47a9",
   "metadata": {},
   "outputs": [],
   "source": [
    "class Restaurant:\n",
    "    def __init__(self,restaurant_name,cuisine_type):\n",
    "        self.restaurant_name = restaurant_name\n",
    "        self.cuisine_type = cuisine_type\n",
    "        self.number_served = 0\n",
    "    \n",
    "    def describe_restaurant(self):\n",
    "        print(f\"The restaurant name is {self.restaurant_name}.\")\n",
    "        print(f\"This restaurant offers {self.cuisine_type} type of cuisine.\")\n",
    "    def open_restaurant(self):\n",
    "        print(f\"The restaurant is open.\")\n",
    "    def set_number_served(self,number):\n",
    "        self.number_served = number\n",
    "    def increment_number_served(self,number):\n",
    "            self.number_served += number"
   ]
  },
  {
   "cell_type": "code",
   "execution_count": 13,
   "id": "8dc33a68",
   "metadata": {},
   "outputs": [],
   "source": [
    "class IceCreamStand(Restaurant):\n",
    "    def __init__(self,restaurant_name,cuisine_type):\n",
    "        super().__init__(restaurant_name,cuisine_type)\n",
    "        self.flavours = ['vanila','chocolate','21st love']\n",
    "    def availabel_flavours(self):\n",
    "        print(f\"Available flavours are:\")\n",
    "        for flav in self.flavours:\n",
    "            print(flav)"
   ]
  },
  {
   "cell_type": "code",
   "execution_count": 14,
   "id": "50fa49b6",
   "metadata": {},
   "outputs": [],
   "source": [
    "wh = IceCreamStand('grims','manderian')"
   ]
  },
  {
   "cell_type": "code",
   "execution_count": 15,
   "id": "57aefbf8",
   "metadata": {},
   "outputs": [
    {
     "name": "stdout",
     "output_type": "stream",
     "text": [
      "Available flavours are:\n",
      "vanila\n",
      "chocolate\n",
      "21st love\n"
     ]
    }
   ],
   "source": [
    "wh.availabel_flavours()"
   ]
  },
  {
   "cell_type": "markdown",
   "id": "a44d35f0",
   "metadata": {},
   "source": [
    "<h3>9-7. Admin</h3>"
   ]
  },
  {
   "cell_type": "code",
   "execution_count": 16,
   "id": "d63c4469",
   "metadata": {},
   "outputs": [],
   "source": [
    "class Users:\n",
    "    def __init__(self,first_name,last_name,address):\n",
    "        self.first_name = first_name\n",
    "        self.last_name = last_name\n",
    "        self.address = address\n",
    "    def describe_user(self):\n",
    "        print(\"Summary of user's profile\")\n",
    "        print(f\"- First Name = {self.first_name.title()}\\n- Last Name = {self.last_name.title()}\\n- Address = {self.address.title()}\")\n",
    "    def greet_user(self):\n",
    "              print(f\"Hello!! {self.first_name.title()} {self.last_name.title()}. Welcome to NEWA TAWA.\")\n",
    "        "
   ]
  },
  {
   "cell_type": "code",
   "execution_count": 19,
   "id": "bdd8c6d7",
   "metadata": {},
   "outputs": [],
   "source": [
    "class Admin(Users):\n",
    "    def __init__(self,first_name,last_name,address):\n",
    "        super().__init__(first_name,last_name,address)\n",
    "        self.privilage = ['can add post','can delete post','can ban user']\n",
    "    def show_privilage(self):\n",
    "        print(f\"Privilages for {self.first_name.title()} {self.last_name.title()} are:\")\n",
    "        for priv in self.privilage:\n",
    "            print(priv.title())\n",
    "    "
   ]
  },
  {
   "cell_type": "code",
   "execution_count": 20,
   "id": "c1d0f2f4",
   "metadata": {},
   "outputs": [],
   "source": [
    "admin_priv = Admin('pratik','karki','sankhu')"
   ]
  },
  {
   "cell_type": "code",
   "execution_count": 21,
   "id": "08c4115b",
   "metadata": {},
   "outputs": [
    {
     "name": "stdout",
     "output_type": "stream",
     "text": [
      "Privilages for Pratik Karki are:\n",
      "Can Add Post\n",
      "Can Delete Post\n",
      "Can Ban User\n"
     ]
    }
   ],
   "source": [
    "admin_priv.show_privilage()"
   ]
  },
  {
   "cell_type": "markdown",
   "id": "6d3dc068",
   "metadata": {},
   "source": [
    "<h3>9-8. Privileges</h3>"
   ]
  },
  {
   "cell_type": "code",
   "execution_count": 52,
   "id": "95bd12a3",
   "metadata": {},
   "outputs": [],
   "source": [
    "class Privileges:\n",
    "    def __init__(self):\n",
    "        self.privileges = ['can add post','can delete post','can ban user']\n",
    "    def show_privilege(self):\n",
    "        for priv in self.privileges:\n",
    "            print(priv.title()) "
   ]
  },
  {
   "cell_type": "code",
   "execution_count": 53,
   "id": "bc25a051",
   "metadata": {},
   "outputs": [],
   "source": [
    "class Users:\n",
    "    def __init__(self,first_name,last_name,address):\n",
    "        self.first_name = first_name\n",
    "        self.last_name = last_name\n",
    "        self.address = address\n",
    "        self.privileges = Privileges()\n",
    "    def describe_user(self):\n",
    "        print(\"Summary of user's profile\")\n",
    "        print(f\"- First Name = {self.first_name.title()}\\n- Last Name = {self.last_name.title()}\\n- Address = {self.address.title()}\")\n",
    "    def greet_user(self):\n",
    "              print(f\"Hello!! {self.first_name.title()} {self.last_name.title()}. Welcome to NEWA TAWA.\")\n",
    "        "
   ]
  },
  {
   "cell_type": "code",
   "execution_count": 54,
   "id": "59912a53",
   "metadata": {},
   "outputs": [],
   "source": [
    "addd = Users('pratima','thakuri','budanilkantha')"
   ]
  },
  {
   "cell_type": "code",
   "execution_count": 55,
   "id": "8fcf39b9",
   "metadata": {},
   "outputs": [
    {
     "name": "stdout",
     "output_type": "stream",
     "text": [
      "Can Add Post\n",
      "Can Delete Post\n",
      "Can Ban User\n"
     ]
    }
   ],
   "source": [
    "addd.privileges.show_privilege()"
   ]
  },
  {
   "cell_type": "markdown",
   "id": "4381da33",
   "metadata": {},
   "source": [
    "<h3>9-9. Battery Upgrade</h3>"
   ]
  },
  {
   "cell_type": "code",
   "execution_count": 56,
   "id": "408912ad",
   "metadata": {},
   "outputs": [],
   "source": [
    "class Car():\n",
    "    \"\"\"A simple attempt to represent a car.\"\"\"\n",
    "    def __init__(self, make, model, year):\n",
    "        self.make = make\n",
    "        self.model = model\n",
    "        self.year = year\n",
    "        self.odometer_reading = 0\n",
    "    def get_descriptive_name(self):\n",
    "        long_name = str(self.year) + ' ' + self.make + ' ' + self.model\n",
    "        return long_name.title()\n",
    "    def read_odometer(self):\n",
    "        print(\"This car has \" + str(self.odometer_reading) + \" miles on it.\")\n",
    "    def update_odometer(self, mileage):\n",
    "        if mileage >= self.odometer_reading:\n",
    "            self.odometer_reading = mileage\n",
    "        else:\n",
    "            print(\"You can't roll back an odometer!\")\n",
    "    def increment_odometer(self, miles):\n",
    "        self.odometer_reading += miles"
   ]
  },
  {
   "cell_type": "code",
   "execution_count": 61,
   "id": "76aedc67",
   "metadata": {},
   "outputs": [],
   "source": [
    "class Battery():\n",
    "    \"\"\"A simple attempt to model a battery for an electric car.\"\"\"\n",
    "    def __init__(self, battery_size=70):\n",
    "        \"\"\"Initialize the battery's attributes.\"\"\"\n",
    "        self.battery_size = battery_size\n",
    "    def describe_battery(self):\n",
    "        \"\"\"Print a statement describing the battery size.\"\"\"\n",
    "        print(\"This car has a \" + str(self.battery_size) + \"-kWh battery.\")\n",
    "    def get_range(self):\n",
    "        \"\"\"Print a statement about the range this battery provides.\"\"\"\n",
    "        if self.battery_size == 70:\n",
    "            range = 240\n",
    "        elif self.battery_size == 85:\n",
    "            range = 270\n",
    "        message = \"This car can go approximately \" + str(range)\n",
    "        message += \" miles on a full charge.\"\n",
    "        print(message)\n",
    "    def update_battery(self):\n",
    "        if self.battery_size != 85:\n",
    "            self.battery_size = 85"
   ]
  },
  {
   "cell_type": "code",
   "execution_count": 60,
   "id": "be49ae1d",
   "metadata": {},
   "outputs": [],
   "source": [
    "class ElectricCar(Car):\n",
    "    \"\"\"Represent aspects of a car, specific to electric vehicles.\"\"\"\n",
    "    def __init__(self, make, model, year):\n",
    "        \"\"\"\n",
    "        Initialize attributes of the parent class.\n",
    "        Then initialize attributes specific to an electric car.\n",
    "        \"\"\"\n",
    "        super().__init__(make, model, year)\n",
    "        self.battery = Battery()"
   ]
  },
  {
   "cell_type": "code",
   "execution_count": 62,
   "id": "f88b2fb0",
   "metadata": {},
   "outputs": [],
   "source": [
    "car1 = ElectricCar('tesla','cybertruck','2023')"
   ]
  },
  {
   "cell_type": "code",
   "execution_count": 63,
   "id": "7702d552",
   "metadata": {},
   "outputs": [
    {
     "name": "stdout",
     "output_type": "stream",
     "text": [
      "This car can go approximately 240 miles on a full charge.\n"
     ]
    }
   ],
   "source": [
    "car1.battery.get_range()"
   ]
  },
  {
   "cell_type": "code",
   "execution_count": 64,
   "id": "1b36c001",
   "metadata": {},
   "outputs": [],
   "source": [
    "car1.battery.update_battery()"
   ]
  },
  {
   "cell_type": "code",
   "execution_count": 65,
   "id": "3292c949",
   "metadata": {},
   "outputs": [
    {
     "name": "stdout",
     "output_type": "stream",
     "text": [
      "This car can go approximately 270 miles on a full charge.\n"
     ]
    }
   ],
   "source": [
    "car1.battery.get_range()"
   ]
  }
 ],
 "metadata": {
  "kernelspec": {
   "display_name": "Python 3 (ipykernel)",
   "language": "python",
   "name": "python3"
  },
  "language_info": {
   "codemirror_mode": {
    "name": "ipython",
    "version": 3
   },
   "file_extension": ".py",
   "mimetype": "text/x-python",
   "name": "python",
   "nbconvert_exporter": "python",
   "pygments_lexer": "ipython3",
   "version": "3.11.4"
  }
 },
 "nbformat": 4,
 "nbformat_minor": 5
}
