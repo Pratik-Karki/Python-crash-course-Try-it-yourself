{
 "cells": [
  {
   "cell_type": "markdown",
   "id": "51c1eae5",
   "metadata": {},
   "source": [
    "<h3>9-1. Resturant</h3>"
   ]
  },
  {
   "cell_type": "code",
   "execution_count": 1,
   "id": "adcfd4f2",
   "metadata": {},
   "outputs": [],
   "source": [
    "class Restaurant:\n",
    "    def __init__(self,restaurant_name,cuisine_type):\n",
    "        self.restaurant_name = restaurant_name\n",
    "        self.cuisine_type = cuisine_type\n",
    "    \n",
    "    def describe_restaurant(self):\n",
    "        print(f\"The restaurant name is {self.restaurant_name}.\")\n",
    "        print(f\"This restaurant offers {self.cuisine_type} type of cuisine.\")\n",
    "    def open_restaurant(self):\n",
    "        print(f\"The restaurant is open.\")\n"
   ]
  },
  {
   "cell_type": "code",
   "execution_count": 9,
   "id": "33f20927",
   "metadata": {},
   "outputs": [
    {
     "name": "stdout",
     "output_type": "stream",
     "text": [
      "Lahana\n",
      "Newari\n",
      "The restaurant name is Lahana.\n",
      "This restaurant offers Newari type of cuisine.\n",
      "The restaurant is open.\n"
     ]
    }
   ],
   "source": [
    "my_restaurant = Restaurant('Lahana','Newari')\n",
    "print(f\"{my_restaurant.restaurant_name}\")\n",
    "print(f\"{my_restaurant.cuisine_type}\")\n",
    "my_restaurant.describe_restaurant()\n",
    "my_restaurant.open_restaurant()"
   ]
  },
  {
   "cell_type": "markdown",
   "id": "b8952359",
   "metadata": {},
   "source": [
    "<h3>9-2. Three Resturants</h3>"
   ]
  },
  {
   "cell_type": "code",
   "execution_count": 12,
   "id": "233aff2a",
   "metadata": {},
   "outputs": [
    {
     "name": "stdout",
     "output_type": "stream",
     "text": [
      "The restaurant name is cafe coffe lover.\n",
      "This restaurant offers continetal type of cuisine.\n"
     ]
    }
   ],
   "source": [
    "restaurant_2 = Restaurant('cafe coffe lover','continetal')\n",
    "restaurant_2.describe_restaurant()"
   ]
  },
  {
   "cell_type": "code",
   "execution_count": 13,
   "id": "05ac2ab2",
   "metadata": {},
   "outputs": [
    {
     "name": "stdout",
     "output_type": "stream",
     "text": [
      "The restaurant name is sasa.\n",
      "This restaurant offers Newari type of cuisine.\n"
     ]
    }
   ],
   "source": [
    "restaurant_3 = Restaurant('sasa','Newari')\n",
    "restaurant_3.describe_restaurant()"
   ]
  },
  {
   "cell_type": "code",
   "execution_count": 14,
   "id": "28f61d25",
   "metadata": {},
   "outputs": [
    {
     "name": "stdout",
     "output_type": "stream",
     "text": [
      "The restaurant name is attic.\n",
      "This restaurant offers everything type of cuisine.\n"
     ]
    }
   ],
   "source": [
    "restaurant_4 = Restaurant('attic','everything')\n",
    "restaurant_4.describe_restaurant()"
   ]
  },
  {
   "cell_type": "markdown",
   "id": "c74dbdb6",
   "metadata": {},
   "source": [
    "<h3>9-3. Users</h3>"
   ]
  },
  {
   "cell_type": "code",
   "execution_count": 37,
   "id": "62dbd9e2",
   "metadata": {},
   "outputs": [],
   "source": [
    "class Users:\n",
    "    def __init__(self,first_name,last_name,address):\n",
    "        self.first_name = first_name\n",
    "        self.last_name = last_name\n",
    "        self.address = address\n",
    "    def describe_user(self):\n",
    "        print(\"Summary of user's profile\")\n",
    "        print(f\"- First Name = {self.first_name.title()}\\n- Last Name = {self.last_name.title()}\\n- Address = {self.address.title()}\")\n",
    "    def greet_user(self):\n",
    "              print(f\"Hello!! {self.first_name.title()} {self.last_name.title()}. Welcome to NEWA TAWA.\")\n",
    "        "
   ]
  },
  {
   "cell_type": "code",
   "execution_count": 38,
   "id": "32f2f84f",
   "metadata": {},
   "outputs": [
    {
     "name": "stdout",
     "output_type": "stream",
     "text": [
      "Summary of user's profile\n",
      "- First Name = Pratik\n",
      "- Last Name = Karki\n",
      "- Address = Sankhu\n",
      "Hello!! Pratik Karki. Welcome to NEWA TAWA.\n"
     ]
    }
   ],
   "source": [
    "customer1 = Users('pratik','karki','sankhu')\n",
    "customer1.describe_user()\n",
    "customer1.greet_user()"
   ]
  },
  {
   "cell_type": "code",
   "execution_count": 39,
   "id": "7e8ba43a",
   "metadata": {},
   "outputs": [
    {
     "name": "stdout",
     "output_type": "stream",
     "text": [
      "Summary of user's profile\n",
      "- First Name = Pratima\n",
      "- Last Name = Thakuri\n",
      "- Address = Narayanthan\n",
      "Hello!! Pratima Thakuri. Welcome to NEWA TAWA.\n"
     ]
    }
   ],
   "source": [
    "customer2 = Users('pratima','thakuri','narayanthan')\n",
    "customer2.describe_user()\n",
    "customer2.greet_user()"
   ]
  },
  {
   "cell_type": "code",
   "execution_count": 40,
   "id": "651f6324",
   "metadata": {},
   "outputs": [
    {
     "name": "stdout",
     "output_type": "stream",
     "text": [
      "Summary of user's profile\n",
      "- First Name = Hrithik\n",
      "- Last Name = Basnet\n",
      "- Address = Nepaltar\n",
      "Hello!! Hrithik Basnet. Welcome to NEWA TAWA.\n"
     ]
    }
   ],
   "source": [
    "customer3 = Users('hrithik','basnet','nepaltar')\n",
    "customer3.describe_user()\n",
    "customer3.greet_user()"
   ]
  }
 ],
 "metadata": {
  "kernelspec": {
   "display_name": "Python 3 (ipykernel)",
   "language": "python",
   "name": "python3"
  },
  "language_info": {
   "codemirror_mode": {
    "name": "ipython",
    "version": 3
   },
   "file_extension": ".py",
   "mimetype": "text/x-python",
   "name": "python",
   "nbconvert_exporter": "python",
   "pygments_lexer": "ipython3",
   "version": "3.11.4"
  }
 },
 "nbformat": 4,
 "nbformat_minor": 5
}
