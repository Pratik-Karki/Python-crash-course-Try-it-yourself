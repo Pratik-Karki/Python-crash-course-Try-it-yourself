{
 "cells": [
  {
   "cell_type": "markdown",
   "id": "25a40497",
   "metadata": {},
   "source": [
    "<h3>9-6. Ice Cream Stand</h3>"
   ]
  },
  {
   "cell_type": "code",
   "execution_count": null,
   "id": "714f47a9",
   "metadata": {},
   "outputs": [],
   "source": []
  },
  {
   "cell_type": "markdown",
   "id": "a44d35f0",
   "metadata": {},
   "source": [
    "<h3>9-7. Admin</h3>"
   ]
  },
  {
   "cell_type": "code",
   "execution_count": null,
   "id": "bdd8c6d7",
   "metadata": {},
   "outputs": [],
   "source": []
  },
  {
   "cell_type": "markdown",
   "id": "6d3dc068",
   "metadata": {},
   "source": [
    "<h3>9-8. Privileges</h3>"
   ]
  },
  {
   "cell_type": "code",
   "execution_count": null,
   "id": "95bd12a3",
   "metadata": {},
   "outputs": [],
   "source": []
  },
  {
   "cell_type": "markdown",
   "id": "4381da33",
   "metadata": {},
   "source": [
    "<h3>9-9. Battery Upgrade</h3>"
   ]
  },
  {
   "cell_type": "code",
   "execution_count": null,
   "id": "408912ad",
   "metadata": {},
   "outputs": [],
   "source": []
  }
 ],
 "metadata": {
  "kernelspec": {
   "display_name": "Python 3 (ipykernel)",
   "language": "python",
   "name": "python3"
  },
  "language_info": {
   "codemirror_mode": {
    "name": "ipython",
    "version": 3
   },
   "file_extension": ".py",
   "mimetype": "text/x-python",
   "name": "python",
   "nbconvert_exporter": "python",
   "pygments_lexer": "ipython3",
   "version": "3.11.4"
  }
 },
 "nbformat": 4,
 "nbformat_minor": 5
}
