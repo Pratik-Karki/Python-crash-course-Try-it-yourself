{
 "cells": [
  {
   "cell_type": "markdown",
   "id": "94886220",
   "metadata": {},
   "source": [
    "<h3>9-4. Number Served</h3>"
   ]
  },
  {
   "cell_type": "code",
   "execution_count": null,
   "id": "6431a2fd",
   "metadata": {},
   "outputs": [],
   "source": [
    "class Restaurant:\n",
    "    def __init__(self,restaurant_name,cuisine_type):\n",
    "        self.restaurant_name = restaurant_name\n",
    "        self.cuisine_type = cuisine_type\n",
    "        self.number_served = 0\n",
    "    \n",
    "    def describe_restaurant(self):\n",
    "        print(f\"The restaurant name is {self.restaurant_name}.\")\n",
    "        print(f\"This restaurant offers {self.cuisine_type} type of cuisine.\")\n",
    "    def open_restaurant(self):\n",
    "        print(f\"The restaurant is open.\")\n"
   ]
  },
  {
   "cell_type": "markdown",
   "id": "0285d787",
   "metadata": {},
   "source": [
    "<h3>9-5. Login Attempts</h3>"
   ]
  },
  {
   "cell_type": "code",
   "execution_count": null,
   "id": "d73adf22",
   "metadata": {},
   "outputs": [],
   "source": []
  }
 ],
 "metadata": {
  "kernelspec": {
   "display_name": "Python 3 (ipykernel)",
   "language": "python",
   "name": "python3"
  },
  "language_info": {
   "codemirror_mode": {
    "name": "ipython",
    "version": 3
   },
   "file_extension": ".py",
   "mimetype": "text/x-python",
   "name": "python",
   "nbconvert_exporter": "python",
   "pygments_lexer": "ipython3",
   "version": "3.11.4"
  }
 },
 "nbformat": 4,
 "nbformat_minor": 5
}
