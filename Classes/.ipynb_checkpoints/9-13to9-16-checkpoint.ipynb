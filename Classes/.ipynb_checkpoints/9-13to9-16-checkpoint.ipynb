{
 "cells": [
  {
   "cell_type": "markdown",
   "id": "9e4d92b4",
   "metadata": {},
   "source": [
    "<h3>9-13. Dice</h3>"
   ]
  },
  {
   "cell_type": "code",
   "execution_count": null,
   "id": "ec358990",
   "metadata": {},
   "outputs": [],
   "source": []
  },
  {
   "cell_type": "markdown",
   "id": "d0c8cc9a",
   "metadata": {},
   "source": [
    "<h3>9-14. Lottery</h3>"
   ]
  },
  {
   "cell_type": "code",
   "execution_count": null,
   "id": "b3994416",
   "metadata": {},
   "outputs": [],
   "source": []
  },
  {
   "cell_type": "markdown",
   "id": "abba56be",
   "metadata": {},
   "source": [
    "<h3>9-15. Lottery Analysis</h3>"
   ]
  },
  {
   "cell_type": "code",
   "execution_count": null,
   "id": "f1d347bc",
   "metadata": {},
   "outputs": [],
   "source": []
  },
  {
   "cell_type": "markdown",
   "id": "129e3a90",
   "metadata": {},
   "source": [
    "<h3>9-16. Python Module of the week</h3>"
   ]
  },
  {
   "cell_type": "code",
   "execution_count": null,
   "id": "255e1a5b",
   "metadata": {},
   "outputs": [],
   "source": []
  }
 ],
 "metadata": {
  "kernelspec": {
   "display_name": "Python 3 (ipykernel)",
   "language": "python",
   "name": "python3"
  },
  "language_info": {
   "codemirror_mode": {
    "name": "ipython",
    "version": 3
   },
   "file_extension": ".py",
   "mimetype": "text/x-python",
   "name": "python",
   "nbconvert_exporter": "python",
   "pygments_lexer": "ipython3",
   "version": "3.11.4"
  }
 },
 "nbformat": 4,
 "nbformat_minor": 5
}
