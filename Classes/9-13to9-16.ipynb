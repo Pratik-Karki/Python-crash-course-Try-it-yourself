{
 "cells": [
  {
   "cell_type": "markdown",
   "id": "9e4d92b4",
   "metadata": {},
   "source": [
    "<h3>9-13. OrderedDict Rewrite</h3>"
   ]
  },
  {
   "cell_type": "code",
   "execution_count": 12,
   "id": "ec358990",
   "metadata": {},
   "outputs": [],
   "source": [
    "from collections import OrderedDict\n",
    "glossary = OrderedDict()\n",
    "glossary ['list'] = 'It can store values in large numbers. It starts froom index 0.'\n",
    "glossary['tuple'] = 'It is a type of list which cannot be changed.'\n",
    "glossary ['if'] = 'It is used to add conditional test to a event.'\n",
    "glossary ['variables'] = 'It can store different types of data like string,bolean or integers.'\n",
    "glossary ['dictonary'] = 'It is like list but a little different. It can store data in keyvalue format.'\n",
    "glossary ['list comprehension'] =  'creating a list in compact manner and easy way.'\n",
    "glossary ['floats'] =  'Floats are number in decimal form.'\n",
    "glossary ['boolean'] =  'It is a built in data types which represent true or false value.'\n",
    "glossary ['zen'] =  'Collection of 19 guided principle to write programs using python.'\n"
   ]
  },
  {
   "cell_type": "code",
   "execution_count": 13,
   "id": "9fbdf748",
   "metadata": {},
   "outputs": [
    {
     "name": "stdout",
     "output_type": "stream",
     "text": [
      "\n",
      "List:\n",
      "It can store values in large numbers. It starts froom index 0.\n",
      "\n",
      "Tuple:\n",
      "It is a type of list which cannot be changed.\n",
      "\n",
      "If:\n",
      "It is used to add conditional test to a event.\n",
      "\n",
      "Variables:\n",
      "It can store different types of data like string,bolean or integers.\n",
      "\n",
      "Dictonary:\n",
      "It is like list but a little different. It can store data in keyvalue format.\n",
      "\n",
      "List Comprehension:\n",
      "creating a list in compact manner and easy way.\n",
      "\n",
      "Floats:\n",
      "Floats are number in decimal form.\n",
      "\n",
      "Boolean:\n",
      "It is a built in data types which represent true or false value.\n",
      "\n",
      "Zen:\n",
      "Collection of 19 guided principle to write programs using python.\n"
     ]
    }
   ],
   "source": [
    "for keys, values in glossary.items():\n",
    "    print(f\"\\n{keys.title()}:\")\n",
    "    print(values)"
   ]
  },
  {
   "cell_type": "markdown",
   "id": "d0c8cc9a",
   "metadata": {},
   "source": [
    "<h3>9-14. Dice</h3>"
   ]
  },
  {
   "cell_type": "code",
   "execution_count": 18,
   "id": "b3994416",
   "metadata": {},
   "outputs": [],
   "source": [
    "from random import randint\n",
    "class Die:\n",
    "    def __init__(self):\n",
    "        self.side = 6\n",
    "    def roll_dice(self):\n",
    "        face = randint(1,self.side)\n",
    "        print(face)\n",
    "    "
   ]
  },
  {
   "cell_type": "code",
   "execution_count": 19,
   "id": "fa983ffc",
   "metadata": {},
   "outputs": [],
   "source": [
    "game1 = Die()"
   ]
  },
  {
   "cell_type": "code",
   "execution_count": 20,
   "id": "7b955a71",
   "metadata": {},
   "outputs": [
    {
     "name": "stdout",
     "output_type": "stream",
     "text": [
      "3\n"
     ]
    }
   ],
   "source": [
    "game1.roll_dice()"
   ]
  },
  {
   "cell_type": "code",
   "execution_count": 21,
   "id": "6bd5fa13",
   "metadata": {},
   "outputs": [
    {
     "name": "stdout",
     "output_type": "stream",
     "text": [
      "2\n"
     ]
    }
   ],
   "source": [
    "game1.roll_dice()"
   ]
  },
  {
   "cell_type": "code",
   "execution_count": 22,
   "id": "226464e0",
   "metadata": {},
   "outputs": [
    {
     "name": "stdout",
     "output_type": "stream",
     "text": [
      "4\n"
     ]
    }
   ],
   "source": [
    "game1.roll_dice()"
   ]
  },
  {
   "cell_type": "code",
   "execution_count": 23,
   "id": "e951701b",
   "metadata": {},
   "outputs": [
    {
     "name": "stdout",
     "output_type": "stream",
     "text": [
      "2\n"
     ]
    }
   ],
   "source": [
    "game1.roll_dice()"
   ]
  },
  {
   "cell_type": "code",
   "execution_count": 24,
   "id": "5be72c97",
   "metadata": {},
   "outputs": [
    {
     "name": "stdout",
     "output_type": "stream",
     "text": [
      "3\n"
     ]
    }
   ],
   "source": [
    "game1.roll_dice()"
   ]
  },
  {
   "cell_type": "code",
   "execution_count": 25,
   "id": "d33ea637",
   "metadata": {},
   "outputs": [
    {
     "name": "stdout",
     "output_type": "stream",
     "text": [
      "2\n"
     ]
    }
   ],
   "source": [
    "game1.roll_dice()"
   ]
  },
  {
   "cell_type": "code",
   "execution_count": 26,
   "id": "68366061",
   "metadata": {},
   "outputs": [
    {
     "name": "stdout",
     "output_type": "stream",
     "text": [
      "1\n"
     ]
    }
   ],
   "source": [
    "game1.roll_dice()"
   ]
  },
  {
   "cell_type": "code",
   "execution_count": 27,
   "id": "01297209",
   "metadata": {},
   "outputs": [
    {
     "name": "stdout",
     "output_type": "stream",
     "text": [
      "6\n"
     ]
    }
   ],
   "source": [
    "game1.roll_dice()"
   ]
  },
  {
   "cell_type": "code",
   "execution_count": 28,
   "id": "fadbc853",
   "metadata": {},
   "outputs": [
    {
     "name": "stdout",
     "output_type": "stream",
     "text": [
      "1\n"
     ]
    }
   ],
   "source": [
    "game1.roll_dice()"
   ]
  },
  {
   "cell_type": "code",
   "execution_count": 29,
   "id": "c5aa83e9",
   "metadata": {},
   "outputs": [
    {
     "name": "stdout",
     "output_type": "stream",
     "text": [
      "5\n"
     ]
    }
   ],
   "source": [
    "game1.roll_dice()"
   ]
  },
  {
   "cell_type": "markdown",
   "id": "abba56be",
   "metadata": {},
   "source": [
    "<h3>9-15. Python Module of the week</h3>"
   ]
  },
  {
   "cell_type": "code",
   "execution_count": null,
   "id": "f1d347bc",
   "metadata": {},
   "outputs": [],
   "source": []
  }
 ],
 "metadata": {
  "kernelspec": {
   "display_name": "Python 3 (ipykernel)",
   "language": "python",
   "name": "python3"
  },
  "language_info": {
   "codemirror_mode": {
    "name": "ipython",
    "version": 3
   },
   "file_extension": ".py",
   "mimetype": "text/x-python",
   "name": "python",
   "nbconvert_exporter": "python",
   "pygments_lexer": "ipython3",
   "version": "3.11.4"
  }
 },
 "nbformat": 4,
 "nbformat_minor": 5
}
