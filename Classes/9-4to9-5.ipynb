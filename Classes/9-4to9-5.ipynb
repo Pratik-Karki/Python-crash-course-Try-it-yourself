{
 "cells": [
  {
   "cell_type": "markdown",
   "id": "94886220",
   "metadata": {},
   "source": [
    "<h3>9-4. Number Served</h3>"
   ]
  },
  {
   "cell_type": "code",
   "execution_count": 32,
   "id": "6431a2fd",
   "metadata": {},
   "outputs": [],
   "source": [
    "class Restaurant:\n",
    "    def __init__(self,restaurant_name,cuisine_type):\n",
    "        self.restaurant_name = restaurant_name\n",
    "        self.cuisine_type = cuisine_type\n",
    "        self.number_served = 0\n",
    "    \n",
    "    def describe_restaurant(self):\n",
    "        print(f\"The restaurant name is {self.restaurant_name}.\")\n",
    "        print(f\"This restaurant offers {self.cuisine_type} type of cuisine.\")\n",
    "    def open_restaurant(self):\n",
    "        print(f\"The restaurant is open.\")\n",
    "    def set_number_served(self,number):\n",
    "        self.number_served = number\n",
    "    def increment_number_served(self,number):\n",
    "            self.number_served += number\n"
   ]
  },
  {
   "cell_type": "code",
   "execution_count": 33,
   "id": "9d1bed0a",
   "metadata": {},
   "outputs": [
    {
     "name": "stdout",
     "output_type": "stream",
     "text": [
      "The restaurant name is gimbu thakali.\n",
      "This restaurant offers nepali khana set type of cuisine.\n"
     ]
    }
   ],
   "source": [
    "rest1 = Restaurant('gimbu thakali', 'nepali khana set')\n",
    "rest1.describe_restaurant()"
   ]
  },
  {
   "cell_type": "code",
   "execution_count": 34,
   "id": "b8fe8553",
   "metadata": {},
   "outputs": [
    {
     "name": "stdout",
     "output_type": "stream",
     "text": [
      "Total customer served by Gimbu Thakali is 0.\n"
     ]
    }
   ],
   "source": [
    "print(f\"Total customer served by {rest1.restaurant_name.title()} is {rest1.number_served}.\")"
   ]
  },
  {
   "cell_type": "code",
   "execution_count": 35,
   "id": "507d8a1b",
   "metadata": {},
   "outputs": [
    {
     "name": "stdout",
     "output_type": "stream",
     "text": [
      "Total customer served by Gimbu Thakali is 678.\n"
     ]
    }
   ],
   "source": [
    "rest1.number_served = 678\n",
    "print(f\"Total customer served by {rest1.restaurant_name.title()} is {rest1.number_served}.\")"
   ]
  },
  {
   "cell_type": "code",
   "execution_count": 39,
   "id": "488c4407",
   "metadata": {},
   "outputs": [
    {
     "name": "stdout",
     "output_type": "stream",
     "text": [
      "Total customer served by Gimbu Thakali is 45.\n"
     ]
    }
   ],
   "source": [
    "rest1.set_number_served(45)\n",
    "print(f\"Total customer served by {rest1.restaurant_name.title()} is {rest1.number_served}.\")"
   ]
  },
  {
   "cell_type": "code",
   "execution_count": 40,
   "id": "0c2583f5",
   "metadata": {},
   "outputs": [
    {
     "name": "stdout",
     "output_type": "stream",
     "text": [
      "Total customer served by Gimbu Thakali is 65.\n"
     ]
    }
   ],
   "source": [
    "rest1.increment_number_served(20)\n",
    "print(f\"Total customer served by {rest1.restaurant_name.title()} is {rest1.number_served}.\")"
   ]
  },
  {
   "cell_type": "markdown",
   "id": "0285d787",
   "metadata": {},
   "source": [
    "<h3>9-5. Login Attempts</h3>"
   ]
  },
  {
   "cell_type": "code",
   "execution_count": 57,
   "id": "d73adf22",
   "metadata": {},
   "outputs": [],
   "source": [
    "class Users:\n",
    "    def __init__(self,first_name,last_name,address):\n",
    "        self.first_name = first_name\n",
    "        self.last_name = last_name\n",
    "        self.address = address\n",
    "        self.login_attempts = 0\n",
    "    def describe_user(self):\n",
    "        print(\"Summary of user's profile\")\n",
    "        print(f\"- First Name = {self.first_name.title()}\\n- Last Name = {self.last_name.title()}\\n- Address = {self.address.title()}\")\n",
    "    def greet_user(self):\n",
    "        print(f\"Hello!! {self.first_name.title()} {self.last_name.title()}. Welcome to NEWA TAWA.\")\n",
    "    def increment_login_attempts(self):\n",
    "        self.login_attempts += 1\n",
    "    def reset_login_attempts(self):\n",
    "        self.login_attempts = 0\n",
    "        "
   ]
  },
  {
   "cell_type": "code",
   "execution_count": 58,
   "id": "437f6325",
   "metadata": {},
   "outputs": [
    {
     "name": "stdout",
     "output_type": "stream",
     "text": [
      "Summary of user's profile\n",
      "- First Name = Pratik\n",
      "- Last Name = Karki\n",
      "- Address = Sankhu\n"
     ]
    }
   ],
   "source": [
    "user1 = Users('pratik','karki','sankhu')\n",
    "user1.describe_user()"
   ]
  },
  {
   "cell_type": "code",
   "execution_count": 59,
   "id": "00d21cf3",
   "metadata": {},
   "outputs": [],
   "source": [
    "user1.increment_login_attempts()"
   ]
  },
  {
   "cell_type": "code",
   "execution_count": 60,
   "id": "a581562f",
   "metadata": {},
   "outputs": [],
   "source": [
    "user1.increment_login_attempts()"
   ]
  },
  {
   "cell_type": "code",
   "execution_count": 61,
   "id": "203eb54e",
   "metadata": {},
   "outputs": [],
   "source": [
    "user1.increment_login_attempts()"
   ]
  },
  {
   "cell_type": "code",
   "execution_count": 62,
   "id": "f3a8ddf7",
   "metadata": {},
   "outputs": [
    {
     "name": "stdout",
     "output_type": "stream",
     "text": [
      "Attempted login: 3\n"
     ]
    }
   ],
   "source": [
    "print(f\"Attempted login: {user1.login_attempts}\")"
   ]
  },
  {
   "cell_type": "code",
   "execution_count": 63,
   "id": "1d903608",
   "metadata": {},
   "outputs": [],
   "source": [
    "user1.reset_login_attempts()"
   ]
  },
  {
   "cell_type": "code",
   "execution_count": 64,
   "id": "7884f553",
   "metadata": {},
   "outputs": [
    {
     "name": "stdout",
     "output_type": "stream",
     "text": [
      "Attempted login: 0\n"
     ]
    }
   ],
   "source": [
    "print(f\"Attempted login: {user1.login_attempts}\")"
   ]
  },
  {
   "cell_type": "code",
   "execution_count": null,
   "id": "c81946d7",
   "metadata": {},
   "outputs": [],
   "source": []
  }
 ],
 "metadata": {
  "kernelspec": {
   "display_name": "Python 3 (ipykernel)",
   "language": "python",
   "name": "python3"
  },
  "language_info": {
   "codemirror_mode": {
    "name": "ipython",
    "version": 3
   },
   "file_extension": ".py",
   "mimetype": "text/x-python",
   "name": "python",
   "nbconvert_exporter": "python",
   "pygments_lexer": "ipython3",
   "version": "3.11.4"
  }
 },
 "nbformat": 4,
 "nbformat_minor": 5
}
