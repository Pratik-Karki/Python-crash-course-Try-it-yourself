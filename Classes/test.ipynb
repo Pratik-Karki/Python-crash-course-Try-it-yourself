{
 "cells": [
  {
   "cell_type": "code",
   "execution_count": 1,
   "id": "1eb7bce0",
   "metadata": {},
   "outputs": [],
   "source": [
    "class Dog:\n",
    "    def __init__(self,name,age):\n",
    "        self.name = name\n",
    "        self.age = age\n",
    "    def sit(self):\n",
    "        print(f\"{self.name} is now sitting.\")\n",
    "    def roll(self):\n",
    "        print(f\"{self.name} in now rolling.\")"
   ]
  },
  {
   "cell_type": "code",
   "execution_count": 3,
   "id": "14de9216",
   "metadata": {},
   "outputs": [],
   "source": [
    "my_dog = Dog('seru',25)"
   ]
  },
  {
   "cell_type": "code",
   "execution_count": 4,
   "id": "ebfe3f24",
   "metadata": {},
   "outputs": [
    {
     "name": "stdout",
     "output_type": "stream",
     "text": [
      "25\n"
     ]
    }
   ],
   "source": [
    "print(my_dog.age)"
   ]
  },
  {
   "cell_type": "code",
   "execution_count": 5,
   "id": "f0fdfeb7",
   "metadata": {},
   "outputs": [
    {
     "name": "stdout",
     "output_type": "stream",
     "text": [
      "seru\n"
     ]
    }
   ],
   "source": [
    "print(my_dog.name)"
   ]
  },
  {
   "cell_type": "code",
   "execution_count": 9,
   "id": "b0ca07a1",
   "metadata": {},
   "outputs": [
    {
     "name": "stdout",
     "output_type": "stream",
     "text": [
      "seru in now rolling.\n",
      "None\n"
     ]
    }
   ],
   "source": [
    "print(my_dog.roll())"
   ]
  },
  {
   "cell_type": "code",
   "execution_count": 5,
   "id": "ee9bbfcd",
   "metadata": {},
   "outputs": [],
   "source": [
    "class Car():\n",
    "    \"\"\"A simple attempt to represent a car.\"\"\"\n",
    "    def __init__(self, make, model, year):\n",
    "        \"\"\"Initialize attributes to describe a car.\"\"\"\n",
    "        self.make = make\n",
    "        self.model = model\n",
    "        self.year = year\n",
    "        self.odometer = 1\n",
    "    def get_descriptive_name(self):\n",
    "        \"\"\"Return a neatly formatted descriptive name.\"\"\"\n",
    "        long_name = str(self.year) + ' ' + self.make + ' ' + self.model\n",
    "        return long_name.title()\n",
    "    def read_odmeter(self):\n",
    "        print(f\"The car has run {self.odometer}km.\")\n",
    "    def update_odometer(self,updated_odo_no):\n",
    "        if updated_odo_no >= self.odometer:\n",
    "            self.odometer = updated_odo_no\n",
    "        else:\n",
    "            print(\"Your cant reverse odometer.\")\n"
   ]
  },
  {
   "cell_type": "code",
   "execution_count": 6,
   "id": "59cf349d",
   "metadata": {},
   "outputs": [
    {
     "name": "stdout",
     "output_type": "stream",
     "text": [
      "2016 Audi A4\n",
      "The car has run 1km.\n"
     ]
    }
   ],
   "source": [
    "my_new_car = Car('audi', 'a4', 2016)\n",
    "print(my_new_car.get_descriptive_name())\n",
    "my_new_car.read_odmeter()"
   ]
  },
  {
   "cell_type": "code",
   "execution_count": 7,
   "id": "d5daff63",
   "metadata": {},
   "outputs": [],
   "source": [
    "my_new_car.update_odometer(100)"
   ]
  },
  {
   "cell_type": "code",
   "execution_count": 8,
   "id": "a8f119c1",
   "metadata": {},
   "outputs": [
    {
     "name": "stdout",
     "output_type": "stream",
     "text": [
      "The car has run 100km.\n"
     ]
    }
   ],
   "source": [
    "my_new_car.read_odmeter()"
   ]
  },
  {
   "cell_type": "code",
   "execution_count": 9,
   "id": "e245758f",
   "metadata": {},
   "outputs": [
    {
     "name": "stdout",
     "output_type": "stream",
     "text": [
      "Your cant reverse odometer.\n"
     ]
    }
   ],
   "source": [
    "my_new_car.update_odometer(50)"
   ]
  },
  {
   "cell_type": "code",
   "execution_count": 16,
   "id": "d7a59380",
   "metadata": {},
   "outputs": [
    {
     "name": "stdout",
     "output_type": "stream",
     "text": [
      "2021 Nissan Leaf\n",
      "This car has battery size of 13 kwh.\n"
     ]
    }
   ],
   "source": [
    "class Electric(Car):\n",
    "    def __init__(self,make,model,year):\n",
    "        super().__init__(make,model,year)\n",
    "        self.batt_size = 13\n",
    "    def battery_size(self):\n",
    "        print(f\"This car has battery size of {self.batt_size} kwh.\")\n",
    "my_leaf = Electric('nissan','leaf',2021)\n",
    "print(f\"{my_leaf.get_descriptive_name()}\")\n",
    "my_leaf.battery_size()"
   ]
  },
  {
   "cell_type": "code",
   "execution_count": 23,
   "id": "bb9f1d83",
   "metadata": {},
   "outputs": [
    {
     "name": "stdout",
     "output_type": "stream",
     "text": [
      "This car has battery size of 40kwh.\n",
      "This car can cover 110km in single full charge.\n"
     ]
    }
   ],
   "source": [
    "class Battery():\n",
    "        def __init__(self,battery_size=40):\n",
    "            self.battery_size = battery_size\n",
    "        def describe_battery(self):\n",
    "            print(f\"This car has battery size of {self.battery_size}kwh.\")\n",
    "        def Battery_range(self):\n",
    "            if self.battery_size == 40:\n",
    "                range = 110\n",
    "            elif self.battery_size == 80:\n",
    "                range = 220\n",
    "            print(f\"This car can cover {range}km in single full charge.\")\n",
    "               \n",
    "class Electric(Car):\n",
    "    def __init__(self,make,model,year):\n",
    "        super().__init__(make,model,year)\n",
    "        self.battery = Battery()\n",
    "        \n",
    "my_leaf = Electric('nissan','leaf2',2022)\n",
    "my_leaf.battery.describe_battery()\n",
    "my_leaf.battery.Battery_range()"
   ]
  },
  {
   "cell_type": "code",
   "execution_count": null,
   "id": "c4d7b056",
   "metadata": {},
   "outputs": [],
   "source": []
  },
  {
   "cell_type": "code",
   "execution_count": 44,
   "id": "deb17f3a",
   "metadata": {},
   "outputs": [],
   "source": [
    "class Even_number():\n",
    "    def __init__(self,number):\n",
    "        self.number = number\n",
    "    def even_number(self):\n",
    "        total = 0\n",
    "        for number in range(1,self.number+1):\n",
    "            if number%2 == 0:\n",
    "                total = total+number\n",
    "        print(f\"The total of even number from 1 to {self.number} is {total}.\")\n",
    "                "
   ]
  },
  {
   "cell_type": "code",
   "execution_count": 45,
   "id": "6a813aef",
   "metadata": {},
   "outputs": [
    {
     "name": "stdout",
     "output_type": "stream",
     "text": [
      "The total of even number from 1 to 10 is 30.\n"
     ]
    }
   ],
   "source": [
    "even = Even_number(10)\n",
    "even.even_number()"
   ]
  },
  {
   "cell_type": "code",
   "execution_count": 50,
   "id": "d7022208",
   "metadata": {},
   "outputs": [
    {
     "name": "stdout",
     "output_type": "stream",
     "text": [
      "Enter a number to know sum: 10\n",
      "The total of even number from 1 to 10 is 30.\n",
      "Enter a number to know sum: 20\n",
      "The total of even number from 1 to 20 is 110.\n",
      "Enter a number to know sum: 0\n",
      "The total of even number from 1 to 0 is 0.\n",
      "Enter a number to know sum: -23\n",
      "The total of even number from 1 to -23 is 0.\n",
      "Enter a number to know sum: 80\n",
      "The total of even number from 1 to 80 is 1640.\n",
      "Enter a number to know sum: exit\n",
      "Thanyou for using our tool.\n"
     ]
    }
   ],
   "source": [
    "check = True\n",
    "while check:\n",
    "    user_input = input(\"Enter a number to know sum: \")\n",
    "    if user_input == \"exit\":\n",
    "        print(\"ThanKyou for using our tool.\")\n",
    "        check = False\n",
    "    else:\n",
    "        user_input = int(user_input)\n",
    "        even = Even_number(user_input)\n",
    "        even.even_number()\n",
    "\n",
    "        \n",
    "        "
   ]
  },
  {
   "cell_type": "code",
   "execution_count": null,
   "id": "348c29f2",
   "metadata": {},
   "outputs": [],
   "source": []
  },
  {
   "cell_type": "code",
   "execution_count": null,
   "id": "3ac4048d",
   "metadata": {},
   "outputs": [],
   "source": []
  }
 ],
 "metadata": {
  "kernelspec": {
   "display_name": "Python 3 (ipykernel)",
   "language": "python",
   "name": "python3"
  },
  "language_info": {
   "codemirror_mode": {
    "name": "ipython",
    "version": 3
   },
   "file_extension": ".py",
   "mimetype": "text/x-python",
   "name": "python",
   "nbconvert_exporter": "python",
   "pygments_lexer": "ipython3",
   "version": "3.11.4"
  }
 },
 "nbformat": 4,
 "nbformat_minor": 5
}
