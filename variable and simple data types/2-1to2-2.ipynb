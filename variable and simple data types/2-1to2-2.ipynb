{
 "cells": [
  {
   "cell_type": "markdown",
   "id": "54543bdf-0612-47b3-94dd-7b5ee2cd2838",
   "metadata": {},
   "source": [
    "<h3>Simple Message</h3>"
   ]
  },
  {
   "cell_type": "code",
   "execution_count": 1,
   "id": "cc3b5485-23e0-4875-b30e-01aa846a18f1",
   "metadata": {
    "tags": []
   },
   "outputs": [
    {
     "name": "stdout",
     "output_type": "stream",
     "text": [
      "Hi this is first message.\n"
     ]
    }
   ],
   "source": [
    "message = \"Hi this is first message.\"\n",
    "print(message)"
   ]
  },
  {
   "cell_type": "markdown",
   "id": "70f96ad3-daf3-464a-86c2-3a2504d07768",
   "metadata": {},
   "source": [
    "<h3>Simple Message</h3>"
   ]
  },
  {
   "cell_type": "code",
   "execution_count": 3,
   "id": "ae7c0b2a-6d44-4f5e-aa3d-2ae9c4849ca1",
   "metadata": {
    "tags": []
   },
   "outputs": [
    {
     "name": "stdout",
     "output_type": "stream",
     "text": [
      "Hi this is second message.\n",
      "This is changed message.\n"
     ]
    }
   ],
   "source": [
    "message1 = \"Hi this is second message.\"\n",
    "print(message1)\n",
    "message1 = \"This is changed message.\"\n",
    "print(message1)"
   ]
  },
  {
   "cell_type": "code",
   "execution_count": null,
   "id": "df4e9baa-a3d1-4aef-a5f7-f8d66fb59c4d",
   "metadata": {},
   "outputs": [],
   "source": []
  }
 ],
 "metadata": {
  "kernelspec": {
   "display_name": "Python 3 (ipykernel)",
   "language": "python",
   "name": "python3"
  },
  "language_info": {
   "codemirror_mode": {
    "name": "ipython",
    "version": 3
   },
   "file_extension": ".py",
   "mimetype": "text/x-python",
   "name": "python",
   "nbconvert_exporter": "python",
   "pygments_lexer": "ipython3",
   "version": "3.11.4"
  }
 },
 "nbformat": 4,
 "nbformat_minor": 5
}
