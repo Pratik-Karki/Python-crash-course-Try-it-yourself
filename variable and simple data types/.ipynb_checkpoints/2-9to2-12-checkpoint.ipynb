{
 "cells": [
  {
   "cell_type": "markdown",
   "id": "d1d6396f-84ef-48f8-9661-56b5fc015ba9",
   "metadata": {},
   "source": [
    "<h3>2-9. Number Eight</h3>\n"
   ]
  },
  {
   "cell_type": "code",
   "execution_count": 6,
   "id": "f20fe524-ee56-48bf-93ad-c271acb136b8",
   "metadata": {
    "tags": []
   },
   "outputs": [
    {
     "name": "stdout",
     "output_type": "stream",
     "text": [
      "8\n",
      "8\n",
      "8.0\n",
      "8\n"
     ]
    }
   ],
   "source": [
    "#how to print number 8 everytime with each operator.\n",
    "print(5+3)\n",
    "print(4*2)\n",
    "print(16/2)\n",
    "print(10-2)"
   ]
  },
  {
   "cell_type": "markdown",
   "id": "fff40d81-359f-48cf-ad3b-d57c11c54877",
   "metadata": {
    "tags": []
   },
   "source": [
    "<h3>2-10. Favorite Number</h3>"
   ]
  },
  {
   "cell_type": "code",
   "execution_count": 5,
   "id": "57029b63-c2e0-4551-a7e9-839cbee3e9c6",
   "metadata": {
    "tags": []
   },
   "outputs": [
    {
     "name": "stdout",
     "output_type": "stream",
     "text": [
      "My favorite number is 15.\n"
     ]
    }
   ],
   "source": [
    "#my favorite number\n",
    "favnum = 15\n",
    "print(f\"My favorite number is {favnum}.\")"
   ]
  },
  {
   "cell_type": "markdown",
   "id": "0e2f3333-48ed-46e5-a5cd-7dd00f8ecbf7",
   "metadata": {},
   "source": [
    "<h3>2-12. Zen of Python</h3>"
   ]
  },
  {
   "cell_type": "code",
   "execution_count": 7,
   "id": "305b3d61-ff8a-491d-b1f3-7373b7bbaa21",
   "metadata": {
    "tags": []
   },
   "outputs": [
    {
     "name": "stdout",
     "output_type": "stream",
     "text": [
      "The Zen of Python, by Tim Peters\n",
      "\n",
      "Beautiful is better than ugly.\n",
      "Explicit is better than implicit.\n",
      "Simple is better than complex.\n",
      "Complex is better than complicated.\n",
      "Flat is better than nested.\n",
      "Sparse is better than dense.\n",
      "Readability counts.\n",
      "Special cases aren't special enough to break the rules.\n",
      "Although practicality beats purity.\n",
      "Errors should never pass silently.\n",
      "Unless explicitly silenced.\n",
      "In the face of ambiguity, refuse the temptation to guess.\n",
      "There should be one-- and preferably only one --obvious way to do it.\n",
      "Although that way may not be obvious at first unless you're Dutch.\n",
      "Now is better than never.\n",
      "Although never is often better than *right* now.\n",
      "If the implementation is hard to explain, it's a bad idea.\n",
      "If the implementation is easy to explain, it may be a good idea.\n",
      "Namespaces are one honking great idea -- let's do more of those!\n"
     ]
    }
   ],
   "source": [
    "import this"
   ]
  },
  {
   "cell_type": "code",
   "execution_count": null,
   "id": "9f572844-4749-4be1-97ab-973bf7e6d037",
   "metadata": {},
   "outputs": [],
   "source": []
  }
 ],
 "metadata": {
  "kernelspec": {
   "display_name": "Python 3 (ipykernel)",
   "language": "python",
   "name": "python3"
  },
  "language_info": {
   "codemirror_mode": {
    "name": "ipython",
    "version": 3
   },
   "file_extension": ".py",
   "mimetype": "text/x-python",
   "name": "python",
   "nbconvert_exporter": "python",
   "pygments_lexer": "ipython3",
   "version": "3.11.4"
  }
 },
 "nbformat": 4,
 "nbformat_minor": 5
}
