{
 "cells": [
  {
   "cell_type": "markdown",
   "id": "0aa5dbdf-4c7e-45ae-b919-86149a8f5aea",
   "metadata": {},
   "source": [
    "<h3>2-3. Personal Message</h3>"
   ]
  },
  {
   "cell_type": "code",
   "execution_count": 4,
   "id": "c90618b5-ee9c-4e32-a770-16d1c02b0afb",
   "metadata": {
    "tags": []
   },
   "outputs": [
    {
     "name": "stdout",
     "output_type": "stream",
     "text": [
      "Hello Hrithik, would you like to learn some python today?\n",
      "Hello Hrithik, would you like to learn some python today?\n"
     ]
    }
   ],
   "source": [
    "name = \"Hrithik\"\n",
    "print(\"Hello \"+ name +\",\"+\" would you like to learn some python today?\")\n",
    "print(f\"Hello {name}, would you like to learn some python today?\")"
   ]
  },
  {
   "cell_type": "markdown",
   "id": "8a50af98-5fbc-4743-b6bd-d4488821fa95",
   "metadata": {},
   "source": [
    "<h3>2-4. Name Case</h3>"
   ]
  },
  {
   "cell_type": "code",
   "execution_count": 8,
   "id": "846ae05d-d671-4563-a842-31bc7eaedbd6",
   "metadata": {
    "tags": []
   },
   "outputs": [
    {
     "name": "stdout",
     "output_type": "stream",
     "text": [
      "pratik\n",
      "Pratik\n",
      "PRATIK\n"
     ]
    }
   ],
   "source": [
    "name2 = \"pratik\"\n",
    "print(name2.lower())\n",
    "print(name2.title())\n",
    "print(name2.upper())"
   ]
  },
  {
   "cell_type": "markdown",
   "id": "43da2f55-7487-44f8-8437-b40bab2c4f05",
   "metadata": {},
   "source": [
    "<h3>2-5. Famous Quote</h3>"
   ]
  },
  {
   "cell_type": "code",
   "execution_count": 11,
   "id": "5922a33d-ecc0-4318-8dd1-f2c731a6fdbc",
   "metadata": {
    "tags": []
   },
   "outputs": [
    {
     "name": "stdout",
     "output_type": "stream",
     "text": [
      "Pratik once said,\"If i've ever built a machine with conciousness i am not MAN i am GOD\"\n"
     ]
    }
   ],
   "source": [
    "print('''Pratik once said,\"If i've ever built a machine with conciousness i am not MAN i am GOD\"''')"
   ]
  },
  {
   "cell_type": "markdown",
   "id": "52256e58-9d63-48df-8379-a8ae938ccb51",
   "metadata": {},
   "source": [
    "<h3>2-6. Famous Quote 2</h3>"
   ]
  },
  {
   "cell_type": "code",
   "execution_count": 17,
   "id": "f0a64631-e4d1-4c3e-843f-365a77123e7a",
   "metadata": {
    "tags": []
   },
   "outputs": [
    {
     "name": "stdout",
     "output_type": "stream",
     "text": [
      "Pratik Karki once said, \"If i've ever built a machine with conciousness i am not MAN i am GOD\"\n"
     ]
    }
   ],
   "source": [
    "famousperson = \"Pratik Karki\"\n",
    "print(f'''{famousperson} once said, \"If i've ever built a machine with conciousness i am not MAN i am GOD\"''')"
   ]
  },
  {
   "cell_type": "markdown",
   "id": "53d5906e-ccba-4e0a-9bdf-5566a279892d",
   "metadata": {},
   "source": [
    "<h3>2-7. Stripping Names</h3>"
   ]
  },
  {
   "cell_type": "code",
   "execution_count": 20,
   "id": "7ded6d15-9aa0-4205-8e1e-54d276ccd9b7",
   "metadata": {
    "tags": []
   },
   "outputs": [
    {
     "name": "stdout",
     "output_type": "stream",
     "text": [
      " Pratik \n",
      "Pratik \n",
      " Pratik\n",
      "Pratik\n"
     ]
    }
   ],
   "source": [
    "name = \" Pratik \"\n",
    "print(name)\n",
    "print(name.lstrip())\n",
    "print(name.rstrip())\n",
    "print(name.strip())"
   ]
  },
  {
   "cell_type": "markdown",
   "id": "ff8a9d37-3eb5-41a5-8453-c8fd18993c1b",
   "metadata": {},
   "source": [
    "<h3>2-8. File Extensions </h3>"
   ]
  },
  {
   "cell_type": "code",
   "execution_count": 21,
   "id": "d58be7f4-96c9-436d-b4f7-b35376a95ed2",
   "metadata": {
    "tags": []
   },
   "outputs": [
    {
     "data": {
      "text/plain": [
       "'chat.openai.com'"
      ]
     },
     "execution_count": 21,
     "metadata": {},
     "output_type": "execute_result"
    }
   ],
   "source": [
    "sentence = \"https://chat.openai.com\"\n",
    "sentence.removeprefix(\"https://\")"
   ]
  }
 ],
 "metadata": {
  "kernelspec": {
   "display_name": "Python 3 (ipykernel)",
   "language": "python",
   "name": "python3"
  },
  "language_info": {
   "codemirror_mode": {
    "name": "ipython",
    "version": 3
   },
   "file_extension": ".py",
   "mimetype": "text/x-python",
   "name": "python",
   "nbconvert_exporter": "python",
   "pygments_lexer": "ipython3",
   "version": "3.11.4"
  }
 },
 "nbformat": 4,
 "nbformat_minor": 5
}
