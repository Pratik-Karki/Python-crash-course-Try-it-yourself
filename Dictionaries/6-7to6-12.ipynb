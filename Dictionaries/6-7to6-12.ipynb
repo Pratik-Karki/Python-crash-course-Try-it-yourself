{
 "cells": [
  {
   "cell_type": "markdown",
   "id": "561372a5",
   "metadata": {},
   "source": [
    "<h3>6-7. People</h3>"
   ]
  },
  {
   "cell_type": "code",
   "execution_count": 10,
   "id": "d12b071c",
   "metadata": {},
   "outputs": [
    {
     "name": "stdout",
     "output_type": "stream",
     "text": [
      "Hi! I am Pratik Karki. I am 26 years old and I live in Kathmandu. \n",
      "Hi! I am Pratima Thakuri. I am 25 years old and I live in Budanilkantha. \n",
      "Hi! I am Hrithik Basnet. I am 24 years old and I live in Melbourne. \n"
     ]
    }
   ],
   "source": [
    "person_details1 = {'first_name':'pratik', 'last_name':'karki', 'age': 26, 'city': 'kathmandu',}\n",
    "person_details2 = {'first_name':'pratima', 'last_name':'thakuri', 'age': 25, 'city': 'budanilkantha',}\n",
    "person_details3 = {'first_name':'hrithik', 'last_name':'basnet', 'age': 24, 'city': 'melbourne',}\n",
    "people = [person_details1,person_details2,person_details3]\n",
    "for details in people:\n",
    "    print(f\"Hi! I am {details['first_name'].title()} {details['last_name'].title()}. I am {details['age']} years old and I live in {details['city'].title()}. \")\n"
   ]
  },
  {
   "cell_type": "markdown",
   "id": "f333e60a",
   "metadata": {},
   "source": [
    "<h3>6-8. Pets</h3>"
   ]
  },
  {
   "cell_type": "code",
   "execution_count": 15,
   "id": "0232ba58",
   "metadata": {},
   "outputs": [
    {
     "name": "stdout",
     "output_type": "stream",
     "text": [
      "Hari owns Cat.\n",
      "Shyam owns Dog.\n",
      "Ghanshyam owns Cow.\n",
      "Sanjeev owns Parrot.\n"
     ]
    }
   ],
   "source": [
    "pet1 = {'kind':'cat','owner':'hari'}\n",
    "pet2 = {'kind':'dog','owner':'shyam'}\n",
    "pet3 = {'kind':'cow','owner':'ghanshyam'}\n",
    "pet4 = {'kind':'parrot','owner':'sanjeev'}\n",
    "pets = [pet1,pet2,pet3,pet4]\n",
    "for pet in pets:\n",
    "    print(f\"{pet['owner'].title()} owns {pet['kind'].title()}.\")"
   ]
  },
  {
   "cell_type": "markdown",
   "id": "c0f42329",
   "metadata": {},
   "source": [
    "<h3>6-9. Favorite Places</h3>"
   ]
  },
  {
   "cell_type": "code",
   "execution_count": 16,
   "id": "74654637",
   "metadata": {},
   "outputs": [],
   "source": [
    "fav_place = {'pratik':['kageshowri','budanilkantha','pokhara'],\n",
    "             'hrithik':['manakamana','kurintar','budanilkantha'], \n",
    "             'sumit':['pepsicola','gaushala']}"
   ]
  },
  {
   "cell_type": "code",
   "execution_count": 19,
   "id": "07db1410",
   "metadata": {},
   "outputs": [
    {
     "name": "stdout",
     "output_type": "stream",
     "text": [
      "Pratik likes to visit Kageshowri.\n",
      "Pratik likes to visit Budanilkantha.\n",
      "Pratik likes to visit Pokhara.\n",
      "Hrithik likes to visit Manakamana.\n",
      "Hrithik likes to visit Kurintar.\n",
      "Hrithik likes to visit Budanilkantha.\n",
      "Sumit likes to visit Pepsicola.\n",
      "Sumit likes to visit Gaushala.\n"
     ]
    }
   ],
   "source": [
    "for person_name, favorite_places in fav_place.items():\n",
    "    for places in favorite_places:\n",
    "        print(f\"{person_name.title()} likes to visit {places.title()}.\")"
   ]
  },
  {
   "cell_type": "markdown",
   "id": "a4bf62a4",
   "metadata": {},
   "source": [
    "<h3>6-10. Favorite Number</h3>"
   ]
  },
  {
   "cell_type": "code",
   "execution_count": 22,
   "id": "651c4295",
   "metadata": {},
   "outputs": [
    {
     "name": "stdout",
     "output_type": "stream",
     "text": [
      "Pratik's favorite number is [34, 45] \n",
      "Pratima's favorite number is [56, 56, 78] \n",
      "Rahul's favorite number is [67, 34, 67] \n",
      "Punit's favorite number is [89] \n",
      "Hrithik's favorite number is [1, 90, 2, 3] \n"
     ]
    }
   ],
   "source": [
    "favorite_number = {'pratik':[34,45],'pratima':[56,56,78],'rahul':[67,34,67],'punit':[89],'hrithik':[1,90,2,3]}\n",
    "print(f\"Pratik's favorite number is {favorite_number['pratik']} \")\n",
    "print(f\"Pratima's favorite number is {favorite_number['pratima']} \")\n",
    "print(f\"Rahul's favorite number is {favorite_number['rahul']} \")\n",
    "print(f\"Punit's favorite number is {favorite_number['punit']} \")\n",
    "print(f\"Hrithik's favorite number is {favorite_number['hrithik']} \")"
   ]
  },
  {
   "cell_type": "markdown",
   "id": "daec4554",
   "metadata": {},
   "source": [
    "<h3> 6-11. Cities </h3>"
   ]
  },
  {
   "cell_type": "code",
   "execution_count": 39,
   "id": "8bd9a43c",
   "metadata": {},
   "outputs": [],
   "source": [
    "cities = {'kathmandu':{'country':'nepal','population':1571000,'fact':'It is capital of nepal'},\n",
    "         'sydney':{'country':'australia','population':5121000,'fact':'It has one of the longest bridges'},\n",
    "         'texas':{'country':'United States of America','population':29183290,'fact':'It is the second largest state in America'}}"
   ]
  },
  {
   "cell_type": "code",
   "execution_count": 40,
   "id": "de8d8016",
   "metadata": {},
   "outputs": [
    {
     "name": "stdout",
     "output_type": "stream",
     "text": [
      "\n",
      "Kathmandu is a city in Nepal. It has population of 1571000. One of the major fact of this city is It is capital of nepal.\n",
      "\n",
      "Sydney is a city in Australia. It has population of 5121000. One of the major fact of this city is It has one of the longest bridges.\n",
      "\n",
      "Texas is a city in United States Of America. It has population of 29183290. One of the major fact of this city is It is the second largest state in America.\n"
     ]
    }
   ],
   "source": [
    "for city,details in cities.items():\n",
    "        print(f\"\\n{city.title()} is a city in {details['country'].title()}. It has population of {details['population']}. One of the major fact of this city is {details['fact']}.\")"
   ]
  },
  {
   "cell_type": "code",
   "execution_count": null,
   "id": "0ebbf05b",
   "metadata": {},
   "outputs": [],
   "source": []
  }
 ],
 "metadata": {
  "kernelspec": {
   "display_name": "Python 3 (ipykernel)",
   "language": "python",
   "name": "python3"
  },
  "language_info": {
   "codemirror_mode": {
    "name": "ipython",
    "version": 3
   },
   "file_extension": ".py",
   "mimetype": "text/x-python",
   "name": "python",
   "nbconvert_exporter": "python",
   "pygments_lexer": "ipython3",
   "version": "3.11.4"
  }
 },
 "nbformat": 4,
 "nbformat_minor": 5
}
