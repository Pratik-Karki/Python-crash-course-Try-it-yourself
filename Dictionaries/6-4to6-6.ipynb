{
 "cells": [
  {
   "cell_type": "markdown",
   "id": "d4233b80",
   "metadata": {},
   "source": [
    "<h3>6-4: Glossary 2</h3>"
   ]
  },
  {
   "cell_type": "code",
   "execution_count": 6,
   "id": "0ad20ec0",
   "metadata": {},
   "outputs": [
    {
     "name": "stdout",
     "output_type": "stream",
     "text": [
      "\n",
      "List:\n",
      "It can store values in large numbers. It starts froom index 0.\n",
      "\n",
      "Tuple:\n",
      "It is a type of list which cannot be changed.\n",
      "\n",
      "If:\n",
      "It is used to add conditional test to a event.\n",
      "\n",
      "Variables:\n",
      "It can store different types of data like string,bolean or integers.\n",
      "\n",
      "Dictonary:\n",
      "It is like list but a little different. It can store data in keyvalue format.\n",
      "\n",
      "List Comprehension:\n",
      "creating a list in compact manner and easy way.\n",
      "\n",
      "Floats:\n",
      "Floats are number in decimal form.\n",
      "\n",
      "Boolean:\n",
      "It is a built in data types which represent true or false value.\n",
      "\n",
      "Zen:\n",
      "Collection of 19 guided principle to write programs using python.\n"
     ]
    }
   ],
   "source": [
    "glossary = {'list':'It can store values in large numbers. It starts froom index 0.',\n",
    "            'tuple':'It is a type of list which cannot be changed.',\n",
    "            'if':'It is used to add conditional test to a event.',\n",
    "            'variables':'It can store different types of data like string,bolean or integers.',\n",
    "            'dictonary':'It is like list but a little different. It can store data in keyvalue format.',\n",
    "            'list comprehension': 'creating a list in compact manner and easy way.',\n",
    "            'floats': 'Floats are number in decimal form.',\n",
    "            'boolean': 'It is a built in data types which represent true or false value.',\n",
    "            'zen': 'Collection of 19 guided principle to write programs using python.',}\n",
    "\n",
    "for keys, values in glossary.items():\n",
    "    print(f\"\\n{keys.title()}:\")\n",
    "    print(values)"
   ]
  },
  {
   "cell_type": "markdown",
   "id": "6f83103c",
   "metadata": {},
   "source": [
    "<h3>6-5. Rivers </h3>"
   ]
  },
  {
   "cell_type": "code",
   "execution_count": 7,
   "id": "4814cae1",
   "metadata": {},
   "outputs": [],
   "source": [
    "rivers = {'nile':'egypt','bagmati':'nepal','gangas':'india'}"
   ]
  },
  {
   "cell_type": "code",
   "execution_count": 9,
   "id": "025049ed",
   "metadata": {},
   "outputs": [
    {
     "name": "stdout",
     "output_type": "stream",
     "text": [
      "The Nile runs through Egypt.\n",
      "The Bagmati runs through Nepal.\n",
      "The Gangas runs through India.\n"
     ]
    }
   ],
   "source": [
    "for river,country in rivers.items():\n",
    "    print(f\"The {river.title()} runs through {country.title()}.\")"
   ]
  },
  {
   "cell_type": "code",
   "execution_count": 10,
   "id": "add0f352",
   "metadata": {},
   "outputs": [
    {
     "name": "stdout",
     "output_type": "stream",
     "text": [
      "nile\n",
      "bagmati\n",
      "gangas\n"
     ]
    }
   ],
   "source": [
    "for river in rivers.keys():\n",
    "    print(river)"
   ]
  },
  {
   "cell_type": "code",
   "execution_count": 11,
   "id": "1d2c0432",
   "metadata": {},
   "outputs": [
    {
     "name": "stdout",
     "output_type": "stream",
     "text": [
      "egypt\n",
      "nepal\n",
      "india\n"
     ]
    }
   ],
   "source": [
    "for country in rivers.values():\n",
    "    print(country)"
   ]
  },
  {
   "cell_type": "markdown",
   "id": "7f6e0096",
   "metadata": {},
   "source": [
    "<h3>6-6. Polling</h3>"
   ]
  },
  {
   "cell_type": "code",
   "execution_count": 12,
   "id": "b5673e7d",
   "metadata": {},
   "outputs": [],
   "source": [
    "favorite_languages = {'jen':'puthon','sarah':'c','edward':'rust','phil':'python'}"
   ]
  },
  {
   "cell_type": "code",
   "execution_count": 13,
   "id": "193b7a92",
   "metadata": {},
   "outputs": [],
   "source": [
    "take_poll = ['ramesh','edward','payal','jen','hrithik']"
   ]
  },
  {
   "cell_type": "code",
   "execution_count": 14,
   "id": "42955fa5",
   "metadata": {},
   "outputs": [
    {
     "name": "stdout",
     "output_type": "stream",
     "text": [
      "Ramesh you should take a poll.\n",
      "Edward you dont have to take a poll.\n",
      "Payal you should take a poll.\n",
      "Jen you dont have to take a poll.\n",
      "Hrithik you should take a poll.\n"
     ]
    }
   ],
   "source": [
    "for names in take_poll:\n",
    "    if names in favorite_languages.keys():\n",
    "        print(f\"{names.title()} you dont have to take a poll.\")\n",
    "    else: \n",
    "        print(f\"{names.title()} you should take a poll.\")\n",
    "    "
   ]
  },
  {
   "cell_type": "code",
   "execution_count": null,
   "id": "61b584de",
   "metadata": {},
   "outputs": [],
   "source": [
    " "
   ]
  }
 ],
 "metadata": {
  "kernelspec": {
   "display_name": "Python 3 (ipykernel)",
   "language": "python",
   "name": "python3"
  },
  "language_info": {
   "codemirror_mode": {
    "name": "ipython",
    "version": 3
   },
   "file_extension": ".py",
   "mimetype": "text/x-python",
   "name": "python",
   "nbconvert_exporter": "python",
   "pygments_lexer": "ipython3",
   "version": "3.11.4"
  }
 },
 "nbformat": 4,
 "nbformat_minor": 5
}
