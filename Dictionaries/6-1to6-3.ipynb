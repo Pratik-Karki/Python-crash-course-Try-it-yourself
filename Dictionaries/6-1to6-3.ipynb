{
 "cells": [
  {
   "cell_type": "markdown",
   "id": "0c053146",
   "metadata": {},
   "source": [
    "<h3>6-1. Person</h3>"
   ]
  },
  {
   "cell_type": "code",
   "execution_count": 1,
   "id": "e2c81a4d",
   "metadata": {},
   "outputs": [
    {
     "name": "stdout",
     "output_type": "stream",
     "text": [
      "pratik\n",
      "karki\n",
      "26\n",
      "kathmandu\n"
     ]
    }
   ],
   "source": [
    "person_details = {'first_name':'pratik', 'last_name':'karki', 'age': 26, 'city': 'kathmandu',}\n",
    "print(person_details['first_name'])\n",
    "print(person_details['last_name'])\n",
    "print(person_details['age'])\n",
    "print(person_details['city'])"
   ]
  },
  {
   "cell_type": "markdown",
   "id": "a4d43615",
   "metadata": {},
   "source": [
    "<h3>6-2. Favorite Numbers</h3>"
   ]
  },
  {
   "cell_type": "code",
   "execution_count": 7,
   "id": "95d67b82",
   "metadata": {},
   "outputs": [
    {
     "name": "stdout",
     "output_type": "stream",
     "text": [
      "Pratik's favorite number is 34 \n",
      "Pratima's favorite number is 56 \n",
      "Rahul's favorite number is 67 \n",
      "Punit's favorite number is 89 \n",
      "Hrithik's favorite number is 1 \n"
     ]
    }
   ],
   "source": [
    "favorite_number = {'pratik':34,'pratima':56,'rahul':67,'punit':89,'hrithik':1}\n",
    "print(f\"Pratik's favorite number is {favorite_number['pratik']} \")\n",
    "print(f\"Pratima's favorite number is {favorite_number['pratima']} \")\n",
    "print(f\"Rahul's favorite number is {favorite_number['rahul']} \")\n",
    "print(f\"Punit's favorite number is {favorite_number['punit']} \")\n",
    "print(f\"Hrithik's favorite number is {favorite_number['hrithik']} \")"
   ]
  },
  {
   "cell_type": "markdown",
   "id": "24a56b67",
   "metadata": {},
   "source": [
    "<h3>6-3. Glossary</h3>"
   ]
  },
  {
   "cell_type": "code",
   "execution_count": 16,
   "id": "b80c5d64",
   "metadata": {},
   "outputs": [
    {
     "name": "stdout",
     "output_type": "stream",
     "text": [
      "List:\n",
      " It can store values in large numbers. It starts froom index 0.\n",
      "\n",
      "Tuples:\n",
      " It is a type of list which cannot be changed.\n",
      "\n",
      "IF:\n",
      " It is used to add conditional test to a event.\n",
      "\n",
      "Variables:\n",
      " It can store different types of data like string,bolean or integers.\n",
      "\n",
      "Dictonary:\n",
      " It is like list but a little different. It can store data in keyvalue format.\n"
     ]
    }
   ],
   "source": [
    "glossary = {'list':'It can store values in large numbers. It starts froom index 0.',\n",
    "            'tuple':'It is a type of list which cannot be changed.',\n",
    "            'if':'It is used to add conditional test to a event.',\n",
    "            'variables':'It can store different types of data like string,bolean or integers.',\n",
    "            'dictonary':'It is like list but a little different. It can store data in keyvalue format.',}\n",
    "print(f\"List:\\n {glossary['list']}\\n\")\n",
    "print(f\"Tuples:\\n {glossary['tuple']}\\n\")\n",
    "print(f\"IF:\\n {glossary['if']}\\n\")\n",
    "print(f\"Variables:\\n {glossary['variables']}\\n\")\n",
    "print(f\"Dictonary:\\n {glossary['dictonary']}\")"
   ]
  },
  {
   "cell_type": "code",
   "execution_count": null,
   "id": "4edf5016",
   "metadata": {},
   "outputs": [],
   "source": []
  },
  {
   "cell_type": "code",
   "execution_count": null,
   "id": "5686950b",
   "metadata": {},
   "outputs": [],
   "source": []
  }
 ],
 "metadata": {
  "kernelspec": {
   "display_name": "Python 3 (ipykernel)",
   "language": "python",
   "name": "python3"
  },
  "language_info": {
   "codemirror_mode": {
    "name": "ipython",
    "version": 3
   },
   "file_extension": ".py",
   "mimetype": "text/x-python",
   "name": "python",
   "nbconvert_exporter": "python",
   "pygments_lexer": "ipython3",
   "version": "3.11.4"
  }
 },
 "nbformat": 4,
 "nbformat_minor": 5
}
