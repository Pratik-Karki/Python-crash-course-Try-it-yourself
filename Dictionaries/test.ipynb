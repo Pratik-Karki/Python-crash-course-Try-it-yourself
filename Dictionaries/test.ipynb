{
 "cells": [
  {
   "cell_type": "code",
   "execution_count": 8,
   "id": "2a962f4b",
   "metadata": {},
   "outputs": [
    {
     "name": "stdout",
     "output_type": "stream",
     "text": [
      "green 5\n"
     ]
    }
   ],
   "source": [
    "dict = {'color':'green', 'points':5}\n",
    "print(dict['color'],dict['points'])"
   ]
  },
  {
   "cell_type": "code",
   "execution_count": 10,
   "id": "99339e7a",
   "metadata": {},
   "outputs": [
    {
     "name": "stdout",
     "output_type": "stream",
     "text": [
      "{'color': 'green', 'points': 10, 'x-cordinates': 0, 'y-cordinates': 25}\n"
     ]
    }
   ],
   "source": [
    "dict['x-cordinates'] = 0\n",
    "dict['y-cordinates'] = 25\n",
    "dict['points'] = 10\n",
    "print(dict)"
   ]
  },
  {
   "cell_type": "code",
   "execution_count": 18,
   "id": "88e08927",
   "metadata": {},
   "outputs": [
    {
     "name": "stdout",
     "output_type": "stream",
     "text": [
      "Current speed is 3\n"
     ]
    }
   ],
   "source": [
    "alien_0 = {'color':'green', 'points':10, 'speed':'fast','x-position':0, 'y-position':25}\n",
    "if alien_0['speed'] == 'medium':\n",
    "    x_increment = 2\n",
    "elif alien_0['speed'] == 'slow':\n",
    "    x_increment = 1\n",
    "else:\n",
    "    x_increment = 3\n",
    "alien_0['speed'] = alien_0['x-position']+x_increment\n",
    "print(f\"Current speed is {alien_0['speed']}\")\n",
    "\n"
   ]
  },
  {
   "cell_type": "code",
   "execution_count": 19,
   "id": "7467fb11",
   "metadata": {},
   "outputs": [
    {
     "name": "stdout",
     "output_type": "stream",
     "text": [
      "{'color': 'green', 'x-cordinates': 0, 'y-cordinates': 25}\n"
     ]
    }
   ],
   "source": [
    "del dict['points']\n",
    "print(dict)"
   ]
  },
  {
   "cell_type": "code",
   "execution_count": 26,
   "id": "d1b83480",
   "metadata": {},
   "outputs": [
    {
     "name": "stdout",
     "output_type": "stream",
     "text": [
      "None\n"
     ]
    }
   ],
   "source": [
    "favorite_number = {'pratik':34,'pratima':56,'rahul':67,'punit':89,'hrithik':1}\n",
    "no_name = favorite_number.get('gopal',)\n",
    "print(no_name)"
   ]
  },
  {
   "cell_type": "code",
   "execution_count": 21,
   "id": "46275ce5",
   "metadata": {},
   "outputs": [
    {
     "name": "stdout",
     "output_type": "stream",
     "text": [
      "\n",
      "Pratik's favorite number is 34.\n",
      "\n",
      "Pratima's favorite number is 56.\n",
      "\n",
      "Rahul's favorite number is 67.\n",
      "\n",
      "Punit's favorite number is 89.\n",
      "\n",
      "Hrithik's favorite number is 1.\n"
     ]
    }
   ],
   "source": [
    "for name, number in favorite_number.items():\n",
    "    print(f\"\\n{name.title()}'s favorite number is {number}.\")"
   ]
  },
  {
   "cell_type": "code",
   "execution_count": 12,
   "id": "98bc54bc",
   "metadata": {},
   "outputs": [
    {
     "name": "stdout",
     "output_type": "stream",
     "text": [
      "My name is Suraj. I am 30 years old. I live in Gagalphedi.\n",
      "\n",
      "key : name\n",
      "value : suraj\n",
      "\n",
      "key : age\n",
      "value : 30\n",
      "\n",
      "key : address\n",
      "value : gagalphedi\n"
     ]
    }
   ],
   "source": [
    "dict2 = {'name':'suraj','age':30,'address':'gagalphedi'}\n",
    "name = dict2['name']\n",
    "address = dict2['address']\n",
    "print(f\"My name is {name.title()}. I am {dict2['age']} years old. I live in {address.title()}.\")\n",
    "for k,l in dict2.items():\n",
    "    print(f\"\\nkey : {k}\")\n",
    "    print(f\"value : {l}\")"
   ]
  },
  {
   "cell_type": "code",
   "execution_count": 14,
   "id": "206c99e5",
   "metadata": {},
   "outputs": [
    {
     "name": "stdout",
     "output_type": "stream",
     "text": [
      "name\n",
      "age\n",
      "address\n"
     ]
    }
   ],
   "source": [
    "for z in dict2:\n",
    "    print(z)"
   ]
  },
  {
   "cell_type": "code",
   "execution_count": 16,
   "id": "cecdcdf1",
   "metadata": {},
   "outputs": [
    {
     "name": "stdout",
     "output_type": "stream",
     "text": [
      "name\n",
      "age\n",
      "address\n"
     ]
    }
   ],
   "source": [
    "for y in dict2:\n",
    "    print(y)"
   ]
  },
  {
   "cell_type": "code",
   "execution_count": 23,
   "id": "91752258",
   "metadata": {},
   "outputs": [
    {
     "name": "stdout",
     "output_type": "stream",
     "text": [
      "Punit's favorite number is 89 \n"
     ]
    }
   ],
   "source": [
    "favorite_number = {'pratik':34,'pratima':56,'rahul':67,'punit':89,'hrithik':1}\n",
    "for name,number in favorite_number.items():\n",
    "    if name == 'punit':\n",
    "        print(f\"{name.title()}'s favorite number is {number} \")\n",
    "    "
   ]
  },
  {
   "cell_type": "code",
   "execution_count": 26,
   "id": "b14561bb",
   "metadata": {},
   "outputs": [
    {
     "name": "stdout",
     "output_type": "stream",
     "text": [
      "Punit's favorite number is  \n"
     ]
    }
   ],
   "source": [
    "for name in favorite_number.keys():\n",
    "    if name == 'punit':\n",
    "        print(f\"{name.title()}'s favorite number is  \")"
   ]
  },
  {
   "cell_type": "code",
   "execution_count": 50,
   "id": "52f6f502",
   "metadata": {},
   "outputs": [
    {
     "name": "stdout",
     "output_type": "stream",
     "text": [
      "\n",
      "Hi! Pratik.\n",
      "You like Python\n",
      "\n",
      "please take the poll shyam\n",
      "\n",
      "Hi! Suson.\n",
      "please take the poll shyam\n",
      "\n",
      "Hi! Prabin.\n",
      "You like English\n",
      "\n",
      "please take the poll shyam\n"
     ]
    }
   ],
   "source": [
    "friends = {'pratik':'python','suson':'java','prabin':'english'}\n",
    "seco = ['pratik','prabin']\n",
    "for name, language in friends.items():\n",
    "    print(f\"\\nHi! {name.title()}.\")\n",
    "    if name in seco:\n",
    "        print(f\"You like {language.title()}\\n\")\n",
    "    if 'shyam' not in seco:\n",
    "        print(\"please take the poll shyam\")"
   ]
  },
  {
   "cell_type": "code",
   "execution_count": 48,
   "id": "211c89c6",
   "metadata": {},
   "outputs": [
    {
     "name": "stdout",
     "output_type": "stream",
     "text": [
      "jen\n",
      "python\n",
      "sarah\n",
      "c\n",
      "edward\n",
      "ruby\n",
      "phil\n",
      "python\n"
     ]
    }
   ],
   "source": [
    "favorite_languages = {\n",
    "'jen': 'python',\n",
    "'sarah': 'c',\n",
    "'edward': 'ruby',\n",
    "'phil': 'python',\n",
    "}\n",
    "\n",
    "for name in favorite_languages.keys():\n",
    "    print(name)\n",
    "    print(favorite_languages[name])"
   ]
  },
  {
   "cell_type": "code",
   "execution_count": 35,
   "id": "5ac4b7ad",
   "metadata": {},
   "outputs": [
    {
     "name": "stdout",
     "output_type": "stream",
     "text": [
      "jen\n",
      "python\n",
      "sarah\n",
      "c\n",
      "edward\n",
      "ruby\n",
      "phil\n",
      "python\n"
     ]
    }
   ],
   "source": [
    "friends = ['phil', 'sarah']\n",
    "for name in favorite_languages.keys():\n",
    "    print(name)\n",
    "    print(favorite_languages[name])\n",
    "#     print(name.title())\n",
    "#     if name in friends:\n",
    "#         print(\" Hi \" + name.title() + \", I see your favorite language is \" + favorite_languages[name].title() + \"!\")"
   ]
  },
  {
   "cell_type": "code",
   "execution_count": 1,
   "id": "770c4f01",
   "metadata": {},
   "outputs": [
    {
     "name": "stdout",
     "output_type": "stream",
     "text": [
      "Hardik please select your favorite language.\n",
      "Thaplaya please select your favorite language.\n",
      "Anjal please select your favorite language.\n"
     ]
    }
   ],
   "source": [
    "friends = {'pratik':'python','suson':'java','prabin':'english'}\n",
    "seco = ['pratik','prabin','hardik','thaplaya', 'anjal']\n",
    "for name in seco:\n",
    "    if name not in friends.keys():\n",
    "        print(f\"{name.title()} please select your favorite language.\")"
   ]
  },
  {
   "cell_type": "code",
   "execution_count": 2,
   "id": "eb0b01eb",
   "metadata": {},
   "outputs": [
    {
     "name": "stdout",
     "output_type": "stream",
     "text": [
      "Pratik you are listed.\n",
      "Prabin you are listed.\n",
      "Hardik please select your favorite language.\n",
      "Thaplaya please select your favorite language.\n",
      "Anjal please select your favorite language.\n"
     ]
    }
   ],
   "source": [
    " for name in seco:\n",
    "    if name in friends.keys():\n",
    "        print(f\"{name.title()} you are listed.\")\n",
    "    else:\n",
    "        print(f\"{name.title()} please select your favorite language.\")"
   ]
  },
  {
   "cell_type": "code",
   "execution_count": 7,
   "id": "136762f1",
   "metadata": {},
   "outputs": [
    {
     "name": "stdout",
     "output_type": "stream",
     "text": [
      "Suson is noob.\n"
     ]
    }
   ],
   "source": [
    "for name in friends.keys():\n",
    "    if name == 'suson':\n",
    "        print(f\"{name.title()} is noob.\")"
   ]
  },
  {
   "cell_type": "code",
   "execution_count": 4,
   "id": "049fc000",
   "metadata": {},
   "outputs": [
    {
     "name": "stdout",
     "output_type": "stream",
     "text": [
      "python\n",
      "java\n",
      "english\n"
     ]
    }
   ],
   "source": [
    "for val in friends.values():\n",
    "    print(val)"
   ]
  },
  {
   "cell_type": "code",
   "execution_count": 8,
   "id": "979e00c0",
   "metadata": {},
   "outputs": [],
   "source": [
    "alien_0 = {'color':'green','points':5}\n",
    "alien_1 = {'color':'yellow','points':10}\n",
    "alien_2 = {'color':'red','points':15}\n"
   ]
  },
  {
   "cell_type": "code",
   "execution_count": 9,
   "id": "2b8c4cf2",
   "metadata": {},
   "outputs": [],
   "source": [
    "aliens = [alien_0,alien_1,alien_2]"
   ]
  },
  {
   "cell_type": "code",
   "execution_count": 10,
   "id": "6f28e13e",
   "metadata": {},
   "outputs": [
    {
     "name": "stdout",
     "output_type": "stream",
     "text": [
      "{'color': 'green', 'points': 5}\n",
      "{'color': 'yellow', 'points': 10}\n",
      "{'color': 'red', 'points': 15}\n"
     ]
    }
   ],
   "source": [
    "for alien in aliens:\n",
    "    print(alien)"
   ]
  },
  {
   "cell_type": "code",
   "execution_count": 15,
   "id": "2f25d8d9",
   "metadata": {},
   "outputs": [
    {
     "name": "stdout",
     "output_type": "stream",
     "text": [
      "{'color': 'green', 'points': 5, 'speed': 'slow'}\n",
      "{'color': 'green', 'points': 5, 'speed': 'slow'}\n",
      "{'color': 'green', 'points': 5, 'speed': 'slow'}\n",
      "{'color': 'green', 'points': 5, 'speed': 'slow'}\n",
      "{'color': 'green', 'points': 5, 'speed': 'slow'}\n",
      "{'color': 'green', 'points': 5, 'speed': 'slow'}\n",
      "{'color': 'green', 'points': 5, 'speed': 'slow'}\n",
      "{'color': 'green', 'points': 5, 'speed': 'slow'}\n",
      "{'color': 'green', 'points': 5, 'speed': 'slow'}\n",
      "{'color': 'green', 'points': 5, 'speed': 'slow'}\n"
     ]
    }
   ],
   "source": [
    "aliens = []\n",
    "for alien in range(30):\n",
    "    new_alien = {'color': 'green', 'points': 5, 'speed': 'slow'}\n",
    "    aliens.append(new_alien)\n",
    "for alien in aliens[:10]:\n",
    "    print(alien)\n",
    "    "
   ]
  },
  {
   "cell_type": "code",
   "execution_count": 20,
   "id": "a22ab7a3",
   "metadata": {},
   "outputs": [
    {
     "name": "stdout",
     "output_type": "stream",
     "text": [
      "{'color': 'yellow', 'points': 10, 'speed': 'medium'}\n",
      "{'color': 'yellow', 'points': 10, 'speed': 'medium'}\n",
      "{'color': 'yellow', 'points': 10, 'speed': 'medium'}\n",
      "{'color': 'yellow', 'points': 10, 'speed': 'medium'}\n",
      "{'color': 'yellow', 'points': 10, 'speed': 'medium'}\n",
      "{'color': 'green', 'points': 5, 'speed': 'slow'}\n",
      "{'color': 'green', 'points': 5, 'speed': 'slow'}\n",
      "{'color': 'green', 'points': 5, 'speed': 'slow'}\n",
      "{'color': 'green', 'points': 5, 'speed': 'slow'}\n",
      "{'color': 'green', 'points': 5, 'speed': 'slow'}\n",
      "30\n"
     ]
    }
   ],
   "source": [
    "for alien in aliens[:5]:\n",
    "    if alien['color'] == 'green':\n",
    "        alien['color'] = 'yellow'\n",
    "        alien['points'] = 10\n",
    "        alien['speed'] = 'medium'\n",
    "for alien in aliens[:10]:\n",
    "    print(alien)\n",
    "\n",
    "print(len(aliens))\n",
    "        "
   ]
  },
  {
   "cell_type": "code",
   "execution_count": 12,
   "id": "95e4bee5",
   "metadata": {},
   "outputs": [
    {
     "name": "stdout",
     "output_type": "stream",
     "text": [
      "[{'first_name': 'pratik', 'last_name': 'karki', 'address': 'kageshowri-1'}, {'first_name': 'pratik', 'last_name': 'karki', 'address': 'kageshowri-1'}, {'first_name': 'pratik', 'last_name': 'karki', 'address': 'kageshowri-1'}, {'first_name': 'pratik', 'last_name': 'karki', 'address': 'kageshowri-1'}, {'first_name': 'pratik', 'last_name': 'karki', 'address': 'kageshowri-1'}, {'first_name': 'pratik', 'last_name': 'karki', 'address': 'kageshowri-1'}, {'first_name': 'pratik', 'last_name': 'karki', 'address': 'kageshowri-1'}, {'first_name': 'pratik', 'last_name': 'karki', 'address': 'kageshowri-1'}, {'first_name': 'pratik', 'last_name': 'karki', 'address': 'kageshowri-1'}, {'first_name': 'pratik', 'last_name': 'karki', 'address': 'kageshowri-1'}]\n"
     ]
    }
   ],
   "source": [
    "names = []\n",
    "name = {'first_name':'pratik','last_name':'karki','address':'kageshowri-1'}\n",
    "for name in range(10):\n",
    "    name = {'first_name':'pratik','last_name':'karki','address':'kageshowri-1'}\n",
    "    names.append(name)\n",
    "print(names)"
   ]
  },
  {
   "cell_type": "code",
   "execution_count": 17,
   "id": "9f41975f",
   "metadata": {},
   "outputs": [
    {
     "name": "stdout",
     "output_type": "stream",
     "text": [
      "{'first_name': 'pratima', 'last_name': 'thakuri', 'address': 'budhanilkantha-4'}\n",
      "{'first_name': 'pratima', 'last_name': 'thakuri', 'address': 'budhanilkantha-4'}\n",
      "{'first_name': 'pratima', 'last_name': 'thakuri', 'address': 'budhanilkantha-4'}\n",
      "{'first_name': 'pratima', 'last_name': 'thakuri', 'address': 'budhanilkantha-4'}\n",
      "{'first_name': 'pratima', 'last_name': 'thakuri', 'address': 'budhanilkantha-4'}\n",
      "{'first_name': 'pratik', 'last_name': 'karki', 'address': 'kageshowri-1'}\n",
      "{'first_name': 'pratik', 'last_name': 'karki', 'address': 'kageshowri-1'}\n",
      "{'first_name': 'pratik', 'last_name': 'karki', 'address': 'kageshowri-1'}\n",
      "{'first_name': 'pratik', 'last_name': 'karki', 'address': 'kageshowri-1'}\n",
      "{'first_name': 'pratik', 'last_name': 'karki', 'address': 'kageshowri-1'}\n"
     ]
    }
   ],
   "source": [
    "for name in names[:5]:\n",
    "    if name['first_name'] == \"pratik\":\n",
    "        name['first_name'] = \"pratima\"\n",
    "        name['last_name'] = 'thakuri'\n",
    "        name['address'] = 'budhanilkantha-4'\n",
    "\n",
    "for name in names[:10]:\n",
    "    print(name)\n",
    "    "
   ]
  },
  {
   "cell_type": "code",
   "execution_count": 20,
   "id": "f01f182e",
   "metadata": {},
   "outputs": [
    {
     "data": {
      "text/plain": [
       "{'first_name': 'pratima',\n",
       " 'last_name': 'thakuri',\n",
       " 'address': 'budhanilkantha-4'}"
      ]
     },
     "execution_count": 20,
     "metadata": {},
     "output_type": "execute_result"
    }
   ],
   "source": [
    "names[0]"
   ]
  },
  {
   "cell_type": "code",
   "execution_count": 19,
   "id": "9ffcae43",
   "metadata": {},
   "outputs": [
    {
     "data": {
      "text/plain": [
       "{'first_name': 'pratik', 'last_name': 'karki', 'address': 'kageshowri-1'}"
      ]
     },
     "execution_count": 19,
     "metadata": {},
     "output_type": "execute_result"
    }
   ],
   "source": [
    "names[9]"
   ]
  },
  {
   "cell_type": "code",
   "execution_count": 39,
   "id": "6fd70678",
   "metadata": {},
   "outputs": [
    {
     "name": "stdout",
     "output_type": "stream",
     "text": [
      "0, here\n",
      "1, here\n",
      "2, here\n",
      "3, here\n",
      "4, here\n",
      "5, here\n",
      "6, here\n",
      "7, here\n",
      "8, here\n",
      "9, here\n"
     ]
    }
   ],
   "source": [
    "all_na = []\n",
    "for index , dic in enumerate(names):\n",
    "    dict_name = f'dict_{index}'\n",
    "    here = globals()[dict_name] \n",
    "    here = dic\n",
    "\n",
    "# print(all_na)\n",
    "# for name in all_na:\n",
    "#     print(name)\n",
    "    "
   ]
  },
  {
   "cell_type": "code",
   "execution_count": 40,
   "id": "3baa02d7",
   "metadata": {},
   "outputs": [
    {
     "name": "stdout",
     "output_type": "stream",
     "text": [
      "{'dict_0': {'first_name': 'pratik', 'last_name': 'karki', 'address': 'kageshowri-1'}}\n",
      "{'dict_1': {'first_name': 'pratik', 'last_name': 'karki', 'address': 'kageshowri-1'}}\n",
      "{'dict_2': {'first_name': 'pratik', 'last_name': 'karki', 'address': 'kageshowri-1'}}\n",
      "{'dict_3': {'first_name': 'pratik', 'last_name': 'karki', 'address': 'kageshowri-1'}}\n",
      "{'dict_4': {'first_name': 'pratik', 'last_name': 'karki', 'address': 'kageshowri-1'}}\n"
     ]
    }
   ],
   "source": [
    "# Original list of dictionaries\n",
    "original_list = [\n",
    "    {'first_name': 'pratik', 'last_name': 'karki', 'address': 'kageshowri-1'},\n",
    "    {'first_name': 'pratik', 'last_name': 'karki', 'address': 'kageshowri-1'},\n",
    "    {'first_name': 'pratik', 'last_name': 'karki', 'address': 'kageshowri-1'},\n",
    "    {'first_name': 'pratik', 'last_name': 'karki', 'address': 'kageshowri-1'},\n",
    "    {'first_name': 'pratik', 'last_name': 'karki', 'address': 'kageshowri-1'},\n",
    "]\n",
    "\n",
    "# Create a new list with dictionaries having individual names\n",
    "new_list = []\n",
    "\n",
    "for index, dic in enumerate(original_list):\n",
    "    dict_name = f'dict_{index}'  # Create a unique name for each dictionary\n",
    "    dic_with_name = {dict_name: dic}  # Create a new dictionary with the unique name as the key\n",
    "    new_list.append(dic_with_name)  # Add the new dictionary to the new list\n",
    "\n",
    "# Print the new list of dictionaries\n",
    "for item in new_list:\n",
    "    print(item)\n"
   ]
  },
  {
   "cell_type": "code",
   "execution_count": 41,
   "id": "e31e057d",
   "metadata": {},
   "outputs": [
    {
     "name": "stdout",
     "output_type": "stream",
     "text": [
      "[{'dict_0': {'first_name': 'pratik', 'last_name': 'karki', 'address': 'kageshowri-1'}}, {'dict_1': {'first_name': 'pratik', 'last_name': 'karki', 'address': 'kageshowri-1'}}, {'dict_2': {'first_name': 'pratik', 'last_name': 'karki', 'address': 'kageshowri-1'}}, {'dict_3': {'first_name': 'pratik', 'last_name': 'karki', 'address': 'kageshowri-1'}}, {'dict_4': {'first_name': 'pratik', 'last_name': 'karki', 'address': 'kageshowri-1'}}]\n"
     ]
    }
   ],
   "source": [
    "print(new_list)"
   ]
  },
  {
   "cell_type": "code",
   "execution_count": 42,
   "id": "214606a6",
   "metadata": {},
   "outputs": [],
   "source": [
    "pizza = {\n",
    "'crust': 'thick',\n",
    "'toppings': ['mushrooms', 'extra cheese'],\n",
    "}"
   ]
  },
  {
   "cell_type": "code",
   "execution_count": 43,
   "id": "78fd14fb",
   "metadata": {},
   "outputs": [
    {
     "name": "stdout",
     "output_type": "stream",
     "text": [
      "{'crust': 'thick', 'toppings': ['mushrooms', 'extra cheese']}\n"
     ]
    }
   ],
   "source": [
    "print(pizza)"
   ]
  },
  {
   "cell_type": "code",
   "execution_count": 44,
   "id": "1e2ab0a7",
   "metadata": {},
   "outputs": [
    {
     "name": "stdout",
     "output_type": "stream",
     "text": [
      "mushrooms\n",
      "extra cheese\n"
     ]
    }
   ],
   "source": [
    "for topping in pizza['toppings']:\n",
    "    print(topping)"
   ]
  },
  {
   "cell_type": "code",
   "execution_count": 45,
   "id": "81d63e3f",
   "metadata": {},
   "outputs": [
    {
     "name": "stdout",
     "output_type": "stream",
     "text": [
      "thick\n"
     ]
    }
   ],
   "source": [
    "print(f\"{pizza['crust']}\")"
   ]
  },
  {
   "cell_type": "code",
   "execution_count": 49,
   "id": "93ab42e7",
   "metadata": {},
   "outputs": [
    {
     "name": "stdout",
     "output_type": "stream",
     "text": [
      "crust\n",
      "thick\n",
      "toppings\n",
      "['mushrooms', 'extra cheese']\n"
     ]
    }
   ],
   "source": [
    "for key,value in pizza.items():\n",
    "    print(key)\n",
    "    print(value)"
   ]
  },
  {
   "cell_type": "code",
   "execution_count": 50,
   "id": "4cdc929d",
   "metadata": {},
   "outputs": [
    {
     "name": "stdout",
     "output_type": "stream",
     "text": [
      "mushrooms\n",
      "extra cheese\n"
     ]
    }
   ],
   "source": [
    "for topping in pizza['toppings']:\n",
    "    print(topping)"
   ]
  },
  {
   "cell_type": "code",
   "execution_count": null,
   "id": "3cc80bae",
   "metadata": {},
   "outputs": [],
   "source": []
  }
 ],
 "metadata": {
  "kernelspec": {
   "display_name": "Python 3 (ipykernel)",
   "language": "python",
   "name": "python3"
  },
  "language_info": {
   "codemirror_mode": {
    "name": "ipython",
    "version": 3
   },
   "file_extension": ".py",
   "mimetype": "text/x-python",
   "name": "python",
   "nbconvert_exporter": "python",
   "pygments_lexer": "ipython3",
   "version": "3.11.4"
  }
 },
 "nbformat": 4,
 "nbformat_minor": 5
}
