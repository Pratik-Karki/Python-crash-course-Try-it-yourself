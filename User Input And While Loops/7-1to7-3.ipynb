{
 "cells": [
  {
   "cell_type": "markdown",
   "id": "b9c7c36e",
   "metadata": {},
   "source": [
    "<h3>7-1. Rental Car</h3>"
   ]
  },
  {
   "cell_type": "code",
   "execution_count": 1,
   "id": "632d1b82",
   "metadata": {},
   "outputs": [
    {
     "name": "stdout",
     "output_type": "stream",
     "text": [
      "What kind of car do you want?honda\n",
      "\n",
      "let me see if i can find you a Honda\n"
     ]
    }
   ],
   "source": [
    "car = input(\"What kind of car do you want?\")\n",
    "print(f\"\\nlet me see if i can find you a {car.title()}.\")"
   ]
  },
  {
   "cell_type": "markdown",
   "id": "d722cabf",
   "metadata": {},
   "source": [
    "<h3>7-2. Resturant Seating</h3>"
   ]
  },
  {
   "cell_type": "code",
   "execution_count": 8,
   "id": "868687ff",
   "metadata": {},
   "outputs": [
    {
     "name": "stdout",
     "output_type": "stream",
     "text": [
      "How many people are in your dinner group?9\n",
      "You will have to wait for a table.\n"
     ]
    }
   ],
   "source": [
    "no_of_person = input(\"How many people are in your dinner group?\")\n",
    "no_of_person = int(no_of_person)\n",
    "if no_of_person > 8:\n",
    "    print(\"You will have to wait for a table.\")\n",
    "else:\n",
    "    print(\"There is a table ready for your group.\")"
   ]
  },
  {
   "cell_type": "markdown",
   "id": "1942fbcd",
   "metadata": {},
   "source": [
    "<h3>7-3. Multiples of Ten</h3>"
   ]
  },
  {
   "cell_type": "code",
   "execution_count": 11,
   "id": "9a192899",
   "metadata": {},
   "outputs": [
    {
     "name": "stdout",
     "output_type": "stream",
     "text": [
      "Give me a number to check:60\n",
      "Number is multiple of 10\n"
     ]
    }
   ],
   "source": [
    "number = input(\"Give me a number to check:\")\n",
    "number = int(number)\n",
    "if number%10 == 0:\n",
    "    print(\"Number is multiple of 10\")\n",
    "else:\n",
    "    print(\"Number is not multipe of 10\")"
   ]
  },
  {
   "cell_type": "code",
   "execution_count": null,
   "id": "f989f32b",
   "metadata": {},
   "outputs": [],
   "source": []
  }
 ],
 "metadata": {
  "kernelspec": {
   "display_name": "Python 3 (ipykernel)",
   "language": "python",
   "name": "python3"
  },
  "language_info": {
   "codemirror_mode": {
    "name": "ipython",
    "version": 3
   },
   "file_extension": ".py",
   "mimetype": "text/x-python",
   "name": "python",
   "nbconvert_exporter": "python",
   "pygments_lexer": "ipython3",
   "version": "3.11.4"
  }
 },
 "nbformat": 4,
 "nbformat_minor": 5
}
