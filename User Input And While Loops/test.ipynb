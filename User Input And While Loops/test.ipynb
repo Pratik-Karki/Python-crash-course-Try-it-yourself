{
 "cells": [
  {
   "cell_type": "code",
   "execution_count": 2,
   "id": "f9b7f8ea",
   "metadata": {},
   "outputs": [
    {
     "name": "stdout",
     "output_type": "stream",
     "text": [
      "how are you?i am fine\n",
      "i am fine\n"
     ]
    }
   ],
   "source": [
    "message  = input(\"how are you?\")\n",
    "print(message)"
   ]
  },
  {
   "cell_type": "code",
   "execution_count": 14,
   "id": "c5a40a15",
   "metadata": {},
   "outputs": [
    {
     "name": "stdout",
     "output_type": "stream",
     "text": [
      "if you answer this question you will be rewarded 1000$\n",
      "What is capital of Nepal?nepal\n",
      "\n",
      "Sorry try again later. The correct answer is Kathmandu.\n"
     ]
    }
   ],
   "source": [
    "prompt = \"if you answer this question you will be rewarded 1000$\"\n",
    "prompt += \"\\nWhat is capital of Nepal?\"\n",
    "answer = input(prompt)\n",
    "answer = answer.lower()\n",
    "if answer == \"kathmandu\":\n",
    "    print(\"\\nYour answer is correct you won the prize money.\")\n",
    "else:\n",
    "    print(f\"\\nSorry try again later. The correct answer is Kathmandu.\")"
   ]
  },
  {
   "cell_type": "code",
   "execution_count": 5,
   "id": "6aec2e55",
   "metadata": {},
   "outputs": [
    {
     "name": "stdout",
     "output_type": "stream",
     "text": [
      "1\n",
      "2\n",
      "3\n",
      "4\n",
      "5\n",
      "6\n",
      "7\n",
      "8\n",
      "9\n",
      "10\n"
     ]
    }
   ],
   "source": [
    "no = 1\n",
    "while no <= 10:\n",
    "    \n",
    "    print(no)\n",
    "    no+=1"
   ]
  },
  {
   "cell_type": "code",
   "execution_count": 13,
   "id": "9303dac5",
   "metadata": {},
   "outputs": [
    {
     "name": "stdout",
     "output_type": "stream",
     "text": [
      "enter something or enter quit to exit.quit\n",
      "quit\n"
     ]
    }
   ],
   "source": [
    "prompt = \"enter something or enter quit to exit.\"\n",
    "message = \"\"\n",
    "active = True\n",
    "while active:\n",
    "    if message == 'quit':\n",
    "        break\n",
    "    else:\n",
    "        message = input(prompt)\n",
    "        print(message)"
   ]
  },
  {
   "cell_type": "code",
   "execution_count": 14,
   "id": "5cf026b9",
   "metadata": {},
   "outputs": [
    {
     "name": "stdout",
     "output_type": "stream",
     "text": [
      "verifing user: hari\n",
      "verifing user: sita\n",
      "verifing user: ram\n",
      "hari\n",
      "sita\n",
      "ram\n"
     ]
    }
   ],
   "source": [
    "unconfirmed = ['ram','sita','hari']\n",
    "confirmed = []\n",
    "while unconfirmed:\n",
    "    currentverifying = unconfirmed.pop()\n",
    "    print (f\"verifing user: {currentverifying}\")\n",
    "    confirmed.append(currentverifying)\n",
    "for users in confirmed:\n",
    "    print(users)"
   ]
  },
  {
   "cell_type": "code",
   "execution_count": 16,
   "id": "ef4a1628",
   "metadata": {},
   "outputs": [
    {
     "name": "stdout",
     "output_type": "stream",
     "text": [
      "['ram', 'sita']\n"
     ]
    }
   ],
   "source": [
    "unconfirmed = ['ram','sita','hari','hari','hari']\n",
    "while 'hari' in unconfirmed:\n",
    "    unconfirmed.remove('hari')\n",
    "print(unconfirmed)"
   ]
  },
  {
   "cell_type": "code",
   "execution_count": 21,
   "id": "2e164fb0",
   "metadata": {},
   "outputs": [
    {
     "name": "stdout",
     "output_type": "stream",
     "text": [
      "What is your namepratik\n",
      "Which mountain would you like to climb?ef\n",
      "another person?no\n",
      "{'pratik': 'ef'}\n"
     ]
    }
   ],
   "source": [
    "response = {}\n",
    "polling_active = True\n",
    "while polling_active:\n",
    "    climber_name = input(\"What is your name\")\n",
    "    mountain_name = input(\"Which mountain would you like to climb?\")\n",
    "    response[climber_name] =mountain_name\n",
    "\n",
    "    repeat = input(\"another person?\")\n",
    "    if repeat == 'no':\n",
    "        break\n",
    "print(f\"\\n{response()}\")"
   ]
  },
  {
   "cell_type": "code",
   "execution_count": 8,
   "id": "c7df4c56",
   "metadata": {},
   "outputs": [
    {
     "name": "stdout",
     "output_type": "stream",
     "text": [
      "pratik\n",
      "pratima\n",
      "rahul\n",
      "hem\n"
     ]
    }
   ],
   "source": [
    "dict = ['pratik','pratima','rahul','hem']\n",
    "while dict:\n",
    "    for names in dict:\n",
    "        print(names)\n",
    "    break\n",
    "\n",
    "    "
   ]
  },
  {
   "cell_type": "code",
   "execution_count": null,
   "id": "beb2f44a",
   "metadata": {},
   "outputs": [],
   "source": []
  }
 ],
 "metadata": {
  "kernelspec": {
   "display_name": "Python 3 (ipykernel)",
   "language": "python",
   "name": "python3"
  },
  "language_info": {
   "codemirror_mode": {
    "name": "ipython",
    "version": 3
   },
   "file_extension": ".py",
   "mimetype": "text/x-python",
   "name": "python",
   "nbconvert_exporter": "python",
   "pygments_lexer": "ipython3",
   "version": "3.11.4"
  }
 },
 "nbformat": 4,
 "nbformat_minor": 5
}
