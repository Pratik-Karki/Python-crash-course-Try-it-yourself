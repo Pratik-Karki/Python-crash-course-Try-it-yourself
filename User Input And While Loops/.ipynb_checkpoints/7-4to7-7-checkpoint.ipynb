{
 "cells": [
  {
   "cell_type": "markdown",
   "id": "5f830e66",
   "metadata": {},
   "source": [
    "<h3>7-4. Pizza Toppings </h3>"
   ]
  },
  {
   "cell_type": "code",
   "execution_count": null,
   "id": "8ee14c22",
   "metadata": {},
   "outputs": [],
   "source": []
  },
  {
   "cell_type": "markdown",
   "id": "68d7a948",
   "metadata": {},
   "source": [
    "<h3>7-5. Movie Tickets</h3>"
   ]
  },
  {
   "cell_type": "code",
   "execution_count": null,
   "id": "5fad0dad",
   "metadata": {},
   "outputs": [],
   "source": []
  },
  {
   "cell_type": "markdown",
   "id": "33c4c762",
   "metadata": {},
   "source": [
    "<h3>7-6. Three Exits</h3>"
   ]
  },
  {
   "cell_type": "code",
   "execution_count": null,
   "id": "d1d21156",
   "metadata": {},
   "outputs": [],
   "source": []
  },
  {
   "cell_type": "markdown",
   "id": "f97afb2c",
   "metadata": {},
   "source": [
    "<h3>7-7. Infinity</h3>"
   ]
  },
  {
   "cell_type": "code",
   "execution_count": null,
   "id": "a54095a2",
   "metadata": {},
   "outputs": [],
   "source": []
  }
 ],
 "metadata": {
  "kernelspec": {
   "display_name": "Python 3 (ipykernel)",
   "language": "python",
   "name": "python3"
  },
  "language_info": {
   "codemirror_mode": {
    "name": "ipython",
    "version": 3
   },
   "file_extension": ".py",
   "mimetype": "text/x-python",
   "name": "python",
   "nbconvert_exporter": "python",
   "pygments_lexer": "ipython3",
   "version": "3.11.4"
  }
 },
 "nbformat": 4,
 "nbformat_minor": 5
}
