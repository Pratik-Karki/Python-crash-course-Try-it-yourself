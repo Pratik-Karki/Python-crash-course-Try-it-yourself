{
 "cells": [
  {
   "cell_type": "markdown",
   "id": "2fd396ac",
   "metadata": {},
   "source": [
    "<h3>7-8. Deli</h3>"
   ]
  },
  {
   "cell_type": "code",
   "execution_count": 6,
   "id": "c1a7216a",
   "metadata": {},
   "outputs": [
    {
     "name": "stdout",
     "output_type": "stream",
     "text": [
      "I made you Egg sandwich.\n",
      "I made you Chicken sandwich.\n",
      "I made you Seafood sandwich.\n",
      "I made you Veg sandwich.\n",
      "Your Egg sandwich is here. Pay first to receive into your table.\n",
      "Your Chicken sandwich is here. Pay first to receive into your table.\n",
      "Your Seafood sandwich is here. Pay first to receive into your table.\n",
      "Your Veg sandwich is here. Pay first to receive into your table.\n"
     ]
    }
   ],
   "source": [
    "sandwich_orders = ['egg','chicken','seafood','veg']\n",
    "finished_sandwiches = []\n",
    "for sandwich in sandwich_orders:\n",
    "    print(f\"I made you {sandwich.title()} sandwich.\")\n",
    "    finished_sandwiches.append(sandwich)\n",
    "for ready_sandwich in finished_sandwiches:\n",
    "    print(f\"Your {ready_sandwich.title()} sandwich is here. Pay first to receive into your table.\")"
   ]
  },
  {
   "cell_type": "markdown",
   "id": "663503ee",
   "metadata": {},
   "source": [
    "<h3>7-9. No Pastrami</h3>"
   ]
  },
  {
   "cell_type": "code",
   "execution_count": 24,
   "id": "8404a119",
   "metadata": {},
   "outputs": [
    {
     "name": "stdout",
     "output_type": "stream",
     "text": [
      "Deli has run out of Pastrami sandwich.\n",
      "['veg', 'seafood', 'chicken', 'egg']\n"
     ]
    }
   ],
   "source": [
    "sandwich_orders = ['pastrami','egg','chicken','pastrami','seafood','veg','pastrami']\n",
    "finished_sandwich = []\n",
    "print(\"Deli has run out of Pastrami sandwich.\")\n",
    "while 'pastrami' in sandwich_orders:\n",
    "    sandwich_orders.remove('pastrami')\n",
    "while sandwich_orders:\n",
    "        orders = sandwich_orders.pop()\n",
    "        finished_sandwich.append(orders)\n",
    "print(finished_sandwich)"
   ]
  },
  {
   "cell_type": "markdown",
   "id": "cccf14b4",
   "metadata": {},
   "source": [
    "<h3>7-10. Dream Vacation</h3>"
   ]
  },
  {
   "cell_type": "code",
   "execution_count": 18,
   "id": "3f2304c4",
   "metadata": {},
   "outputs": [
    {
     "name": "stdout",
     "output_type": "stream",
     "text": [
      "what is your name?pratik\n",
      "which is your dream vacation?kathmandu\n",
      "Would you like to enter more entry?\n",
      "yes\n",
      "what is your name?pratima\n",
      "which is your dream vacation?\n",
      "Would you like to enter more entry?\n",
      "no\n",
      "\n",
      "Pratik would go to Kathmandu for vacation.\n",
      "\n",
      "Pratima would go to  for vacation.\n"
     ]
    }
   ],
   "source": [
    "dream_vacation = {}\n",
    "flag = True\n",
    "while flag:\n",
    "    name = input(\"what is your name?\")\n",
    "    place = input(\"which is your dream vacation?\")\n",
    "    dream_vacation[name] = place\n",
    "    more_entry = input(\"Would you like to enter more entry?\\n\")\n",
    "    more_entry = more_entry.lower()\n",
    "    if more_entry == 'no':\n",
    "            flag = False  \n",
    "for key,value in dream_vacation.items():\n",
    "    print(f\"\\n{key.title()} would go to {value.title()} for vacation.\")"
   ]
  },
  {
   "cell_type": "code",
   "execution_count": null,
   "id": "4af67f61",
   "metadata": {},
   "outputs": [],
   "source": []
  }
 ],
 "metadata": {
  "kernelspec": {
   "display_name": "Python 3 (ipykernel)",
   "language": "python",
   "name": "python3"
  },
  "language_info": {
   "codemirror_mode": {
    "name": "ipython",
    "version": 3
   },
   "file_extension": ".py",
   "mimetype": "text/x-python",
   "name": "python",
   "nbconvert_exporter": "python",
   "pygments_lexer": "ipython3",
   "version": "3.11.4"
  }
 },
 "nbformat": 4,
 "nbformat_minor": 5
}
