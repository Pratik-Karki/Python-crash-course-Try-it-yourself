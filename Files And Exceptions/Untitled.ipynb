{
 "cells": [
  {
   "cell_type": "code",
   "execution_count": 1,
   "id": "d1af15de",
   "metadata": {},
   "outputs": [],
   "source": [
    "from pathlib import Path"
   ]
  },
  {
   "cell_type": "code",
   "execution_count": 2,
   "id": "71f03565",
   "metadata": {},
   "outputs": [],
   "source": [
    "path = Path('testing.txt')"
   ]
  },
  {
   "cell_type": "code",
   "execution_count": 3,
   "id": "ba8e752e",
   "metadata": {},
   "outputs": [
    {
     "name": "stdout",
     "output_type": "stream",
     "text": [
      "This is another number\n"
     ]
    }
   ],
   "source": [
    "contents = path.read_text()\n",
    "print(contents)"
   ]
  },
  {
   "cell_type": "code",
   "execution_count": 4,
   "id": "348e0f2b",
   "metadata": {},
   "outputs": [],
   "source": [
    "pi_file = Path('pi_value.txt')"
   ]
  },
  {
   "cell_type": "code",
   "execution_count": 5,
   "id": "6e90f68e",
   "metadata": {},
   "outputs": [],
   "source": [
    "in_line = pi_file.read_text()"
   ]
  },
  {
   "cell_type": "code",
   "execution_count": 6,
   "id": "07c1c096",
   "metadata": {},
   "outputs": [
    {
     "data": {
      "text/plain": [
       "str"
      ]
     },
     "execution_count": 6,
     "metadata": {},
     "output_type": "execute_result"
    }
   ],
   "source": [
    "type(in_line)"
   ]
  },
  {
   "cell_type": "code",
   "execution_count": 7,
   "id": "146a7b58",
   "metadata": {},
   "outputs": [
    {
     "name": "stdout",
     "output_type": "stream",
     "text": [
      "Enter Number to check in PI value: \n"
     ]
    }
   ],
   "source": [
    "birthday = input(\"Enter Number to check in PI value: \")"
   ]
  },
  {
   "cell_type": "code",
   "execution_count": 8,
   "id": "660ac2e7",
   "metadata": {},
   "outputs": [
    {
     "name": "stdout",
     "output_type": "stream",
     "text": [
      "yes\n"
     ]
    }
   ],
   "source": [
    "if birthday in in_line:\n",
    "    print(\"yes\")\n",
    "else:\n",
    "    print(\"no\")"
   ]
  },
  {
   "cell_type": "code",
   "execution_count": 9,
   "id": "0359e3be",
   "metadata": {},
   "outputs": [
    {
     "name": "stdout",
     "output_type": "stream",
     "text": [
      "Enter Number to check in PI value: \n",
      "yes\n",
      "Enter Number to check in PI value: \n",
      "yes\n",
      "Enter Number to check in PI value: exit\n"
     ]
    }
   ],
   "source": [
    "while True:\n",
    "    birthday = input(\"Enter Number to check in PI value: \")\n",
    "    if birthday == 'exit':\n",
    "            break\n",
    "    elif birthday in in_line: \n",
    "        print(\"yes\")\n",
    "        \n",
    "    else:\n",
    "        print(\"no\")\n",
    "        \n",
    "    "
   ]
  },
  {
   "cell_type": "code",
   "execution_count": 26,
   "id": "bbd196c2",
   "metadata": {},
   "outputs": [
    {
     "data": {
      "text/plain": [
       "22"
      ]
     },
     "execution_count": 26,
     "metadata": {},
     "output_type": "execute_result"
    }
   ],
   "source": [
    "path.write_text('This is another number')"
   ]
  },
  {
   "cell_type": "code",
   "execution_count": 27,
   "id": "4b98a519",
   "metadata": {},
   "outputs": [
    {
     "name": "stdout",
     "output_type": "stream",
     "text": [
      "This is another number\n"
     ]
    }
   ],
   "source": [
    "print(contents)"
   ]
  },
  {
   "cell_type": "code",
   "execution_count": 10,
   "id": "14a6306a",
   "metadata": {},
   "outputs": [],
   "source": [
    "toadd = 'This is second number.'"
   ]
  },
  {
   "cell_type": "code",
   "execution_count": 11,
   "id": "2ba874b8",
   "metadata": {},
   "outputs": [
    {
     "data": {
      "text/plain": [
       "22"
      ]
     },
     "execution_count": 11,
     "metadata": {},
     "output_type": "execute_result"
    }
   ],
   "source": [
    "path.write_text(toadd)"
   ]
  },
  {
   "cell_type": "code",
   "execution_count": 12,
   "id": "4e6edd67",
   "metadata": {},
   "outputs": [
    {
     "name": "stdout",
     "output_type": "stream",
     "text": [
      "This is another number\n"
     ]
    }
   ],
   "source": [
    "print(contents)"
   ]
  },
  {
   "cell_type": "code",
   "execution_count": 14,
   "id": "49a71434",
   "metadata": {},
   "outputs": [
    {
     "name": "stdout",
     "output_type": "stream",
     "text": [
      "cant divide by zero\n"
     ]
    }
   ],
   "source": [
    "try:\n",
    "    print(5/0)\n",
    "except:\n",
    "    print(\"cant divide by zero\")"
   ]
  },
  {
   "cell_type": "code",
   "execution_count": 2,
   "id": "1e61d9da",
   "metadata": {},
   "outputs": [],
   "source": [
    "import json"
   ]
  },
  {
   "cell_type": "code",
   "execution_count": 3,
   "id": "9c9cffaa",
   "metadata": {},
   "outputs": [],
   "source": [
    "path = Path('numbers.json')"
   ]
  },
  {
   "cell_type": "code",
   "execution_count": 4,
   "id": "65737741",
   "metadata": {},
   "outputs": [],
   "source": [
    "numbers = [1,2,3,4,5,6,7]"
   ]
  },
  {
   "cell_type": "code",
   "execution_count": 10,
   "id": "6b96340f",
   "metadata": {},
   "outputs": [],
   "source": [
    "contents = json.dumps(numbers)"
   ]
  },
  {
   "cell_type": "code",
   "execution_count": 11,
   "id": "f6d62463",
   "metadata": {},
   "outputs": [
    {
     "data": {
      "text/plain": [
       "21"
      ]
     },
     "execution_count": 11,
     "metadata": {},
     "output_type": "execute_result"
    }
   ],
   "source": [
    "path.write_text(contents)"
   ]
  },
  {
   "cell_type": "code",
   "execution_count": 12,
   "id": "1e874ac7",
   "metadata": {},
   "outputs": [
    {
     "data": {
      "text/plain": [
       "'[1, 2, 3, 4, 5, 6, 7]'"
      ]
     },
     "execution_count": 12,
     "metadata": {},
     "output_type": "execute_result"
    }
   ],
   "source": [
    "path.read_text()"
   ]
  },
  {
   "cell_type": "code",
   "execution_count": 13,
   "id": "a17bed32",
   "metadata": {},
   "outputs": [],
   "source": [
    "path_load = Path('numbers.json')"
   ]
  },
  {
   "cell_type": "code",
   "execution_count": 15,
   "id": "562e1da0",
   "metadata": {},
   "outputs": [],
   "source": [
    "contents2 = path_load.read_text()"
   ]
  },
  {
   "cell_type": "code",
   "execution_count": 16,
   "id": "783da0a6",
   "metadata": {},
   "outputs": [],
   "source": [
    "data = json.loads(contents2)"
   ]
  },
  {
   "cell_type": "code",
   "execution_count": 17,
   "id": "5e920523",
   "metadata": {},
   "outputs": [
    {
     "name": "stdout",
     "output_type": "stream",
     "text": [
      "[1, 2, 3, 4, 5, 6, 7]\n"
     ]
    }
   ],
   "source": [
    "print(data)"
   ]
  },
  {
   "cell_type": "code",
   "execution_count": 18,
   "id": "9ee5ff4f",
   "metadata": {},
   "outputs": [],
   "source": [
    "path3 = Path('text.json')"
   ]
  },
  {
   "cell_type": "code",
   "execution_count": 19,
   "id": "32105371",
   "metadata": {},
   "outputs": [],
   "source": [
    "contents3 = json.dumps(numbers)"
   ]
  },
  {
   "cell_type": "code",
   "execution_count": 20,
   "id": "1cb284e5",
   "metadata": {},
   "outputs": [
    {
     "data": {
      "text/plain": [
       "21"
      ]
     },
     "execution_count": 20,
     "metadata": {},
     "output_type": "execute_result"
    }
   ],
   "source": [
    "path3.write_text(contents3)"
   ]
  },
  {
   "cell_type": "code",
   "execution_count": null,
   "id": "fc039b6b",
   "metadata": {},
   "outputs": [],
   "source": []
  }
 ],
 "metadata": {
  "kernelspec": {
   "display_name": "Python 3 (ipykernel)",
   "language": "python",
   "name": "python3"
  },
  "language_info": {
   "codemirror_mode": {
    "name": "ipython",
    "version": 3
   },
   "file_extension": ".py",
   "mimetype": "text/x-python",
   "name": "python",
   "nbconvert_exporter": "python",
   "pygments_lexer": "ipython3",
   "version": "3.11.4"
  }
 },
 "nbformat": 4,
 "nbformat_minor": 5
}
