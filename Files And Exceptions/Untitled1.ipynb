{
 "cells": [
  {
   "cell_type": "code",
   "execution_count": 2,
   "id": "07ef6475",
   "metadata": {},
   "outputs": [],
   "source": [
    "from pathlib import Path\n",
    "import json"
   ]
  },
  {
   "cell_type": "code",
   "execution_count": 52,
   "id": "9b480be0",
   "metadata": {},
   "outputs": [],
   "source": [
    "def define_user():\n",
    "    user_details = {}\n",
    "    user_firstname = input('Please enter your first name: ')\n",
    "    user_surname = input('Please enter your surname: ')\n",
    "    user_address = input('Address: ')\n",
    "    user_details['firstname'] = user_firstname\n",
    "    user_details['surname'] = user_surname\n",
    "    user_details['address'] = user_address \n",
    "    path_to_data = Path('user_details.json')\n",
    "    contents = json.dumps(user_details)\n",
    "    path_to_data.write_text(contents)"
   ]
  },
  {
   "cell_type": "code",
   "execution_count": 53,
   "id": "d29a20e5",
   "metadata": {},
   "outputs": [
    {
     "name": "stdout",
     "output_type": "stream",
     "text": [
      "Please enter your first name: pratima\n",
      "Please enter your surname: thakuri\n",
      "Address: budhanilkantha\n"
     ]
    }
   ],
   "source": [
    "define_user()"
   ]
  },
  {
   "cell_type": "code",
   "execution_count": 56,
   "id": "d7886046",
   "metadata": {},
   "outputs": [],
   "source": [
    "def load_user():\n",
    "    path_to_data = Path('user_details.json')\n",
    "    contents = path_to_data.read_text()\n",
    "    all_data = json.loads(contents)\n",
    "    print(all_data)\n",
    "    print(f\"Hello! {all_data['firstname'].title()} {all_data['surname'].title()}. Are you from {all_data['address'].title()}?\")"
   ]
  },
  {
   "cell_type": "code",
   "execution_count": 57,
   "id": "3a342c19",
   "metadata": {},
   "outputs": [
    {
     "name": "stdout",
     "output_type": "stream",
     "text": [
      "{'firstname': 'pratima', 'surname': 'thakuri', 'address': 'budhanilkantha'}\n",
      "Hello! Pratima Thakuri. Are you from Budhanilkantha?\n"
     ]
    }
   ],
   "source": [
    "load_user()"
   ]
  },
  {
   "cell_type": "code",
   "execution_count": null,
   "id": "e57d6ea2",
   "metadata": {},
   "outputs": [],
   "source": []
  }
 ],
 "metadata": {
  "kernelspec": {
   "display_name": "Python 3 (ipykernel)",
   "language": "python",
   "name": "python3"
  },
  "language_info": {
   "codemirror_mode": {
    "name": "ipython",
    "version": 3
   },
   "file_extension": ".py",
   "mimetype": "text/x-python",
   "name": "python",
   "nbconvert_exporter": "python",
   "pygments_lexer": "ipython3",
   "version": "3.11.4"
  }
 },
 "nbformat": 4,
 "nbformat_minor": 5
}
