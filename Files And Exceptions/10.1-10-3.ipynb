{
 "cells": [
  {
   "cell_type": "markdown",
   "id": "d3fe8896",
   "metadata": {},
   "source": [
    "<h3>10-1. Learning Python</h3>"
   ]
  },
  {
   "cell_type": "code",
   "execution_count": 32,
   "id": "bbaee3e2",
   "metadata": {},
   "outputs": [],
   "source": [
    "from pathlib import Path\n",
    "path1 = Path('for1.txt')"
   ]
  },
  {
   "cell_type": "code",
   "execution_count": 33,
   "id": "462224c7",
   "metadata": {},
   "outputs": [],
   "source": [
    "contents = path1.read_text()"
   ]
  },
  {
   "cell_type": "code",
   "execution_count": 34,
   "id": "e1bf9fac",
   "metadata": {},
   "outputs": [
    {
     "name": "stdout",
     "output_type": "stream",
     "text": [
      "In python you can write your own functions.\n",
      "In python you can create classes.\n",
      "In python you can store data into lists, tuples, dictionaries, sets etc.\n",
      "In python you can visualize data.\n"
     ]
    }
   ],
   "source": [
    "print(contents)"
   ]
  },
  {
   "cell_type": "code",
   "execution_count": 35,
   "id": "5b1f9d75",
   "metadata": {},
   "outputs": [],
   "source": [
    "content_by_line = contents.splitlines()"
   ]
  },
  {
   "cell_type": "code",
   "execution_count": 36,
   "id": "26cc5150",
   "metadata": {},
   "outputs": [
    {
     "name": "stdout",
     "output_type": "stream",
     "text": [
      "In python you can write your own functions.\n",
      "In python you can create classes.\n",
      "In python you can store data into lists, tuples, dictionaries, sets etc.\n",
      "In python you can visualize data.\n"
     ]
    }
   ],
   "source": [
    "for line in content_by_line:\n",
    "    print(line)"
   ]
  },
  {
   "cell_type": "markdown",
   "id": "465417f6",
   "metadata": {},
   "source": [
    "<h3>10-2. Learning C</h3>"
   ]
  },
  {
   "cell_type": "code",
   "execution_count": 37,
   "id": "88c77d6c",
   "metadata": {},
   "outputs": [],
   "source": [
    "path2 = Path('for1.txt')"
   ]
  },
  {
   "cell_type": "code",
   "execution_count": 38,
   "id": "4e9bd995",
   "metadata": {},
   "outputs": [
    {
     "name": "stdout",
     "output_type": "stream",
     "text": [
      "In python you can write your own functions.\n",
      "In python you can create classes.\n",
      "In python you can store data into lists, tuples, dictionaries, sets etc.\n",
      "In python you can visualize data.\n"
     ]
    }
   ],
   "source": [
    "contents2 = path2.read_text()\n",
    "print(contents2)"
   ]
  },
  {
   "cell_type": "code",
   "execution_count": 39,
   "id": "6b289509",
   "metadata": {},
   "outputs": [],
   "source": [
    "contentbyline2 = contents2.splitlines()"
   ]
  },
  {
   "cell_type": "code",
   "execution_count": 40,
   "id": "abf7d63d",
   "metadata": {},
   "outputs": [
    {
     "name": "stdout",
     "output_type": "stream",
     "text": [
      "In Java you can visualize data.\n",
      "In Java you can visualize data.\n",
      "In Java you can visualize data.\n",
      "In Java you can visualize data.\n"
     ]
    }
   ],
   "source": [
    "for line in contentbyline2:\n",
    "    change = line2.replace('python','Java')\n",
    "    print(change)"
   ]
  },
  {
   "cell_type": "markdown",
   "id": "9412e52a",
   "metadata": {},
   "source": [
    "<h3>10-3. Simpler Code</h3>"
   ]
  },
  {
   "cell_type": "code",
   "execution_count": 44,
   "id": "8f3c0149",
   "metadata": {},
   "outputs": [
    {
     "name": "stdout",
     "output_type": "stream",
     "text": [
      "In python you can write your own functions.\n",
      "In python you can create classes.\n",
      "In python you can store data into lists, tuples, dictionaries, sets etc.\n",
      "In python you can visualize data.\n"
     ]
    }
   ],
   "source": [
    "for line in contents.splitlines():\n",
    "    print(line)"
   ]
  }
 ],
 "metadata": {
  "kernelspec": {
   "display_name": "Python 3 (ipykernel)",
   "language": "python",
   "name": "python3"
  },
  "language_info": {
   "codemirror_mode": {
    "name": "ipython",
    "version": 3
   },
   "file_extension": ".py",
   "mimetype": "text/x-python",
   "name": "python",
   "nbconvert_exporter": "python",
   "pygments_lexer": "ipython3",
   "version": "3.11.4"
  }
 },
 "nbformat": 4,
 "nbformat_minor": 5
}
