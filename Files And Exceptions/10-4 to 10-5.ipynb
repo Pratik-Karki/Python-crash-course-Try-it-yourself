{
 "cells": [
  {
   "cell_type": "markdown",
   "id": "c380d07e",
   "metadata": {},
   "source": [
    "<h3>10-4. Guest</h3>"
   ]
  },
  {
   "cell_type": "code",
   "execution_count": 13,
   "id": "939ef3a2",
   "metadata": {},
   "outputs": [],
   "source": [
    "from pathlib import Path"
   ]
  },
  {
   "cell_type": "code",
   "execution_count": 14,
   "id": "0640ba06",
   "metadata": {},
   "outputs": [],
   "source": [
    "path_to_file = Path('guest.txt')"
   ]
  },
  {
   "cell_type": "code",
   "execution_count": 20,
   "id": "87a9cbaf",
   "metadata": {},
   "outputs": [
    {
     "name": "stdout",
     "output_type": "stream",
     "text": [
      "What is your name? :pratik karki\n"
     ]
    }
   ],
   "source": [
    "name = input(\"What is your name? :\")\n"
   ]
  },
  {
   "cell_type": "code",
   "execution_count": 21,
   "id": "d437fbc7",
   "metadata": {},
   "outputs": [
    {
     "data": {
      "text/plain": [
       "12"
      ]
     },
     "execution_count": 21,
     "metadata": {},
     "output_type": "execute_result"
    }
   ],
   "source": [
    "path_to_file.write_text(name)"
   ]
  },
  {
   "cell_type": "code",
   "execution_count": 22,
   "id": "526cdf0e",
   "metadata": {},
   "outputs": [
    {
     "data": {
      "text/plain": [
       "'pratik karki'"
      ]
     },
     "execution_count": 22,
     "metadata": {},
     "output_type": "execute_result"
    }
   ],
   "source": [
    "path_to_file.read_text()"
   ]
  },
  {
   "cell_type": "markdown",
   "id": "b7fc1ff3",
   "metadata": {},
   "source": [
    "<h3>10-5. Guest Book</h3>"
   ]
  },
  {
   "cell_type": "code",
   "execution_count": 35,
   "id": "04d3d04d",
   "metadata": {},
   "outputs": [
    {
     "name": "stdout",
     "output_type": "stream",
     "text": [
      "what is your name? : \n",
      "pratik\n",
      "what is your name? : \n",
      "summit\n",
      "what is your name? : \n",
      "hrithik\n",
      "what is your name? : \n",
      "shrijana\n",
      "what is your name? : \n",
      "exit\n",
      "\n",
      "Pratik\n",
      "Summit\n",
      "Hrithik\n",
      "Shrijana\n"
     ]
    }
   ],
   "source": [
    "contents = ''\n",
    "path = Path('guest_book.txt')\n",
    "while True:\n",
    "    name = input(\"what is your name? : \\n\")\n",
    "    if name == 'exit':\n",
    "        break\n",
    "    else:\n",
    "        contents += f\"\\n{name.title()}\"\n",
    "    path.write_text(contents)\n",
    "print(path.read_text())\n",
    "\n"
   ]
  }
 ],
 "metadata": {
  "kernelspec": {
   "display_name": "Python 3 (ipykernel)",
   "language": "python",
   "name": "python3"
  },
  "language_info": {
   "codemirror_mode": {
    "name": "ipython",
    "version": 3
   },
   "file_extension": ".py",
   "mimetype": "text/x-python",
   "name": "python",
   "nbconvert_exporter": "python",
   "pygments_lexer": "ipython3",
   "version": "3.11.4"
  }
 },
 "nbformat": 4,
 "nbformat_minor": 5
}
