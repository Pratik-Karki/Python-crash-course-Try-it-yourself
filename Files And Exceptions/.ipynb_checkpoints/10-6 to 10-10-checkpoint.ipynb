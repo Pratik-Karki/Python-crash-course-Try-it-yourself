{
 "cells": [
  {
   "cell_type": "markdown",
   "id": "b34a23c2",
   "metadata": {},
   "source": [
    "<h3>10-6. Addition</h3>"
   ]
  },
  {
   "cell_type": "code",
   "execution_count": 13,
   "id": "be6b2a3e",
   "metadata": {},
   "outputs": [],
   "source": [
    "def addition():\n",
    "    while True:\n",
    "        num1 = input(\"\\nEnter first number: \")\n",
    "        num2 = input(\"Enter second number: \")\n",
    "        if num1 == 'q' or num2 == 'q':\n",
    "            break\n",
    "        try:\n",
    "            result = int(num1)+int(num2)\n",
    "            print(f\"The sum of given numbers is {result}.\")\n",
    "        except:\n",
    "            print(\"Please Enter only numbers\")\n",
    "        "
   ]
  },
  {
   "cell_type": "code",
   "execution_count": 12,
   "id": "14aa1a34",
   "metadata": {},
   "outputs": [
    {
     "name": "stdout",
     "output_type": "stream",
     "text": [
      "\n",
      "Enter first number: 34\n",
      "Enter second number: q\n"
     ]
    }
   ],
   "source": [
    "addition()"
   ]
  },
  {
   "cell_type": "markdown",
   "id": "f8aec143",
   "metadata": {},
   "source": [
    "<h3>10-7. Addition Calculator</h3>"
   ]
  },
  {
   "cell_type": "code",
   "execution_count": 14,
   "id": "9381df22",
   "metadata": {},
   "outputs": [],
   "source": [
    "def additioncalculator():\n",
    "    while True:\n",
    "        num1 = input(\"\\nEnter first number: \")\n",
    "        num2 = input(\"Enter second number: \")\n",
    "        if num1 == 'q' or num2 == 'q':\n",
    "            break\n",
    "        try:\n",
    "            result = int(num1)+int(num2)\n",
    "            print(f\"The sum of given numbers is {result}.\")\n",
    "        except:\n",
    "            pass\n",
    "        "
   ]
  },
  {
   "cell_type": "code",
   "execution_count": 15,
   "id": "89d6db70",
   "metadata": {},
   "outputs": [
    {
     "name": "stdout",
     "output_type": "stream",
     "text": [
      "\n",
      "Enter first number: 23\n",
      "Enter second number: 34\n",
      "The sum of given numbers is 57.\n",
      "\n",
      "Enter first number: 34\n",
      "Enter second number: df\n",
      "\n",
      "Enter first number: 34\n",
      "Enter second number: 56\n",
      "The sum of given numbers is 90.\n",
      "\n",
      "Enter first number: dlk\n",
      "Enter second number: ds\n",
      "\n",
      "Enter first number: q\n",
      "Enter second number: q\n"
     ]
    }
   ],
   "source": [
    "additioncalculator()"
   ]
  },
  {
   "cell_type": "markdown",
   "id": "79e3aecf",
   "metadata": {},
   "source": [
    "<h3>10-8. Cats and Dogs</h3>"
   ]
  },
  {
   "cell_type": "code",
   "execution_count": 16,
   "id": "3f108223",
   "metadata": {},
   "outputs": [],
   "source": [
    "from pathlib import Path"
   ]
  },
  {
   "cell_type": "code",
   "execution_count": 29,
   "id": "a0498be5",
   "metadata": {},
   "outputs": [],
   "source": [
    "def catanddog(file1,file2):   \n",
    "    try:\n",
    "        path1 = Path(file1)\n",
    "        path2 = Path(file2)  \n",
    "        content1 = path1.read_text()\n",
    "        content2 = path2.read_text()\n",
    "        print(content1)\n",
    "        print(content2)\n",
    "    except:\n",
    "        print(\"File not found.\")"
   ]
  },
  {
   "cell_type": "code",
   "execution_count": 30,
   "id": "e90dae3c",
   "metadata": {},
   "outputs": [
    {
     "name": "stdout",
     "output_type": "stream",
     "text": [
      "File not found.\n"
     ]
    }
   ],
   "source": [
    "catanddog('dogs.txt','cats.txt')"
   ]
  },
  {
   "cell_type": "markdown",
   "id": "4aadf851",
   "metadata": {},
   "source": [
    "<h3>10-9. Silent Cats and Dogs</h3>"
   ]
  },
  {
   "cell_type": "code",
   "execution_count": 31,
   "id": "bd74e3d9",
   "metadata": {},
   "outputs": [],
   "source": [
    "def silentcatanddog(file1,file2):   \n",
    "    try:\n",
    "        path1 = Path(file1)\n",
    "        path2 = Path(file2)  \n",
    "        content1 = path1.read_text()\n",
    "        content2 = path2.read_text()\n",
    "        print(content1)\n",
    "        print(content2)\n",
    "    except:\n",
    "        pass"
   ]
  },
  {
   "cell_type": "markdown",
   "id": "e3d4b42c",
   "metadata": {},
   "source": [
    "<h3>10-10. Common Words</h3>"
   ]
  },
  {
   "cell_type": "code",
   "execution_count": 46,
   "id": "34fd92db",
   "metadata": {},
   "outputs": [],
   "source": [
    "path3 = Path('gutenberg.txt')\n",
    "contents = path3.read_text(encoding='utf-8')"
   ]
  },
  {
   "cell_type": "code",
   "execution_count": 49,
   "id": "a2a8c27d",
   "metadata": {},
   "outputs": [
    {
     "data": {
      "text/plain": [
       "9358"
      ]
     },
     "execution_count": 49,
     "metadata": {},
     "output_type": "execute_result"
    }
   ],
   "source": [
    "contents.count('the')"
   ]
  },
  {
   "cell_type": "code",
   "execution_count": 50,
   "id": "01d486c8",
   "metadata": {},
   "outputs": [
    {
     "data": {
      "text/plain": [
       "10198"
      ]
     },
     "execution_count": 50,
     "metadata": {},
     "output_type": "execute_result"
    }
   ],
   "source": [
    "contents.lower().count('the')"
   ]
  },
  {
   "cell_type": "code",
   "execution_count": 51,
   "id": "efa00e78",
   "metadata": {},
   "outputs": [
    {
     "data": {
      "text/plain": [
       "6511"
      ]
     },
     "execution_count": 51,
     "metadata": {},
     "output_type": "execute_result"
    }
   ],
   "source": [
    "contents.count('the ')"
   ]
  }
 ],
 "metadata": {
  "kernelspec": {
   "display_name": "Python 3 (ipykernel)",
   "language": "python",
   "name": "python3"
  },
  "language_info": {
   "codemirror_mode": {
    "name": "ipython",
    "version": 3
   },
   "file_extension": ".py",
   "mimetype": "text/x-python",
   "name": "python",
   "nbconvert_exporter": "python",
   "pygments_lexer": "ipython3",
   "version": "3.11.4"
  }
 },
 "nbformat": 4,
 "nbformat_minor": 5
}
