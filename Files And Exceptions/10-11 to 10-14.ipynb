{
 "cells": [
  {
   "cell_type": "code",
   "execution_count": 1,
   "id": "4245c66b",
   "metadata": {},
   "outputs": [],
   "source": [
    "from pathlib import Path\n",
    "import json"
   ]
  },
  {
   "cell_type": "markdown",
   "id": "35021253",
   "metadata": {},
   "source": [
    "<h3>10-11. Favorite number</h3>"
   ]
  },
  {
   "cell_type": "code",
   "execution_count": 6,
   "id": "548d2044",
   "metadata": {},
   "outputs": [
    {
     "name": "stdout",
     "output_type": "stream",
     "text": [
      "Enter your favorite number: 12000\n"
     ]
    },
    {
     "data": {
      "text/plain": [
       "7"
      ]
     },
     "execution_count": 6,
     "metadata": {},
     "output_type": "execute_result"
    }
   ],
   "source": [
    "favorite_number = input(\"Enter your favorite number: \")\n",
    "path_to_file = Path('favorite_number.json')\n",
    "contents = json.dumps(favorite_number)\n",
    "path_to_file.write_text(contents)"
   ]
  },
  {
   "cell_type": "code",
   "execution_count": 7,
   "id": "849a434f",
   "metadata": {},
   "outputs": [
    {
     "name": "stdout",
     "output_type": "stream",
     "text": [
      "12000\n"
     ]
    }
   ],
   "source": [
    "contents = path_to_file.read_text()\n",
    "read = json.loads(contents)\n",
    "print(read)\n"
   ]
  },
  {
   "cell_type": "markdown",
   "id": "8dc4e534",
   "metadata": {},
   "source": [
    "<h3>10-12 Favorite Number rememnered</h3>"
   ]
  },
  {
   "cell_type": "code",
   "execution_count": null,
   "id": "b0cff1cf",
   "metadata": {},
   "outputs": [],
   "source": []
  }
 ],
 "metadata": {
  "kernelspec": {
   "display_name": "Python 3 (ipykernel)",
   "language": "python",
   "name": "python3"
  },
  "language_info": {
   "codemirror_mode": {
    "name": "ipython",
    "version": 3
   },
   "file_extension": ".py",
   "mimetype": "text/x-python",
   "name": "python",
   "nbconvert_exporter": "python",
   "pygments_lexer": "ipython3",
   "version": "3.11.4"
  }
 },
 "nbformat": 4,
 "nbformat_minor": 5
}
