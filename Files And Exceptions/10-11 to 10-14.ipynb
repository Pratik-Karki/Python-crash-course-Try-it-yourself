{
 "cells": [
  {
   "cell_type": "code",
   "execution_count": 2,
   "id": "4245c66b",
   "metadata": {},
   "outputs": [],
   "source": [
    "from pathlib import Path\n",
    "import json"
   ]
  },
  {
   "cell_type": "markdown",
   "id": "35021253",
   "metadata": {},
   "source": [
    "<h3>10-11. Favorite number</h3>"
   ]
  },
  {
   "cell_type": "code",
   "execution_count": 3,
   "id": "548d2044",
   "metadata": {},
   "outputs": [
    {
     "data": {
      "text/plain": [
       "5"
      ]
     },
     "execution_count": 3,
     "metadata": {},
     "output_type": "execute_result"
    }
   ],
   "source": [
    "favorite_number = input(\"Enter your favorite number: \")\n",
    "path_to_file = Path('favorite_number.json')\n",
    "contents = json.dumps(favorite_number)\n",
    "path_to_file.write_text(contents)"
   ]
  },
  {
   "cell_type": "code",
   "execution_count": 4,
   "id": "849a434f",
   "metadata": {},
   "outputs": [
    {
     "name": "stdout",
     "output_type": "stream",
     "text": [
      "234\n"
     ]
    }
   ],
   "source": [
    "contents = path_to_file.read_text()\n",
    "read = json.loads(contents)\n",
    "print(read)\n"
   ]
  },
  {
   "cell_type": "markdown",
   "id": "8dc4e534",
   "metadata": {},
   "source": [
    "<h3>10-12 Favorite Number remembered</h3>"
   ]
  },
  {
   "cell_type": "code",
   "execution_count": 7,
   "id": "73cbe2fb",
   "metadata": {},
   "outputs": [
    {
     "name": "stdout",
     "output_type": "stream",
     "text": [
      "Favorite number does not exist.\n"
     ]
    }
   ],
   "source": [
    "path_to_file = Path('favorite_number.json')\n",
    "try:\n",
    "    contents = path_to_file.read_text()\n",
    "    read = json.loads(contents)\n",
    "    print(read)\n",
    "except:\n",
    "    print(\"Favorite number does not exist.\")\n",
    "    favorite_number = input(\"Enter your favorite number: \")\n",
    "    contents = json.dumps(favorite_number)\n",
    "    path_to_file.write_text(contents)\n"
   ]
  },
  {
   "cell_type": "markdown",
   "id": "37df9625",
   "metadata": {},
   "source": [
    "<h3>10-13 Verify User </h3>"
   ]
  },
  {
   "cell_type": "code",
   "execution_count": 27,
   "id": "75226299",
   "metadata": {},
   "outputs": [],
   "source": [
    "def get_stored_username():\n",
    "    \"\"\"Get stored username if available.\"\"\"\n",
    "    filename = 'username.json'\n",
    "    try:\n",
    "        with open(filename) as f_obj:\n",
    "            try:\n",
    "                username = json.load(f_obj)\n",
    "            except:\n",
    "                print(\"No any username found. Please Enter.\")\n",
    "                username = get_new_username()\n",
    "    except FileNotFoundError:\n",
    "         print(\"file not found\")\n",
    "\n",
    "         return None\n",
    "    else:\n",
    "        return username\n",
    "    \n",
    "\n",
    "def get_new_username():\n",
    "    \"\"\"Prompt for a new username.\"\"\"\n",
    "    username = input(\"What is your name? \")\n",
    "    filename = 'username.json'\n",
    "    with open(filename, 'w') as f_obj:\n",
    "        json.dump(username, f_obj)\n",
    "    return username\n",
    "\n",
    "\n",
    "def greet_user():\n",
    "    \"\"\"Greet the user by name.\"\"\"\n",
    "    username = get_stored_username()\n",
    "    current_user = input(f\"Are you {username.title()}? yes/no :  \")\n",
    "    if current_user == \"yes\":\n",
    "        print(\"Welcome back, \" + username + \"!\")\n",
    "    else:\n",
    "        username = get_new_username()\n",
    "        print(\"We'll remember you when you come back, \" + username + \"!\")\n"
   ]
  },
  {
   "cell_type": "code",
   "execution_count": 31,
   "id": "d4d60d7c",
   "metadata": {},
   "outputs": [
    {
     "name": "stdout",
     "output_type": "stream",
     "text": [
      "We'll remember you when you come back, pratima!\n"
     ]
    }
   ],
   "source": [
    "greet_user()"
   ]
  },
  {
   "cell_type": "code",
   "execution_count": 32,
   "id": "1c998904",
   "metadata": {},
   "outputs": [
    {
     "name": "stdout",
     "output_type": "stream",
     "text": [
      "Welcome back, pratima!\n"
     ]
    }
   ],
   "source": [
    "greet_user()"
   ]
  }
 ],
 "metadata": {
  "kernelspec": {
   "display_name": "Python 3 (ipykernel)",
   "language": "python",
   "name": "python3"
  },
  "language_info": {
   "codemirror_mode": {
    "name": "ipython",
    "version": 3
   },
   "file_extension": ".py",
   "mimetype": "text/x-python",
   "name": "python",
   "nbconvert_exporter": "python",
   "pygments_lexer": "ipython3",
   "version": "3.7.9"
  }
 },
 "nbformat": 4,
 "nbformat_minor": 5
}
