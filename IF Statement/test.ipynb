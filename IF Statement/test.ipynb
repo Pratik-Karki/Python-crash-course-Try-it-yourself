{
 "cells": [
  {
   "cell_type": "code",
   "execution_count": 3,
   "id": "dbccf8a8-bacc-4ac9-a129-a9c651f724f5",
   "metadata": {},
   "outputs": [],
   "source": [
    "cars = ['toyota','subaru','bmw','daihatsu']"
   ]
  },
  {
   "cell_type": "code",
   "execution_count": 4,
   "id": "58a53474-97c1-4f20-b851-7285e09cdecc",
   "metadata": {},
   "outputs": [
    {
     "name": "stdout",
     "output_type": "stream",
     "text": [
      "TOYOTA\n",
      "Subaru\n",
      "BMW\n",
      "Daihatsu\n"
     ]
    }
   ],
   "source": [
    "for car in cars:\n",
    "    if car == 'bmw' or car == 'toyota':\n",
    "        print(car.upper())\n",
    "    else:\n",
    "        print(car.title())"
   ]
  },
  {
   "cell_type": "code",
   "execution_count": 5,
   "id": "f9af3ace-9e16-4091-aa86-3751e84ede23",
   "metadata": {},
   "outputs": [
    {
     "data": {
      "text/plain": [
       "True"
      ]
     },
     "execution_count": 5,
     "metadata": {},
     "output_type": "execute_result"
    }
   ],
   "source": [
    "'toyota' in cars"
   ]
  },
  {
   "cell_type": "code",
   "execution_count": 6,
   "id": "7839b8a2-67b4-49f1-8537-1f1041393b49",
   "metadata": {},
   "outputs": [],
   "source": [
    "names = ['pratik','pratima','hrithik','summit']"
   ]
  },
  {
   "cell_type": "code",
   "execution_count": 8,
   "id": "0a22fd98-5015-40e8-b864-d00957286d96",
   "metadata": {},
   "outputs": [
    {
     "name": "stdout",
     "output_type": "stream",
     "text": [
      "Pratik\n",
      "PRATIMA\n",
      "HRITHIK\n",
      "SUMMIT\n"
     ]
    }
   ],
   "source": [
    "for name in names:\n",
    "    if name == 'pratik':\n",
    "        print(name.title())\n",
    "    else:\n",
    "        print(name.upper())"
   ]
  },
  {
   "cell_type": "code",
   "execution_count": 9,
   "id": "eaba38c9-544b-453d-8ff7-a8d818d14fc0",
   "metadata": {},
   "outputs": [],
   "source": [
    "age = [14,12,13,15,16,18,45,36]"
   ]
  },
  {
   "cell_type": "code",
   "execution_count": 10,
   "id": "1c2fab94-1bad-4066-b786-91a1be5c6cda",
   "metadata": {},
   "outputs": [
    {
     "name": "stdout",
     "output_type": "stream",
     "text": [
      "Your age is 14, You are too young.\n",
      "Your age is 12, You are too young.\n",
      "Your age is 13, You are too young.\n",
      "Your age is 15, You are too young.\n",
      "Your age is 16, You are too young.\n",
      "Your age is 18, You are too young.\n",
      "your age is 45, You are eligible.\n",
      "your age is 36, You are eligible.\n"
     ]
    }
   ],
   "source": [
    "for ag in age:\n",
    "    if ag <=25:\n",
    "        print(f\"Your age is {ag}, You are too young.\")\n",
    "    else:\n",
    "        print(f\"your age is {ag}, You are eligible.\")"
   ]
  },
  {
   "cell_type": "code",
   "execution_count": 19,
   "id": "3b30261a-198c-4039-a7bc-cec47328130b",
   "metadata": {},
   "outputs": [
    {
     "name": "stdout",
     "output_type": "stream",
     "text": [
      "Your admission fee is 10$.\n"
     ]
    }
   ],
   "source": [
    "age = 17.5\n",
    "if age < 4:\n",
    "    print(\"Your admission is free.\")\n",
    "elif age>=4 and age<=17:\n",
    "    print(\"Your admission fee is 5$.\")\n",
    "else:\n",
    "    print(\"Your admission fee is 10$.\")"
   ]
  },
  {
   "cell_type": "code",
   "execution_count": null,
   "id": "6768bf68-3316-43ba-af7c-aeacc0cc8bc0",
   "metadata": {},
   "outputs": [],
   "source": []
  }
 ],
 "metadata": {
  "kernelspec": {
   "display_name": "Python 3 (ipykernel)",
   "language": "python",
   "name": "python3"
  },
  "language_info": {
   "codemirror_mode": {
    "name": "ipython",
    "version": 3
   },
   "file_extension": ".py",
   "mimetype": "text/x-python",
   "name": "python",
   "nbconvert_exporter": "python",
   "pygments_lexer": "ipython3",
   "version": "3.11.4"
  }
 },
 "nbformat": 4,
 "nbformat_minor": 5
}
