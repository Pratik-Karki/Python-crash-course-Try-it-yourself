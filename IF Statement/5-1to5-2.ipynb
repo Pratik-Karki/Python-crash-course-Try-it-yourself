{
 "cells": [
  {
   "cell_type": "markdown",
   "id": "e877bc7a-7c63-42e3-944f-d7c8cf4f13e4",
   "metadata": {},
   "source": [
    "<h3>Conditional Tests</h3>"
   ]
  },
  {
   "cell_type": "code",
   "execution_count": 1,
   "id": "d97fcb18-5c0a-4f7c-9f27-bf9ec95fc889",
   "metadata": {},
   "outputs": [
    {
     "name": "stdout",
     "output_type": "stream",
     "text": [
      "Is (car == 'toyota')? I predicted True\n",
      "True\n",
      "\n",
      "Is (car != 'toyota')? I predicted False\n",
      "False\n"
     ]
    }
   ],
   "source": [
    "car = 'toyota'\n",
    "print(\"Is (car == 'toyota')? I predicted True\")\n",
    "print(car == 'toyota')\n",
    "print(\"\\nIs (car != 'toyota')? I predicted False\")\n",
    "print(car != 'toyota')"
   ]
  },
  {
   "cell_type": "code",
   "execution_count": 2,
   "id": "90c6aa2a-6061-4321-8b24-6e35926eee38",
   "metadata": {},
   "outputs": [
    {
     "name": "stdout",
     "output_type": "stream",
     "text": [
      "Is number greater than 0. I predicted true\n",
      "True\n",
      "Is number smaller or equal to 1? I predicted true\n",
      "True\n"
     ]
    }
   ],
   "source": [
    "number = 1\n",
    "print(\"Is number greater than 0. I predicted true\")\n",
    "print(number>0)\n",
    "print(\"Is number smaller or equal to 1? I predicted true\")\n",
    "print(number<=1)"
   ]
  },
  {
   "cell_type": "code",
   "execution_count": null,
   "id": "235caa12-984b-4d44-86a0-ab4cea001cc0",
   "metadata": {},
   "outputs": [],
   "source": []
  }
 ],
 "metadata": {
  "kernelspec": {
   "display_name": "Python 3 (ipykernel)",
   "language": "python",
   "name": "python3"
  },
  "language_info": {
   "codemirror_mode": {
    "name": "ipython",
    "version": 3
   },
   "file_extension": ".py",
   "mimetype": "text/x-python",
   "name": "python",
   "nbconvert_exporter": "python",
   "pygments_lexer": "ipython3",
   "version": "3.11.4"
  }
 },
 "nbformat": 4,
 "nbformat_minor": 5
}
