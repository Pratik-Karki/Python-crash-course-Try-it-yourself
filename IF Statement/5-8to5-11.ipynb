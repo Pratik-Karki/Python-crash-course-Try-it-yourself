{
 "cells": [
  {
   "cell_type": "markdown",
   "id": "2a4075f3-1dad-4471-8a26-6e903c8e1ec6",
   "metadata": {},
   "source": [
    "<h3>5-9. Hello Admin</h3>"
   ]
  },
  {
   "cell_type": "code",
   "execution_count": 3,
   "id": "8adf0c03-8cad-4e04-a4b9-a068b3e94b95",
   "metadata": {
    "tags": []
   },
   "outputs": [
    {
     "name": "stdout",
     "output_type": "stream",
     "text": [
      "Welcome! Pratik, thankyou for logging in again.\n",
      "Hello! Admin, would you like to see a status report?\n",
      "Welcome! Pratima, thankyou for logging in again.\n",
      "Welcome! Hrithik, thankyou for logging in again.\n",
      "Welcome! Sumit, thankyou for logging in again.\n",
      "Welcome! Prabin, thankyou for logging in again.\n"
     ]
    }
   ],
   "source": [
    "username = [\"pratik\",\"admin\",\"pratima\",\"hrithik\",\"sumit\",\"prabin\"]\n",
    "for user in username:\n",
    "    if user == \"admin\":\n",
    "        print(f\"Hello! {user.title()}, would you like to see a status report?\")\n",
    "    else: \n",
    "        print(f\"Welcome! {user.title()}, thankyou for logging in again.\")"
   ]
  },
  {
   "cell_type": "markdown",
   "id": "ad30f621-12d8-4d19-bd60-6a30d7f7bb2d",
   "metadata": {},
   "source": [
    "<h3>5-9. No Users</h3>"
   ]
  },
  {
   "cell_type": "code",
   "execution_count": 9,
   "id": "b513a43f-532d-43db-8d63-c39a63c34b64",
   "metadata": {
    "tags": []
   },
   "outputs": [
    {
     "name": "stdout",
     "output_type": "stream",
     "text": [
      "The users list is empty.\n"
     ]
    }
   ],
   "source": [
    "username = []\n",
    "if user  in username:\n",
    "    for user in username:\n",
    "            if user == \"admin\":\n",
    "                print(f\"Hello! {user.title()}, would you like to see a status report?\")\n",
    "            else: \n",
    "                print(f\"Welcome! {user.title()}, thankyou for logging in again.\")\n",
    "else:\n",
    "    print(\"The users list is empty.\")"
   ]
  },
  {
   "cell_type": "code",
   "execution_count": 20,
   "id": "f7ed51bb-ae67-467d-aba4-391f69942ec9",
   "metadata": {
    "tags": []
   },
   "outputs": [
    {
     "name": "stdout",
     "output_type": "stream",
     "text": [
      "This username rahul is available.\n",
      "This username subrat is available.\n",
      "please enter new username for GANI.\n",
      "please enter new username for hrithik.\n",
      "please enter new username for sumit.\n",
      "This username parbat is available.\n"
     ]
    }
   ],
   "source": [
    "current_users = [\"pratik\",\"admin\",\"pratima\",\"hrithik\",\"sumit\",\"prabin\",\"gani\"]\n",
    "new_users = [\"rahul\",\"subrat\",\"GANI\",\"hrithik\",\"sumit\",\"parbat\"]\n",
    "for user in new_users:\n",
    "    if user.lower() in current_users or user in current_users:\n",
    "        print(f\"please enter new username for {user}.\")\n",
    "    else:\n",
    "        print(f\"This username {user} is available.\")"
   ]
  },
  {
   "cell_type": "markdown",
   "id": "5931c531-b542-4be5-a511-37d53279297d",
   "metadata": {},
   "source": [
    "<h3> 5-11. Ordinal Number</h3>\n"
   ]
  },
  {
   "cell_type": "code",
   "execution_count": 27,
   "id": "ebcce28c-40d3-4800-ade7-c3f883293b4a",
   "metadata": {
    "tags": []
   },
   "outputs": [
    {
     "name": "stdout",
     "output_type": "stream",
     "text": [
      "1st\n",
      "2nd\n",
      "3rd\n",
      "4th\n",
      "5th\n",
      "6th\n",
      "7th\n",
      "8th\n",
      "9th\n"
     ]
    }
   ],
   "source": [
    "numbers = list(range(1,10))\n",
    "for number in numbers:\n",
    "    if number == 1:\n",
    "        print(str(number) + \"st\")\n",
    "    elif number == 2:\n",
    "        print(str(number) + \"nd\")\n",
    "    elif number == 3:\n",
    "        print(str(number) + \"rd\")\n",
    "    else:\n",
    "        print(str(number) + \"th\")"
   ]
  },
  {
   "cell_type": "code",
   "execution_count": null,
   "id": "3158c0bf-8c7a-4f20-91fc-e2fff8504119",
   "metadata": {},
   "outputs": [],
   "source": []
  }
 ],
 "metadata": {
  "kernelspec": {
   "display_name": "Python 3 (ipykernel)",
   "language": "python",
   "name": "python3"
  },
  "language_info": {
   "codemirror_mode": {
    "name": "ipython",
    "version": 3
   },
   "file_extension": ".py",
   "mimetype": "text/x-python",
   "name": "python",
   "nbconvert_exporter": "python",
   "pygments_lexer": "ipython3",
   "version": "3.11.4"
  }
 },
 "nbformat": 4,
 "nbformat_minor": 5
}
