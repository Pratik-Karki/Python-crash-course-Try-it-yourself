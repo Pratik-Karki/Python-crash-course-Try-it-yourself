{
 "cells": [
  {
   "cell_type": "markdown",
   "id": "aaf27ad4-ce51-4a57-9931-a6b32ad9aef3",
   "metadata": {},
   "source": [
    "<h3>5-3. Alien colors #1</h3>"
   ]
  },
  {
   "cell_type": "code",
   "execution_count": 6,
   "id": "1f8bdab6-f565-4a4e-9b8e-ceb6ee9328fa",
   "metadata": {
    "tags": []
   },
   "outputs": [],
   "source": [
    "alien_color = \"red\"\n",
    "if alien_color == \"green\":\n",
    "    print(\"You earned 5 points\")"
   ]
  },
  {
   "cell_type": "code",
   "execution_count": 7,
   "id": "9716b9c2-cac2-450f-af0f-d6d626214dce",
   "metadata": {
    "tags": []
   },
   "outputs": [
    {
     "name": "stdout",
     "output_type": "stream",
     "text": [
      "You earned 10 points\n"
     ]
    }
   ],
   "source": [
    "\n",
    "if alien_color == \"red\":\n",
    "    print(\"You earned 10 points\")"
   ]
  },
  {
   "cell_type": "markdown",
   "id": "730f04ad-decf-4ee9-a62d-1633a3c277b4",
   "metadata": {},
   "source": [
    "<h3>5-4. Alien colors #2</h3>"
   ]
  },
  {
   "cell_type": "code",
   "execution_count": 8,
   "id": "730389fb-0284-4a92-9206-368a90b70708",
   "metadata": {
    "tags": []
   },
   "outputs": [
    {
     "name": "stdout",
     "output_type": "stream",
     "text": [
      "You earned 5 points for shooting green alien\n"
     ]
    }
   ],
   "source": [
    "alien_color = \"green\"\n",
    "if alien_color == \"green\":\n",
    "    print(\"You earned 5 points for shooting green alien\")"
   ]
  },
  {
   "cell_type": "code",
   "execution_count": 11,
   "id": "6c030493-ceaa-4bbf-8b1b-748d9f61d4c5",
   "metadata": {
    "tags": []
   },
   "outputs": [
    {
     "name": "stdout",
     "output_type": "stream",
     "text": [
      "You earned 10 points for shooting red alien\n"
     ]
    }
   ],
   "source": [
    "alien_color = \"red\"\n",
    "if alien_color == \"green\":\n",
    "    print(\"You earned 5 points for shooting green alien\")\n",
    "else:\n",
    "    print(\"You earned 10 points for shooting red alien\")"
   ]
  },
  {
   "cell_type": "markdown",
   "id": "33a05fac-30b2-488e-816d-e88077197ad8",
   "metadata": {},
   "source": [
    "<h3>5-5. Alien colors #3</h3>"
   ]
  },
  {
   "cell_type": "code",
   "execution_count": 14,
   "id": "fec84337-81e6-4e5f-977e-451e9d4691fc",
   "metadata": {
    "tags": []
   },
   "outputs": [
    {
     "name": "stdout",
     "output_type": "stream",
     "text": [
      "You earned 5 points\n"
     ]
    }
   ],
   "source": [
    "alien_color = \"green\"\n",
    "if alien_color == \"green\":\n",
    "    print(\"You earned 5 points\")\n",
    "elif alien_color == \"yellow\":\n",
    "    print(\"You earned 10 points\")\n",
    "elif alien_color == \"red\":\n",
    "    print(\"You earned 15 points\")"
   ]
  },
  {
   "cell_type": "code",
   "execution_count": 15,
   "id": "b4e75f1d-3057-44fa-87a9-b0da2f17e0e7",
   "metadata": {
    "tags": []
   },
   "outputs": [
    {
     "name": "stdout",
     "output_type": "stream",
     "text": [
      "You earned 10 points\n"
     ]
    }
   ],
   "source": [
    "alien_color = \"yellow\"\n",
    "if alien_color == \"green\":\n",
    "    print(\"You earned 5 points\")\n",
    "elif alien_color == \"yellow\":\n",
    "    print(\"You earned 10 points\")\n",
    "elif alien_color == \"red\":\n",
    "    print(\"You earned 15 points\")"
   ]
  },
  {
   "cell_type": "code",
   "execution_count": 16,
   "id": "e3d9200d-f4c8-438a-8536-543d877ec4b8",
   "metadata": {
    "tags": []
   },
   "outputs": [
    {
     "name": "stdout",
     "output_type": "stream",
     "text": [
      "You earned 15 points\n"
     ]
    }
   ],
   "source": [
    "alien_color = \"red\"\n",
    "if alien_color == \"green\":\n",
    "    print(\"You earned 5 points\")\n",
    "elif alien_color == \"yellow\":\n",
    "    print(\"You earned 10 points\")\n",
    "elif alien_color == \"red\":\n",
    "    print(\"You earned 15 points\")"
   ]
  },
  {
   "cell_type": "markdown",
   "id": "2c4a0efa-85b7-48b4-8410-c43ba1afef51",
   "metadata": {},
   "source": [
    "<h3>5-6. Stages of Life</h3>"
   ]
  },
  {
   "cell_type": "code",
   "execution_count": 18,
   "id": "45363dd3-7294-4c37-9eec-755e85e61cf4",
   "metadata": {},
   "outputs": [
    {
     "name": "stdout",
     "output_type": "stream",
     "text": [
      "The person is adult.\n"
     ]
    }
   ],
   "source": [
    "age = 26\n",
    "if age < 2:\n",
    "    print(\"The person is baby.\")\n",
    "elif age>=2 and age<4:\n",
    "    print(\"The person is toddler.\")\n",
    "elif age>=4 and age<13:\n",
    "    print(\"The person is kid.\")\n",
    "elif age>=13 and age<20:\n",
    "    print(\"The person is teenager.\")\n",
    "elif age>=20 and age<65:\n",
    "    print(\"The person is adult.\")\n",
    "elif age>=65:\n",
    "    print(\"The person is elder.\")"
   ]
  },
  {
   "cell_type": "markdown",
   "id": "278450ac-013b-4905-8f04-45f866581362",
   "metadata": {},
   "source": [
    "<h3>5-7. Favorite Fruit</h3>"
   ]
  },
  {
   "cell_type": "code",
   "execution_count": 15,
   "id": "f8a17cd7-cbc0-46f7-ba71-06c971ad24f1",
   "metadata": {},
   "outputs": [
    {
     "name": "stdout",
     "output_type": "stream",
     "text": [
      "You really like Banana.\n",
      "I dont like apple.\n",
      "You really like Papaya.\n",
      "You really like Watermelon.\n",
      "You really like Pomogranate.\n"
     ]
    }
   ],
   "source": [
    "fav_fruit = [\"banana\",\"apple\",\"papaya\",\"watermelon\",\"pomogranate\"]\n",
    "\n",
    "for fruit in fav_fruit:\n",
    "    if fruit == \"apple\":\n",
    "        print(\"I dont like apple.\")\n",
    "    else:\n",
    "        print(f\"You really like {fruit.title()}.\")"
   ]
  },
  {
   "cell_type": "code",
   "execution_count": null,
   "id": "cc912e51-bc63-48e1-8ff8-7c047887c5f8",
   "metadata": {},
   "outputs": [],
   "source": []
  }
 ],
 "metadata": {
  "kernelspec": {
   "display_name": "Python 3 (ipykernel)",
   "language": "python",
   "name": "python3"
  },
  "language_info": {
   "codemirror_mode": {
    "name": "ipython",
    "version": 3
   },
   "file_extension": ".py",
   "mimetype": "text/x-python",
   "name": "python",
   "nbconvert_exporter": "python",
   "pygments_lexer": "ipython3",
   "version": "3.11.4"
  }
 },
 "nbformat": 4,
 "nbformat_minor": 5
}
